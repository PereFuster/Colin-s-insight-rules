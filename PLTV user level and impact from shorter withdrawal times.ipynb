{
 "cells": [
  {
   "cell_type": "code",
   "execution_count": null,
   "metadata": {},
   "outputs": [],
   "source": [
    "# Load the DB connection keys\n",
    "bs_token = 'lWYPGrEyZ0xqY7CJGTMx3DP60VBxZ21v7yrHjKguyGtQY2C5z16og6N8zu0R4Mbw'\n",
    "host = 'td.winnerstudio.vip'\n",
    "\n",
    "def pull_data(sql_script, bs_token, host):\n",
    "    data = {\n",
    "        'token':          bs_token,\n",
    "        'format':         'json_object',\n",
    "        'timeoutSeconds': 2000,\n",
    "        'sql':            sql_script\n",
    "    }\n",
    "    data = str(urlencode(data))\n",
    "    response = requests.post(f'http://{host}:8992/querySql?{data}', timeout = 1000000)\n",
    "    # Sample list of JSON strings\n",
    "    json_list = response.text.split('\\n')[1:]\n",
    "    # Convert JSON strings to dictionaries\n",
    "    dict_list = []\n",
    "    for json_str in json_list:\n",
    "        try:\n",
    "            dict_list.append(json.loads(json_str))\n",
    "        except json.JSONDecodeError as e:\n",
    "            print(f\"Error parsing JSON: {e}\")\n",
    "    # Create a pandas DataFrame\n",
    "    data = pd.DataFrame(dict_list).sort_index(axis = 1)\n",
    "    return data\n",
    "\n"
   ]
  },
  {
   "cell_type": "markdown",
   "metadata": {},
   "source": [
    "# Context documentaiont"
   ]
  },
  {
   "cell_type": "markdown",
   "metadata": {},
   "source": [
    "https://pign5cp1eh6.feishu.cn/wiki/CtVIwYTLRinBOOkBvhscoBFDnSc"
   ]
  },
  {
   "cell_type": "markdown",
   "metadata": {},
   "source": [
    "https://pign5cp1eh6.feishu.cn/docx/EKjXd6AUQoFkCSxY24JcUdt4nVe"
   ]
  },
  {
   "cell_type": "markdown",
   "metadata": {},
   "source": [
    "https://pign5cp1eh6.feishu.cn/wiki/Va8awC8E3iWNORkRCWhc0cmFnVf?from=message&source_type=message"
   ]
  },
  {
   "cell_type": "markdown",
   "metadata": {},
   "source": [
    "https://pign5cp1eh6.feishu.cn/wiki/ZeSXwc4PyibRYQkHGiQcpnktnde"
   ]
  },
  {
   "cell_type": "markdown",
   "metadata": {},
   "source": [
    "https://pign5cp1eh6.feishu.cn/wiki/NsYYw7RkUiXliOk1nYucTipZnde"
   ]
  },
  {
   "cell_type": "markdown",
   "metadata": {},
   "source": [
    "https://pign5cp1eh6.feishu.cn/wiki/CtVIwYTLRinBOOkBvhscoBFDnSc"
   ]
  },
  {
   "cell_type": "markdown",
   "metadata": {},
   "source": [
    "### ChatGpt "
   ]
  },
  {
   "cell_type": "markdown",
   "metadata": {},
   "source": [
    "- You need to make sure the objective is clear and generate a set of questions that lead you get the context and lead you to a solution\n",
    "\n"
   ]
  },
  {
   "cell_type": "markdown",
   "metadata": {},
   "source": []
  },
  {
   "cell_type": "markdown",
   "metadata": {},
   "source": [
    "### Start coding "
   ]
  },
  {
   "cell_type": "code",
   "execution_count": null,
   "metadata": {},
   "outputs": [],
   "source": []
  },
  {
   "cell_type": "code",
   "execution_count": null,
   "metadata": {},
   "outputs": [],
   "source": []
  },
  {
   "cell_type": "code",
   "execution_count": null,
   "metadata": {},
   "outputs": [],
   "source": []
  }
 ],
 "metadata": {
  "language_info": {
   "name": "python"
  }
 },
 "nbformat": 4,
 "nbformat_minor": 2
}
