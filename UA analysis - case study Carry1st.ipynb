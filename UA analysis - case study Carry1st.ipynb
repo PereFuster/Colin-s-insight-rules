{
 "cells": [
  {
   "cell_type": "markdown",
   "metadata": {},
   "source": [
    "# Title"
   ]
  },
  {
   "cell_type": "code",
   "execution_count": 28,
   "metadata": {},
   "outputs": [],
   "source": [
    "# Load libraries\n",
    "\n",
    "import os\n",
    "import pandas as pd \n",
    "import plotly.graph_objects as go\n",
    "import plotly.express as px\n",
    "import matplotlib.pyplot as plt\n",
    "import networkx as nx\n"
   ]
  },
  {
   "cell_type": "code",
   "execution_count": 2,
   "metadata": {},
   "outputs": [
    {
     "data": {
      "text/plain": [
       "'C:\\\\Users\\\\Win11\\\\Downloads'"
      ]
     },
     "execution_count": 2,
     "metadata": {},
     "output_type": "execute_result"
    }
   ],
   "source": [
    "# Set the directory to the specified path\n",
    "\n",
    "os.chdir(\"C:/Users/Win11/Downloads/\")\n",
    "\n",
    "# Check\n",
    "current_directory = os.getcwd()\n",
    "current_directory"
   ]
  },
  {
   "cell_type": "markdown",
   "metadata": {},
   "source": [
    "Problem definition: Find 3-4 points that generate some recommendations as to how to optimise UA and improve game monetisation\n",
    "\n",
    "Problem components: \n",
    "* UA can be improve through channel optimisation \n",
    "* UA can be improve through spending allocation \n",
    "\n",
    "Other components: \n",
    "* UA can be improven via "
   ]
  },
  {
   "cell_type": "markdown",
   "metadata": {},
   "source": []
  },
  {
   "cell_type": "markdown",
   "metadata": {},
   "source": [
    "## Dataset"
   ]
  },
  {
   "cell_type": "code",
   "execution_count": 3,
   "metadata": {},
   "outputs": [],
   "source": [
    "# Load the Excel file\n",
    "file_path = 'Sample Data.xlsx'\n",
    "data = pd.read_excel(file_path, sheet_name=0, engine='openpyxl')\n",
    "del data['App']"
   ]
  },
  {
   "cell_type": "code",
   "execution_count": 4,
   "metadata": {},
   "outputs": [
    {
     "name": "stdout",
     "output_type": "stream",
     "text": [
      "\n",
      "--- Dataset Overview ---\n",
      "<class 'pandas.core.frame.DataFrame'>\n",
      "RangeIndex: 3461 entries, 0 to 3460\n",
      "Data columns (total 21 columns):\n",
      " #   Column                    Non-Null Count  Dtype         \n",
      "---  ------                    --------------  -----         \n",
      " 0   MONTH                     3461 non-null   datetime64[ns]\n",
      " 1   PLATFORM                  3461 non-null   object        \n",
      " 2   NETWORK                   3461 non-null   object        \n",
      " 3   COUNTRY                   3449 non-null   object        \n",
      " 4   UA_SPEND                  3461 non-null   float64       \n",
      " 5   UA_IMPRESSIONS            3461 non-null   int64         \n",
      " 6   UA_CLICKS                 3461 non-null   int64         \n",
      " 7   INSTALLS                  3461 non-null   int64         \n",
      " 8   NON_COHORTED_AD_REVENUE   3461 non-null   float64       \n",
      " 9   AD_REVENUE_D1             3461 non-null   float64       \n",
      " 10  AD_REVENUE_D7             3461 non-null   float64       \n",
      " 11  AD_REVENUE_D30            3461 non-null   float64       \n",
      " 12  AD_REVENUE_COHORTED       3461 non-null   float64       \n",
      " 13  NON_COHORTED_IAP_REVENUE  3461 non-null   float64       \n",
      " 14  IAP_REVENUE_D1            3461 non-null   float64       \n",
      " 15  IAP_REVENUE_D7            3461 non-null   float64       \n",
      " 16  IAP_REVENUE_D30           3461 non-null   float64       \n",
      " 17  IAP_REVENUE_COHORTED      3461 non-null   float64       \n",
      " 18  RETAINED_USERS_D1         3461 non-null   int64         \n",
      " 19  RETAINED_USERS_D7         3461 non-null   int64         \n",
      " 20  RETAINED_USERS_D30        3461 non-null   int64         \n",
      "dtypes: datetime64[ns](1), float64(11), int64(6), object(3)\n",
      "memory usage: 567.9+ KB\n",
      "None\n",
      "\n",
      "--- Missing Values ---\n",
      "MONTH                        0\n",
      "PLATFORM                     0\n",
      "NETWORK                      0\n",
      "COUNTRY                     12\n",
      "UA_SPEND                     0\n",
      "UA_IMPRESSIONS               0\n",
      "UA_CLICKS                    0\n",
      "INSTALLS                     0\n",
      "NON_COHORTED_AD_REVENUE      0\n",
      "AD_REVENUE_D1                0\n",
      "AD_REVENUE_D7                0\n",
      "AD_REVENUE_D30               0\n",
      "AD_REVENUE_COHORTED          0\n",
      "NON_COHORTED_IAP_REVENUE     0\n",
      "IAP_REVENUE_D1               0\n",
      "IAP_REVENUE_D7               0\n",
      "IAP_REVENUE_D30              0\n",
      "IAP_REVENUE_COHORTED         0\n",
      "RETAINED_USERS_D1            0\n",
      "RETAINED_USERS_D7            0\n",
      "RETAINED_USERS_D30           0\n",
      "dtype: int64\n",
      "\n",
      "--- Sample 5 Rows ---\n"
     ]
    },
    {
     "data": {
      "text/html": [
       "<div>\n",
       "<style scoped>\n",
       "    .dataframe tbody tr th:only-of-type {\n",
       "        vertical-align: middle;\n",
       "    }\n",
       "\n",
       "    .dataframe tbody tr th {\n",
       "        vertical-align: top;\n",
       "    }\n",
       "\n",
       "    .dataframe thead th {\n",
       "        text-align: right;\n",
       "    }\n",
       "</style>\n",
       "<table border=\"1\" class=\"dataframe\">\n",
       "  <thead>\n",
       "    <tr style=\"text-align: right;\">\n",
       "      <th></th>\n",
       "      <th>MONTH</th>\n",
       "      <th>PLATFORM</th>\n",
       "      <th>NETWORK</th>\n",
       "      <th>COUNTRY</th>\n",
       "      <th>UA_SPEND</th>\n",
       "      <th>UA_IMPRESSIONS</th>\n",
       "      <th>UA_CLICKS</th>\n",
       "      <th>INSTALLS</th>\n",
       "      <th>NON_COHORTED_AD_REVENUE</th>\n",
       "      <th>AD_REVENUE_D1</th>\n",
       "      <th>...</th>\n",
       "      <th>AD_REVENUE_D30</th>\n",
       "      <th>AD_REVENUE_COHORTED</th>\n",
       "      <th>NON_COHORTED_IAP_REVENUE</th>\n",
       "      <th>IAP_REVENUE_D1</th>\n",
       "      <th>IAP_REVENUE_D7</th>\n",
       "      <th>IAP_REVENUE_D30</th>\n",
       "      <th>IAP_REVENUE_COHORTED</th>\n",
       "      <th>RETAINED_USERS_D1</th>\n",
       "      <th>RETAINED_USERS_D7</th>\n",
       "      <th>RETAINED_USERS_D30</th>\n",
       "    </tr>\n",
       "  </thead>\n",
       "  <tbody>\n",
       "    <tr>\n",
       "      <th>1821</th>\n",
       "      <td>2024-07-01</td>\n",
       "      <td>ANDROID</td>\n",
       "      <td>ORGANIC</td>\n",
       "      <td>HK</td>\n",
       "      <td>0.0</td>\n",
       "      <td>0</td>\n",
       "      <td>0</td>\n",
       "      <td>30</td>\n",
       "      <td>2.1914</td>\n",
       "      <td>1.106829</td>\n",
       "      <td>...</td>\n",
       "      <td>1.138849</td>\n",
       "      <td>1.735510</td>\n",
       "      <td>0.0</td>\n",
       "      <td>0.0</td>\n",
       "      <td>0.0</td>\n",
       "      <td>0.0</td>\n",
       "      <td>0.0</td>\n",
       "      <td>2</td>\n",
       "      <td>0</td>\n",
       "      <td>0</td>\n",
       "    </tr>\n",
       "    <tr>\n",
       "      <th>1372</th>\n",
       "      <td>2024-06-01</td>\n",
       "      <td>ANDROID</td>\n",
       "      <td>ADJOE</td>\n",
       "      <td>MM</td>\n",
       "      <td>4.6</td>\n",
       "      <td>1382</td>\n",
       "      <td>157</td>\n",
       "      <td>105</td>\n",
       "      <td>6.0134</td>\n",
       "      <td>4.582861</td>\n",
       "      <td>...</td>\n",
       "      <td>5.982430</td>\n",
       "      <td>6.037479</td>\n",
       "      <td>0.0</td>\n",
       "      <td>0.0</td>\n",
       "      <td>0.0</td>\n",
       "      <td>0.0</td>\n",
       "      <td>0.0</td>\n",
       "      <td>35</td>\n",
       "      <td>6</td>\n",
       "      <td>0</td>\n",
       "    </tr>\n",
       "    <tr>\n",
       "      <th>124</th>\n",
       "      <td>2024-08-01</td>\n",
       "      <td>ANDROID</td>\n",
       "      <td>ORGANIC</td>\n",
       "      <td>BA</td>\n",
       "      <td>0.0</td>\n",
       "      <td>0</td>\n",
       "      <td>0</td>\n",
       "      <td>2</td>\n",
       "      <td>0.0544</td>\n",
       "      <td>0.048892</td>\n",
       "      <td>...</td>\n",
       "      <td>0.049401</td>\n",
       "      <td>0.049401</td>\n",
       "      <td>0.0</td>\n",
       "      <td>0.0</td>\n",
       "      <td>0.0</td>\n",
       "      <td>0.0</td>\n",
       "      <td>0.0</td>\n",
       "      <td>2</td>\n",
       "      <td>0</td>\n",
       "      <td>0</td>\n",
       "    </tr>\n",
       "    <tr>\n",
       "      <th>1118</th>\n",
       "      <td>2024-08-01</td>\n",
       "      <td>ANDROID</td>\n",
       "      <td>MOBSUCCESS</td>\n",
       "      <td>DE</td>\n",
       "      <td>0.0</td>\n",
       "      <td>0</td>\n",
       "      <td>0</td>\n",
       "      <td>0</td>\n",
       "      <td>0.3330</td>\n",
       "      <td>0.000000</td>\n",
       "      <td>...</td>\n",
       "      <td>0.000000</td>\n",
       "      <td>0.000000</td>\n",
       "      <td>0.0</td>\n",
       "      <td>0.0</td>\n",
       "      <td>0.0</td>\n",
       "      <td>0.0</td>\n",
       "      <td>0.0</td>\n",
       "      <td>0</td>\n",
       "      <td>0</td>\n",
       "      <td>0</td>\n",
       "    </tr>\n",
       "    <tr>\n",
       "      <th>1182</th>\n",
       "      <td>2024-07-01</td>\n",
       "      <td>ANDROID</td>\n",
       "      <td>IMPORTED USERS</td>\n",
       "      <td>ZW</td>\n",
       "      <td>0.0</td>\n",
       "      <td>0</td>\n",
       "      <td>0</td>\n",
       "      <td>0</td>\n",
       "      <td>0.0007</td>\n",
       "      <td>0.000000</td>\n",
       "      <td>...</td>\n",
       "      <td>0.000000</td>\n",
       "      <td>0.000000</td>\n",
       "      <td>0.0</td>\n",
       "      <td>0.0</td>\n",
       "      <td>0.0</td>\n",
       "      <td>0.0</td>\n",
       "      <td>0.0</td>\n",
       "      <td>0</td>\n",
       "      <td>0</td>\n",
       "      <td>0</td>\n",
       "    </tr>\n",
       "  </tbody>\n",
       "</table>\n",
       "<p>5 rows × 21 columns</p>\n",
       "</div>"
      ],
      "text/plain": [
       "          MONTH PLATFORM         NETWORK COUNTRY  UA_SPEND  UA_IMPRESSIONS  \\\n",
       "1821 2024-07-01  ANDROID         ORGANIC      HK       0.0               0   \n",
       "1372 2024-06-01  ANDROID           ADJOE      MM       4.6            1382   \n",
       "124  2024-08-01  ANDROID         ORGANIC      BA       0.0               0   \n",
       "1118 2024-08-01  ANDROID      MOBSUCCESS      DE       0.0               0   \n",
       "1182 2024-07-01  ANDROID  IMPORTED USERS      ZW       0.0               0   \n",
       "\n",
       "      UA_CLICKS  INSTALLS  NON_COHORTED_AD_REVENUE  AD_REVENUE_D1  ...  \\\n",
       "1821          0        30                   2.1914       1.106829  ...   \n",
       "1372        157       105                   6.0134       4.582861  ...   \n",
       "124           0         2                   0.0544       0.048892  ...   \n",
       "1118          0         0                   0.3330       0.000000  ...   \n",
       "1182          0         0                   0.0007       0.000000  ...   \n",
       "\n",
       "      AD_REVENUE_D30  AD_REVENUE_COHORTED  NON_COHORTED_IAP_REVENUE  \\\n",
       "1821        1.138849             1.735510                       0.0   \n",
       "1372        5.982430             6.037479                       0.0   \n",
       "124         0.049401             0.049401                       0.0   \n",
       "1118        0.000000             0.000000                       0.0   \n",
       "1182        0.000000             0.000000                       0.0   \n",
       "\n",
       "      IAP_REVENUE_D1  IAP_REVENUE_D7  IAP_REVENUE_D30  IAP_REVENUE_COHORTED  \\\n",
       "1821             0.0             0.0              0.0                   0.0   \n",
       "1372             0.0             0.0              0.0                   0.0   \n",
       "124              0.0             0.0              0.0                   0.0   \n",
       "1118             0.0             0.0              0.0                   0.0   \n",
       "1182             0.0             0.0              0.0                   0.0   \n",
       "\n",
       "      RETAINED_USERS_D1  RETAINED_USERS_D7  RETAINED_USERS_D30  \n",
       "1821                  2                  0                   0  \n",
       "1372                 35                  6                   0  \n",
       "124                   2                  0                   0  \n",
       "1118                  0                  0                   0  \n",
       "1182                  0                  0                   0  \n",
       "\n",
       "[5 rows x 21 columns]"
      ]
     },
     "execution_count": 4,
     "metadata": {},
     "output_type": "execute_result"
    }
   ],
   "source": [
    "# Display basic information about the dataset\n",
    "print(\"\\n--- Dataset Overview ---\")\n",
    "print(data.info())\n",
    "\n",
    "# Check for missing values\n",
    "print(\"\\n--- Missing Values ---\")\n",
    "print(data.isnull().sum())\n",
    "\n",
    "# Display the first few rows of the dataset\n",
    "print(\"\\n--- Sample 5 Rows ---\")\n",
    "data.sample(5)"
   ]
  },
  {
   "cell_type": "code",
   "execution_count": 24,
   "metadata": {},
   "outputs": [
    {
     "name": "stdout",
     "output_type": "stream",
     "text": [
      "2024-06-01 00:00:00\n",
      "2024-08-01 00:00:00\n"
     ]
    }
   ],
   "source": [
    "print(data.MONTH.min())\n",
    "print(data.MONTH.max())"
   ]
  },
  {
   "cell_type": "code",
   "execution_count": 23,
   "metadata": {},
   "outputs": [
    {
     "data": {
      "text/html": [
       "<div>\n",
       "<style scoped>\n",
       "    .dataframe tbody tr th:only-of-type {\n",
       "        vertical-align: middle;\n",
       "    }\n",
       "\n",
       "    .dataframe tbody tr th {\n",
       "        vertical-align: top;\n",
       "    }\n",
       "\n",
       "    .dataframe thead th {\n",
       "        text-align: right;\n",
       "    }\n",
       "</style>\n",
       "<table border=\"1\" class=\"dataframe\">\n",
       "  <thead>\n",
       "    <tr style=\"text-align: right;\">\n",
       "      <th></th>\n",
       "      <th>MONTH</th>\n",
       "      <th>UA_SPEND</th>\n",
       "      <th>UA_IMPRESSIONS</th>\n",
       "      <th>UA_CLICKS</th>\n",
       "      <th>INSTALLS</th>\n",
       "      <th>NON_COHORTED_AD_REVENUE</th>\n",
       "      <th>AD_REVENUE_D1</th>\n",
       "      <th>AD_REVENUE_D7</th>\n",
       "      <th>AD_REVENUE_D30</th>\n",
       "      <th>AD_REVENUE_COHORTED</th>\n",
       "      <th>NON_COHORTED_IAP_REVENUE</th>\n",
       "      <th>IAP_REVENUE_D1</th>\n",
       "      <th>IAP_REVENUE_D7</th>\n",
       "      <th>IAP_REVENUE_D30</th>\n",
       "      <th>IAP_REVENUE_COHORTED</th>\n",
       "      <th>RETAINED_USERS_D1</th>\n",
       "      <th>RETAINED_USERS_D7</th>\n",
       "      <th>RETAINED_USERS_D30</th>\n",
       "    </tr>\n",
       "  </thead>\n",
       "  <tbody>\n",
       "    <tr>\n",
       "      <th>0</th>\n",
       "      <td>2024-06-01</td>\n",
       "      <td>166208.6783</td>\n",
       "      <td>6623535</td>\n",
       "      <td>2612038</td>\n",
       "      <td>245608</td>\n",
       "      <td>89228.6896</td>\n",
       "      <td>47784.687343</td>\n",
       "      <td>62385.682883</td>\n",
       "      <td>74470.176015</td>\n",
       "      <td>82218.725333</td>\n",
       "      <td>2318.238490</td>\n",
       "      <td>551.863435</td>\n",
       "      <td>905.999190</td>\n",
       "      <td>1084.094080</td>\n",
       "      <td>1132.368725</td>\n",
       "      <td>58754</td>\n",
       "      <td>12295</td>\n",
       "      <td>3113</td>\n",
       "    </tr>\n",
       "    <tr>\n",
       "      <th>1</th>\n",
       "      <td>2024-07-01</td>\n",
       "      <td>129055.9154</td>\n",
       "      <td>3637219</td>\n",
       "      <td>1354880</td>\n",
       "      <td>177313</td>\n",
       "      <td>74953.6549</td>\n",
       "      <td>37442.389750</td>\n",
       "      <td>48194.293425</td>\n",
       "      <td>56568.238157</td>\n",
       "      <td>62001.952612</td>\n",
       "      <td>1717.328695</td>\n",
       "      <td>461.428790</td>\n",
       "      <td>906.863045</td>\n",
       "      <td>1243.148120</td>\n",
       "      <td>1460.460565</td>\n",
       "      <td>44604</td>\n",
       "      <td>9048</td>\n",
       "      <td>2349</td>\n",
       "    </tr>\n",
       "    <tr>\n",
       "      <th>2</th>\n",
       "      <td>2024-08-01</td>\n",
       "      <td>57530.8620</td>\n",
       "      <td>1122430</td>\n",
       "      <td>154782</td>\n",
       "      <td>98010</td>\n",
       "      <td>43976.2855</td>\n",
       "      <td>20268.637247</td>\n",
       "      <td>25460.004003</td>\n",
       "      <td>28982.917503</td>\n",
       "      <td>30277.744824</td>\n",
       "      <td>1100.147350</td>\n",
       "      <td>250.943460</td>\n",
       "      <td>328.934785</td>\n",
       "      <td>384.077855</td>\n",
       "      <td>386.619355</td>\n",
       "      <td>25140</td>\n",
       "      <td>4797</td>\n",
       "      <td>961</td>\n",
       "    </tr>\n",
       "  </tbody>\n",
       "</table>\n",
       "</div>"
      ],
      "text/plain": [
       "       MONTH     UA_SPEND  UA_IMPRESSIONS  UA_CLICKS  INSTALLS  \\\n",
       "0 2024-06-01  166208.6783         6623535    2612038    245608   \n",
       "1 2024-07-01  129055.9154         3637219    1354880    177313   \n",
       "2 2024-08-01   57530.8620         1122430     154782     98010   \n",
       "\n",
       "   NON_COHORTED_AD_REVENUE  AD_REVENUE_D1  AD_REVENUE_D7  AD_REVENUE_D30  \\\n",
       "0               89228.6896   47784.687343   62385.682883    74470.176015   \n",
       "1               74953.6549   37442.389750   48194.293425    56568.238157   \n",
       "2               43976.2855   20268.637247   25460.004003    28982.917503   \n",
       "\n",
       "   AD_REVENUE_COHORTED  NON_COHORTED_IAP_REVENUE  IAP_REVENUE_D1  \\\n",
       "0         82218.725333               2318.238490      551.863435   \n",
       "1         62001.952612               1717.328695      461.428790   \n",
       "2         30277.744824               1100.147350      250.943460   \n",
       "\n",
       "   IAP_REVENUE_D7  IAP_REVENUE_D30  IAP_REVENUE_COHORTED  RETAINED_USERS_D1  \\\n",
       "0      905.999190      1084.094080           1132.368725              58754   \n",
       "1      906.863045      1243.148120           1460.460565              44604   \n",
       "2      328.934785       384.077855            386.619355              25140   \n",
       "\n",
       "   RETAINED_USERS_D7  RETAINED_USERS_D30  \n",
       "0              12295                3113  \n",
       "1               9048                2349  \n",
       "2               4797                 961  "
      ]
     },
     "execution_count": 23,
     "metadata": {},
     "output_type": "execute_result"
    }
   ],
   "source": [
    "# Calculate the sum of each metric by month (excluding dimension metrics)\n",
    "metrics_to_sum = [\n",
    "    'UA_SPEND', 'UA_IMPRESSIONS', 'UA_CLICKS', 'INSTALLS',\n",
    "    'NON_COHORTED_AD_REVENUE', 'AD_REVENUE_D1', 'AD_REVENUE_D7', 'AD_REVENUE_D30', 'AD_REVENUE_COHORTED',\n",
    "    'NON_COHORTED_IAP_REVENUE', 'IAP_REVENUE_D1', 'IAP_REVENUE_D7', 'IAP_REVENUE_D30', 'IAP_REVENUE_COHORTED',\n",
    "    'RETAINED_USERS_D1', 'RETAINED_USERS_D7', 'RETAINED_USERS_D30'\n",
    "]\n",
    "\n",
    "# Group by MONTH and calculate the sum for specified metrics\n",
    "monthly_sums = data.groupby('MONTH')[metrics_to_sum].sum().reset_index()\n",
    "monthly_sums\n"
   ]
  },
  {
   "cell_type": "code",
   "execution_count": 25,
   "metadata": {},
   "outputs": [
    {
     "data": {
      "text/html": [
       "<div>\n",
       "<style scoped>\n",
       "    .dataframe tbody tr th:only-of-type {\n",
       "        vertical-align: middle;\n",
       "    }\n",
       "\n",
       "    .dataframe tbody tr th {\n",
       "        vertical-align: top;\n",
       "    }\n",
       "\n",
       "    .dataframe thead th {\n",
       "        text-align: right;\n",
       "    }\n",
       "</style>\n",
       "<table border=\"1\" class=\"dataframe\">\n",
       "  <thead>\n",
       "    <tr style=\"text-align: right;\">\n",
       "      <th></th>\n",
       "      <th>MONTH</th>\n",
       "      <th>UA_SPEND</th>\n",
       "      <th>UA_IMPRESSIONS</th>\n",
       "      <th>UA_CLICKS</th>\n",
       "      <th>INSTALLS</th>\n",
       "      <th>NON_COHORTED_AD_REVENUE</th>\n",
       "      <th>AD_REVENUE_D1</th>\n",
       "      <th>AD_REVENUE_D7</th>\n",
       "      <th>AD_REVENUE_D30</th>\n",
       "      <th>AD_REVENUE_COHORTED</th>\n",
       "      <th>NON_COHORTED_IAP_REVENUE</th>\n",
       "      <th>IAP_REVENUE_D1</th>\n",
       "      <th>IAP_REVENUE_D7</th>\n",
       "      <th>IAP_REVENUE_D30</th>\n",
       "      <th>IAP_REVENUE_COHORTED</th>\n",
       "      <th>RETAINED_USERS_D1</th>\n",
       "      <th>RETAINED_USERS_D7</th>\n",
       "      <th>RETAINED_USERS_D30</th>\n",
       "    </tr>\n",
       "  </thead>\n",
       "  <tbody>\n",
       "    <tr>\n",
       "      <th>1</th>\n",
       "      <td>2024-07-01</td>\n",
       "      <td>-22.353082</td>\n",
       "      <td>-45.086438</td>\n",
       "      <td>-48.129392</td>\n",
       "      <td>-27.806505</td>\n",
       "      <td>-15.998257</td>\n",
       "      <td>-21.643539</td>\n",
       "      <td>-22.747831</td>\n",
       "      <td>-24.039070</td>\n",
       "      <td>-24.589013</td>\n",
       "      <td>-25.920965</td>\n",
       "      <td>-16.387142</td>\n",
       "      <td>0.095348</td>\n",
       "      <td>14.671609</td>\n",
       "      <td>28.973940</td>\n",
       "      <td>-24.083467</td>\n",
       "      <td>-26.409109</td>\n",
       "      <td>-24.542242</td>\n",
       "    </tr>\n",
       "    <tr>\n",
       "      <th>2</th>\n",
       "      <td>2024-08-01</td>\n",
       "      <td>-65.386367</td>\n",
       "      <td>-83.053913</td>\n",
       "      <td>-94.074282</td>\n",
       "      <td>-60.094948</td>\n",
       "      <td>-50.715083</td>\n",
       "      <td>-57.583405</td>\n",
       "      <td>-59.189348</td>\n",
       "      <td>-61.081175</td>\n",
       "      <td>-63.174150</td>\n",
       "      <td>-52.543823</td>\n",
       "      <td>-54.527978</td>\n",
       "      <td>-63.693700</td>\n",
       "      <td>-64.571538</td>\n",
       "      <td>-65.857468</td>\n",
       "      <td>-57.211424</td>\n",
       "      <td>-60.984140</td>\n",
       "      <td>-69.129457</td>\n",
       "    </tr>\n",
       "  </tbody>\n",
       "</table>\n",
       "</div>"
      ],
      "text/plain": [
       "       MONTH   UA_SPEND  UA_IMPRESSIONS  UA_CLICKS   INSTALLS  \\\n",
       "1 2024-07-01 -22.353082      -45.086438 -48.129392 -27.806505   \n",
       "2 2024-08-01 -65.386367      -83.053913 -94.074282 -60.094948   \n",
       "\n",
       "   NON_COHORTED_AD_REVENUE  AD_REVENUE_D1  AD_REVENUE_D7  AD_REVENUE_D30  \\\n",
       "1               -15.998257     -21.643539     -22.747831      -24.039070   \n",
       "2               -50.715083     -57.583405     -59.189348      -61.081175   \n",
       "\n",
       "   AD_REVENUE_COHORTED  NON_COHORTED_IAP_REVENUE  IAP_REVENUE_D1  \\\n",
       "1           -24.589013                -25.920965      -16.387142   \n",
       "2           -63.174150                -52.543823      -54.527978   \n",
       "\n",
       "   IAP_REVENUE_D7  IAP_REVENUE_D30  IAP_REVENUE_COHORTED  RETAINED_USERS_D1  \\\n",
       "1        0.095348        14.671609             28.973940         -24.083467   \n",
       "2      -63.693700       -64.571538            -65.857468         -57.211424   \n",
       "\n",
       "   RETAINED_USERS_D7  RETAINED_USERS_D30  \n",
       "1         -26.409109          -24.542242  \n",
       "2         -60.984140          -69.129457  "
      ]
     },
     "execution_count": 25,
     "metadata": {},
     "output_type": "execute_result"
    }
   ],
   "source": [
    "# Calculate the percentual increase with respect to the first month\n",
    "\n",
    "# Exclude the first month since there's no prior data for comparison\n",
    "base_month = monthly_sums.iloc[0]\n",
    "percentual_increase = monthly_sums.iloc[1:].copy()\n",
    "\n",
    "# Calculate the percentual increase for each metric\n",
    "for metric in metrics_to_sum:\n",
    "    percentual_increase[metric] = (\n",
    "        (percentual_increase[metric] - base_month[metric]) / base_month[metric]\n",
    "    ) * 100\n",
    "\n",
    "percentual_increase"
   ]
  },
  {
   "cell_type": "code",
   "execution_count": 8,
   "metadata": {},
   "outputs": [
    {
     "name": "stdout",
     "output_type": "stream",
     "text": [
      "2024-06-01 00:00:00\n",
      "2024-08-01 00:00:00\n"
     ]
    }
   ],
   "source": []
  },
  {
   "cell_type": "markdown",
   "metadata": {},
   "source": [
    "### Some checks"
   ]
  },
  {
   "cell_type": "code",
   "execution_count": 21,
   "metadata": {},
   "outputs": [
    {
     "data": {
      "text/html": [
       "<div>\n",
       "<style scoped>\n",
       "    .dataframe tbody tr th:only-of-type {\n",
       "        vertical-align: middle;\n",
       "    }\n",
       "\n",
       "    .dataframe tbody tr th {\n",
       "        vertical-align: top;\n",
       "    }\n",
       "\n",
       "    .dataframe thead th {\n",
       "        text-align: right;\n",
       "    }\n",
       "</style>\n",
       "<table border=\"1\" class=\"dataframe\">\n",
       "  <thead>\n",
       "    <tr style=\"text-align: right;\">\n",
       "      <th></th>\n",
       "      <th>UA_SPEND</th>\n",
       "      <th>INSTALLS</th>\n",
       "      <th>IAP_REVENUE_D30</th>\n",
       "      <th>AD_REVENUE_D30</th>\n",
       "    </tr>\n",
       "    <tr>\n",
       "      <th>NETWORK</th>\n",
       "      <th></th>\n",
       "      <th></th>\n",
       "      <th></th>\n",
       "      <th></th>\n",
       "    </tr>\n",
       "  </thead>\n",
       "  <tbody>\n",
       "    <tr>\n",
       "      <th>ADACTION</th>\n",
       "      <td>88913.8000</td>\n",
       "      <td>52549</td>\n",
       "      <td>675.217390</td>\n",
       "      <td>38521.061322</td>\n",
       "    </tr>\n",
       "    <tr>\n",
       "      <th>ADJOE</th>\n",
       "      <td>121356.9150</td>\n",
       "      <td>210486</td>\n",
       "      <td>309.439525</td>\n",
       "      <td>55061.937438</td>\n",
       "    </tr>\n",
       "    <tr>\n",
       "      <th>APPLE SEARCH ADS</th>\n",
       "      <td>0.0000</td>\n",
       "      <td>1</td>\n",
       "      <td>0.000000</td>\n",
       "      <td>1.072531</td>\n",
       "    </tr>\n",
       "    <tr>\n",
       "      <th>APPLOVIN</th>\n",
       "      <td>92719.6938</td>\n",
       "      <td>182060</td>\n",
       "      <td>468.080380</td>\n",
       "      <td>38196.082071</td>\n",
       "    </tr>\n",
       "    <tr>\n",
       "      <th>AURA IRONSOURCE</th>\n",
       "      <td>13.9469</td>\n",
       "      <td>117</td>\n",
       "      <td>0.000000</td>\n",
       "      <td>2.044290</td>\n",
       "    </tr>\n",
       "    <tr>\n",
       "      <th>BLIND FERRET ENGAGE</th>\n",
       "      <td>20310.5000</td>\n",
       "      <td>5490</td>\n",
       "      <td>70.836620</td>\n",
       "      <td>6448.824386</td>\n",
       "    </tr>\n",
       "    <tr>\n",
       "      <th>CARRY1ST WEBSITE (CUSTOM)</th>\n",
       "      <td>0.0000</td>\n",
       "      <td>11</td>\n",
       "      <td>0.000000</td>\n",
       "      <td>16.389774</td>\n",
       "    </tr>\n",
       "    <tr>\n",
       "      <th>IMPORTED USERS</th>\n",
       "      <td>0.0000</td>\n",
       "      <td>0</td>\n",
       "      <td>0.000000</td>\n",
       "      <td>0.000000</td>\n",
       "    </tr>\n",
       "    <tr>\n",
       "      <th>IRONSOURCE</th>\n",
       "      <td>0.0000</td>\n",
       "      <td>0</td>\n",
       "      <td>0.000000</td>\n",
       "      <td>0.000000</td>\n",
       "    </tr>\n",
       "    <tr>\n",
       "      <th>MINTEGRAL INTERNATIONAL LIMITED</th>\n",
       "      <td>0.0000</td>\n",
       "      <td>0</td>\n",
       "      <td>0.000000</td>\n",
       "      <td>0.000000</td>\n",
       "    </tr>\n",
       "    <tr>\n",
       "      <th>MISTPLAY</th>\n",
       "      <td>0.0000</td>\n",
       "      <td>0</td>\n",
       "      <td>0.000000</td>\n",
       "      <td>0.000000</td>\n",
       "    </tr>\n",
       "    <tr>\n",
       "      <th>MOBSUCCESS</th>\n",
       "      <td>0.0000</td>\n",
       "      <td>0</td>\n",
       "      <td>0.000000</td>\n",
       "      <td>0.000000</td>\n",
       "    </tr>\n",
       "    <tr>\n",
       "      <th>MOLOCO</th>\n",
       "      <td>0.0000</td>\n",
       "      <td>0</td>\n",
       "      <td>0.000000</td>\n",
       "      <td>0.000000</td>\n",
       "    </tr>\n",
       "    <tr>\n",
       "      <th>ORGANIC</th>\n",
       "      <td>0.0000</td>\n",
       "      <td>55544</td>\n",
       "      <td>997.420515</td>\n",
       "      <td>8990.345293</td>\n",
       "    </tr>\n",
       "    <tr>\n",
       "      <th>SHAREIT</th>\n",
       "      <td>0.0000</td>\n",
       "      <td>0</td>\n",
       "      <td>0.000000</td>\n",
       "      <td>0.000000</td>\n",
       "    </tr>\n",
       "    <tr>\n",
       "      <th>TAPJOY</th>\n",
       "      <td>0.0000</td>\n",
       "      <td>0</td>\n",
       "      <td>0.000000</td>\n",
       "      <td>0.000000</td>\n",
       "    </tr>\n",
       "    <tr>\n",
       "      <th>TIKTOK</th>\n",
       "      <td>0.0000</td>\n",
       "      <td>0</td>\n",
       "      <td>0.000000</td>\n",
       "      <td>0.000000</td>\n",
       "    </tr>\n",
       "    <tr>\n",
       "      <th>TYRADS</th>\n",
       "      <td>29480.6000</td>\n",
       "      <td>14673</td>\n",
       "      <td>190.325625</td>\n",
       "      <td>12783.574570</td>\n",
       "    </tr>\n",
       "    <tr>\n",
       "      <th>UNITY ADS</th>\n",
       "      <td>0.0000</td>\n",
       "      <td>0</td>\n",
       "      <td>0.000000</td>\n",
       "      <td>0.000000</td>\n",
       "    </tr>\n",
       "  </tbody>\n",
       "</table>\n",
       "</div>"
      ],
      "text/plain": [
       "                                    UA_SPEND  INSTALLS  IAP_REVENUE_D30  \\\n",
       "NETWORK                                                                   \n",
       "ADACTION                          88913.8000     52549       675.217390   \n",
       "ADJOE                            121356.9150    210486       309.439525   \n",
       "APPLE SEARCH ADS                      0.0000         1         0.000000   \n",
       "APPLOVIN                          92719.6938    182060       468.080380   \n",
       "AURA IRONSOURCE                      13.9469       117         0.000000   \n",
       "BLIND FERRET ENGAGE               20310.5000      5490        70.836620   \n",
       "CARRY1ST WEBSITE (CUSTOM)             0.0000        11         0.000000   \n",
       "IMPORTED USERS                        0.0000         0         0.000000   \n",
       "IRONSOURCE                            0.0000         0         0.000000   \n",
       "MINTEGRAL INTERNATIONAL LIMITED       0.0000         0         0.000000   \n",
       "MISTPLAY                              0.0000         0         0.000000   \n",
       "MOBSUCCESS                            0.0000         0         0.000000   \n",
       "MOLOCO                                0.0000         0         0.000000   \n",
       "ORGANIC                               0.0000     55544       997.420515   \n",
       "SHAREIT                               0.0000         0         0.000000   \n",
       "TAPJOY                                0.0000         0         0.000000   \n",
       "TIKTOK                                0.0000         0         0.000000   \n",
       "TYRADS                            29480.6000     14673       190.325625   \n",
       "UNITY ADS                             0.0000         0         0.000000   \n",
       "\n",
       "                                 AD_REVENUE_D30  \n",
       "NETWORK                                          \n",
       "ADACTION                           38521.061322  \n",
       "ADJOE                              55061.937438  \n",
       "APPLE SEARCH ADS                       1.072531  \n",
       "APPLOVIN                           38196.082071  \n",
       "AURA IRONSOURCE                        2.044290  \n",
       "BLIND FERRET ENGAGE                 6448.824386  \n",
       "CARRY1ST WEBSITE (CUSTOM)             16.389774  \n",
       "IMPORTED USERS                         0.000000  \n",
       "IRONSOURCE                             0.000000  \n",
       "MINTEGRAL INTERNATIONAL LIMITED        0.000000  \n",
       "MISTPLAY                               0.000000  \n",
       "MOBSUCCESS                             0.000000  \n",
       "MOLOCO                                 0.000000  \n",
       "ORGANIC                             8990.345293  \n",
       "SHAREIT                                0.000000  \n",
       "TAPJOY                                 0.000000  \n",
       "TIKTOK                                 0.000000  \n",
       "TYRADS                             12783.574570  \n",
       "UNITY ADS                              0.000000  "
      ]
     },
     "execution_count": 21,
     "metadata": {},
     "output_type": "execute_result"
    }
   ],
   "source": [
    "data.groupby(['NETWORK'])[['UA_SPEND', 'INSTALLS', 'IAP_REVENUE_D30', 'AD_REVENUE_D30']].sum()"
   ]
  },
  {
   "cell_type": "code",
   "execution_count": 22,
   "metadata": {},
   "outputs": [
    {
     "name": "stderr",
     "output_type": "stream",
     "text": [
      "C:\\Users\\Win11\\AppData\\Local\\Temp\\ipykernel_576\\3944345727.py:6: UserWarning: Boolean Series key will be reindexed to match DataFrame index.\n",
      "  spending_positive = data[data['UA_SPEND'] == 0][data['NETWORK'] != 'ORGANIC']\n"
     ]
    },
    {
     "data": {
      "text/plain": [
       "np.float64(0.0018608169115166518)"
      ]
     },
     "execution_count": 22,
     "metadata": {},
     "output_type": "execute_result"
    }
   ],
   "source": [
    "# Analyse the cases where spending is > 0 \n",
    "# Analyse the cases where ad revenue is greater to a posterior ad revenue\n",
    "# Analyse the cases where iap revenue is greater to a posterior ad revenue\n",
    "\n",
    "# Analyze cases where spending is > 0\n",
    "spending_positive = data[data['UA_SPEND'] == 0][data['NETWORK'] != 'ORGANIC']\n",
    "spending_positive['IAP_REVENUE_D30'].sum() / data['IAP_REVENUE_D30'][data['NETWORK'] != 'ORGANIC'].sum()\n",
    "spending_positive['AD_REVENUE_D30'].sum() / data['AD_REVENUE_D30'][data['NETWORK'] != 'ORGANIC'].sum()\n",
    "spending_positive['INSTALLS'].sum() / data['INSTALLS'][data['NETWORK'] != 'ORGANIC'].sum()\n",
    "\n",
    "\n",
    "# What does it mean IMPORTED USERS?\n"
   ]
  },
  {
   "cell_type": "code",
   "execution_count": null,
   "metadata": {},
   "outputs": [],
   "source": [
    "# Analyze cases where ad revenue is greater than posterior ad revenue\n",
    "ad_revenue_greater = data[\n",
    "    (data['NON_COHORTED_AD_REVENUE'] > data['AD_REVENUE_D1']) &\n",
    "    (data['NON_COHORTED_AD_REVENUE'] > data['AD_REVENUE_D7']) &\n",
    "    (data['NON_COHORTED_AD_REVENUE'] > data['AD_REVENUE_D30'])\n",
    "]\n",
    "\n",
    "# Analyze cases where IAP revenue is greater than posterior ad revenue\n",
    "iap_revenue_greater = data[\n",
    "    (data['NON_COHORTED_IAP_REVENUE'] > data['AD_REVENUE_D1']) &\n",
    "    (data['NON_COHORTED_IAP_REVENUE'] > data['AD_REVENUE_D7']) &\n",
    "    (data['NON_COHORTED_IAP_REVENUE'] > data['AD_REVENUE_D30'])\n",
    "]"
   ]
  },
  {
   "cell_type": "markdown",
   "metadata": {},
   "source": [
    "# Exploratory data analysis "
   ]
  },
  {
   "cell_type": "markdown",
   "metadata": {},
   "source": [
    "### Response analysis"
   ]
  },
  {
   "cell_type": "markdown",
   "metadata": {},
   "source": [
    "\n",
    "\n",
    "\n",
    "\n",
    "\n",
    "\n",
    "\n",
    "\n"
   ]
  },
  {
   "cell_type": "markdown",
   "metadata": {},
   "source": [
    "### Spending analysis "
   ]
  },
  {
   "cell_type": "code",
   "execution_count": 20,
   "metadata": {},
   "outputs": [
    {
     "data": {
      "text/html": [
       "<div>\n",
       "<style scoped>\n",
       "    .dataframe tbody tr th:only-of-type {\n",
       "        vertical-align: middle;\n",
       "    }\n",
       "\n",
       "    .dataframe tbody tr th {\n",
       "        vertical-align: top;\n",
       "    }\n",
       "\n",
       "    .dataframe thead th {\n",
       "        text-align: right;\n",
       "    }\n",
       "</style>\n",
       "<table border=\"1\" class=\"dataframe\">\n",
       "  <thead>\n",
       "    <tr style=\"text-align: right;\">\n",
       "      <th></th>\n",
       "      <th>PLATFORM</th>\n",
       "      <th>NETWORK</th>\n",
       "      <th>COUNTRY</th>\n",
       "      <th>UA_SPEND</th>\n",
       "    </tr>\n",
       "  </thead>\n",
       "  <tbody>\n",
       "    <tr>\n",
       "      <th>54</th>\n",
       "      <td>ANDROID</td>\n",
       "      <td>ADACTION</td>\n",
       "      <td>US</td>\n",
       "      <td>59921.000</td>\n",
       "    </tr>\n",
       "    <tr>\n",
       "      <th>71</th>\n",
       "      <td>ANDROID</td>\n",
       "      <td>ADJOE</td>\n",
       "      <td>AR</td>\n",
       "      <td>1301.635</td>\n",
       "    </tr>\n",
       "    <tr>\n",
       "      <th>74</th>\n",
       "      <td>ANDROID</td>\n",
       "      <td>ADJOE</td>\n",
       "      <td>AU</td>\n",
       "      <td>1242.480</td>\n",
       "    </tr>\n",
       "    <tr>\n",
       "      <th>94</th>\n",
       "      <td>ANDROID</td>\n",
       "      <td>ADJOE</td>\n",
       "      <td>CA</td>\n",
       "      <td>3710.700</td>\n",
       "    </tr>\n",
       "    <tr>\n",
       "      <th>110</th>\n",
       "      <td>ANDROID</td>\n",
       "      <td>ADJOE</td>\n",
       "      <td>DE</td>\n",
       "      <td>3937.600</td>\n",
       "    </tr>\n",
       "  </tbody>\n",
       "</table>\n",
       "</div>"
      ],
      "text/plain": [
       "    PLATFORM   NETWORK COUNTRY   UA_SPEND\n",
       "54   ANDROID  ADACTION      US  59921.000\n",
       "71   ANDROID     ADJOE      AR   1301.635\n",
       "74   ANDROID     ADJOE      AU   1242.480\n",
       "94   ANDROID     ADJOE      CA   3710.700\n",
       "110  ANDROID     ADJOE      DE   3937.600"
      ]
     },
     "execution_count": 20,
     "metadata": {},
     "output_type": "execute_result"
    }
   ],
   "source": [
    "# Prepare data for Sankey diagram\n",
    "grouped_data = data.groupby(['PLATFORM', 'NETWORK', 'COUNTRY'])['UA_SPEND'].sum().reset_index()\n",
    "grouped_data = grouped_data[grouped_data['UA_SPEND'] > 1000]\n",
    "grouped_data.head()"
   ]
  },
  {
   "cell_type": "code",
   "execution_count": 23,
   "metadata": {},
   "outputs": [],
   "source": [
    "\n",
    "# Extract unique values and create indices\n",
    "platforms = grouped_data['PLATFORM'].unique()\n",
    "networks = grouped_data['NETWORK'].unique()\n",
    "countries = grouped_data['COUNTRY'].unique()\n",
    "\n",
    "nodes = list(apps) + list(platforms) + list(networks) + list(countries)\n",
    "node_indices = {node: i for i, node in enumerate(nodes)}\n",
    "\n",
    "source, target, value = [], [], []\n",
    "\n",
    "# Platform -> Network\n",
    "for _, row in grouped_data.iterrows():\n",
    "    source.append(node_indices[row['PLATFORM']])\n",
    "    target.append(node_indices[row['NETWORK']])\n",
    "    value.append(row['UA_SPEND'])\n",
    "\n",
    "# Network -> Country\n",
    "for _, row in grouped_data.iterrows():\n",
    "    source.append(node_indices[row['NETWORK']])\n",
    "    target.append(node_indices[row['COUNTRY']])\n",
    "    value.append(row['UA_SPEND'])\n"
   ]
  },
  {
   "cell_type": "code",
   "execution_count": 27,
   "metadata": {},
   "outputs": [
    {
     "data": {
      "application/vnd.plotly.v1+json": {
       "config": {
        "plotlyServerURL": "https://plot.ly"
       },
       "data": [
        {
         "link": {
          "source": [
           1,
           1,
           1,
           1,
           1,
           1,
           1,
           1,
           1,
           1,
           1,
           1,
           1,
           1,
           1,
           1,
           1,
           1,
           1,
           1,
           1,
           1,
           1,
           1,
           1,
           1,
           1,
           1,
           1,
           1,
           1,
           1,
           1,
           1,
           1,
           1,
           1,
           1,
           1,
           1,
           1,
           1,
           2,
           2,
           2,
           2,
           2,
           2,
           3,
           4,
           4,
           4,
           4,
           4,
           4,
           4,
           4,
           4,
           4,
           4,
           4,
           4,
           4,
           4,
           4,
           4,
           4,
           4,
           4,
           4,
           4,
           5,
           5,
           5,
           5,
           5,
           5,
           5,
           5,
           5,
           5,
           5,
           5,
           5,
           5,
           6,
           6,
           7,
           7,
           7,
           3,
           3,
           3,
           3,
           4,
           7
          ],
          "target": [
           3,
           4,
           4,
           4,
           4,
           4,
           4,
           4,
           4,
           4,
           4,
           4,
           4,
           4,
           4,
           4,
           4,
           4,
           4,
           4,
           4,
           4,
           4,
           5,
           5,
           5,
           5,
           5,
           5,
           5,
           5,
           5,
           5,
           5,
           5,
           5,
           5,
           6,
           6,
           7,
           7,
           7,
           3,
           3,
           3,
           3,
           4,
           7,
           8,
           9,
           10,
           11,
           12,
           13,
           14,
           15,
           16,
           17,
           18,
           19,
           20,
           21,
           22,
           23,
           24,
           25,
           26,
           27,
           28,
           8,
           29,
           10,
           30,
           11,
           12,
           14,
           16,
           17,
           19,
           20,
           31,
           32,
           33,
           34,
           8,
           10,
           8,
           31,
           34,
           8,
           10,
           12,
           17,
           8,
           8,
           8
          ],
          "value": [
           59921,
           1301.635,
           1242.48,
           3710.7,
           3937.6000000000004,
           1069.97,
           8570.95,
           1530.8,
           7500.779999999999,
           9761.366,
           2423.25,
           6248.24,
           1374,
           3246,
           2175.3,
           5160.96,
           4539.6,
           2521.5,
           1045,
           1055.25,
           1012.8,
           25403.234,
           1332.39,
           2298.0071,
           4920.7059,
           1238.7193,
           6156.0441,
           1880.19,
           2351.6596,
           5340.097,
           1828.4942999999998,
           3442.1007999999997,
           1612.8941,
           1454.6502,
           15363.094700000001,
           1401.5917,
           33378.583399999996,
           1095.75,
           18875,
           2570.7,
           1206.72,
           15241.95,
           1620,
           3273.6,
           2350,
           18604,
           6632.24,
           8544.61,
           59921,
           1301.635,
           1242.48,
           3710.7,
           3937.6000000000004,
           1069.97,
           8570.95,
           1530.8,
           7500.779999999999,
           9761.366,
           2423.25,
           6248.24,
           1374,
           3246,
           2175.3,
           5160.96,
           4539.6,
           2521.5,
           1045,
           1055.25,
           1012.8,
           25403.234,
           1332.39,
           2298.0071,
           4920.7059,
           1238.7193,
           6156.0441,
           1880.19,
           2351.6596,
           5340.097,
           1828.4942999999998,
           3442.1007999999997,
           1612.8941,
           1454.6502,
           15363.094700000001,
           1401.5917,
           33378.583399999996,
           1095.75,
           18875,
           2570.7,
           1206.72,
           15241.95,
           1620,
           3273.6,
           2350,
           18604,
           6632.24,
           8544.61
          ]
         },
         "node": {
          "label": [
           "Sample product",
           "ANDROID",
           "IOS",
           "ADACTION",
           "ADJOE",
           "APPLOVIN",
           "BLIND FERRET ENGAGE",
           "TYRADS",
           "US",
           "AR",
           "AU",
           "CA",
           "DE",
           "EC",
           "ES",
           "ET",
           "FR",
           "GB",
           "GH",
           "IT",
           "JP",
           "MY",
           "PA",
           "PL",
           "PT",
           "SA",
           "SE",
           "TH",
           "UG",
           "VN",
           "BR",
           "KR",
           "MX",
           "RU",
           "TW"
          ],
          "line": {
           "color": "black",
           "width": 0.5
          },
          "pad": 15,
          "thickness": 20
         },
         "type": "sankey"
        }
       ],
       "layout": {
        "font": {
         "size": 10
        },
        "height": 800,
        "template": {
         "data": {
          "bar": [
           {
            "error_x": {
             "color": "#2a3f5f"
            },
            "error_y": {
             "color": "#2a3f5f"
            },
            "marker": {
             "line": {
              "color": "#E5ECF6",
              "width": 0.5
             },
             "pattern": {
              "fillmode": "overlay",
              "size": 10,
              "solidity": 0.2
             }
            },
            "type": "bar"
           }
          ],
          "barpolar": [
           {
            "marker": {
             "line": {
              "color": "#E5ECF6",
              "width": 0.5
             },
             "pattern": {
              "fillmode": "overlay",
              "size": 10,
              "solidity": 0.2
             }
            },
            "type": "barpolar"
           }
          ],
          "carpet": [
           {
            "aaxis": {
             "endlinecolor": "#2a3f5f",
             "gridcolor": "white",
             "linecolor": "white",
             "minorgridcolor": "white",
             "startlinecolor": "#2a3f5f"
            },
            "baxis": {
             "endlinecolor": "#2a3f5f",
             "gridcolor": "white",
             "linecolor": "white",
             "minorgridcolor": "white",
             "startlinecolor": "#2a3f5f"
            },
            "type": "carpet"
           }
          ],
          "choropleth": [
           {
            "colorbar": {
             "outlinewidth": 0,
             "ticks": ""
            },
            "type": "choropleth"
           }
          ],
          "contour": [
           {
            "colorbar": {
             "outlinewidth": 0,
             "ticks": ""
            },
            "colorscale": [
             [
              0,
              "#0d0887"
             ],
             [
              0.1111111111111111,
              "#46039f"
             ],
             [
              0.2222222222222222,
              "#7201a8"
             ],
             [
              0.3333333333333333,
              "#9c179e"
             ],
             [
              0.4444444444444444,
              "#bd3786"
             ],
             [
              0.5555555555555556,
              "#d8576b"
             ],
             [
              0.6666666666666666,
              "#ed7953"
             ],
             [
              0.7777777777777778,
              "#fb9f3a"
             ],
             [
              0.8888888888888888,
              "#fdca26"
             ],
             [
              1,
              "#f0f921"
             ]
            ],
            "type": "contour"
           }
          ],
          "contourcarpet": [
           {
            "colorbar": {
             "outlinewidth": 0,
             "ticks": ""
            },
            "type": "contourcarpet"
           }
          ],
          "heatmap": [
           {
            "colorbar": {
             "outlinewidth": 0,
             "ticks": ""
            },
            "colorscale": [
             [
              0,
              "#0d0887"
             ],
             [
              0.1111111111111111,
              "#46039f"
             ],
             [
              0.2222222222222222,
              "#7201a8"
             ],
             [
              0.3333333333333333,
              "#9c179e"
             ],
             [
              0.4444444444444444,
              "#bd3786"
             ],
             [
              0.5555555555555556,
              "#d8576b"
             ],
             [
              0.6666666666666666,
              "#ed7953"
             ],
             [
              0.7777777777777778,
              "#fb9f3a"
             ],
             [
              0.8888888888888888,
              "#fdca26"
             ],
             [
              1,
              "#f0f921"
             ]
            ],
            "type": "heatmap"
           }
          ],
          "heatmapgl": [
           {
            "colorbar": {
             "outlinewidth": 0,
             "ticks": ""
            },
            "colorscale": [
             [
              0,
              "#0d0887"
             ],
             [
              0.1111111111111111,
              "#46039f"
             ],
             [
              0.2222222222222222,
              "#7201a8"
             ],
             [
              0.3333333333333333,
              "#9c179e"
             ],
             [
              0.4444444444444444,
              "#bd3786"
             ],
             [
              0.5555555555555556,
              "#d8576b"
             ],
             [
              0.6666666666666666,
              "#ed7953"
             ],
             [
              0.7777777777777778,
              "#fb9f3a"
             ],
             [
              0.8888888888888888,
              "#fdca26"
             ],
             [
              1,
              "#f0f921"
             ]
            ],
            "type": "heatmapgl"
           }
          ],
          "histogram": [
           {
            "marker": {
             "pattern": {
              "fillmode": "overlay",
              "size": 10,
              "solidity": 0.2
             }
            },
            "type": "histogram"
           }
          ],
          "histogram2d": [
           {
            "colorbar": {
             "outlinewidth": 0,
             "ticks": ""
            },
            "colorscale": [
             [
              0,
              "#0d0887"
             ],
             [
              0.1111111111111111,
              "#46039f"
             ],
             [
              0.2222222222222222,
              "#7201a8"
             ],
             [
              0.3333333333333333,
              "#9c179e"
             ],
             [
              0.4444444444444444,
              "#bd3786"
             ],
             [
              0.5555555555555556,
              "#d8576b"
             ],
             [
              0.6666666666666666,
              "#ed7953"
             ],
             [
              0.7777777777777778,
              "#fb9f3a"
             ],
             [
              0.8888888888888888,
              "#fdca26"
             ],
             [
              1,
              "#f0f921"
             ]
            ],
            "type": "histogram2d"
           }
          ],
          "histogram2dcontour": [
           {
            "colorbar": {
             "outlinewidth": 0,
             "ticks": ""
            },
            "colorscale": [
             [
              0,
              "#0d0887"
             ],
             [
              0.1111111111111111,
              "#46039f"
             ],
             [
              0.2222222222222222,
              "#7201a8"
             ],
             [
              0.3333333333333333,
              "#9c179e"
             ],
             [
              0.4444444444444444,
              "#bd3786"
             ],
             [
              0.5555555555555556,
              "#d8576b"
             ],
             [
              0.6666666666666666,
              "#ed7953"
             ],
             [
              0.7777777777777778,
              "#fb9f3a"
             ],
             [
              0.8888888888888888,
              "#fdca26"
             ],
             [
              1,
              "#f0f921"
             ]
            ],
            "type": "histogram2dcontour"
           }
          ],
          "mesh3d": [
           {
            "colorbar": {
             "outlinewidth": 0,
             "ticks": ""
            },
            "type": "mesh3d"
           }
          ],
          "parcoords": [
           {
            "line": {
             "colorbar": {
              "outlinewidth": 0,
              "ticks": ""
             }
            },
            "type": "parcoords"
           }
          ],
          "pie": [
           {
            "automargin": true,
            "type": "pie"
           }
          ],
          "scatter": [
           {
            "fillpattern": {
             "fillmode": "overlay",
             "size": 10,
             "solidity": 0.2
            },
            "type": "scatter"
           }
          ],
          "scatter3d": [
           {
            "line": {
             "colorbar": {
              "outlinewidth": 0,
              "ticks": ""
             }
            },
            "marker": {
             "colorbar": {
              "outlinewidth": 0,
              "ticks": ""
             }
            },
            "type": "scatter3d"
           }
          ],
          "scattercarpet": [
           {
            "marker": {
             "colorbar": {
              "outlinewidth": 0,
              "ticks": ""
             }
            },
            "type": "scattercarpet"
           }
          ],
          "scattergeo": [
           {
            "marker": {
             "colorbar": {
              "outlinewidth": 0,
              "ticks": ""
             }
            },
            "type": "scattergeo"
           }
          ],
          "scattergl": [
           {
            "marker": {
             "colorbar": {
              "outlinewidth": 0,
              "ticks": ""
             }
            },
            "type": "scattergl"
           }
          ],
          "scattermapbox": [
           {
            "marker": {
             "colorbar": {
              "outlinewidth": 0,
              "ticks": ""
             }
            },
            "type": "scattermapbox"
           }
          ],
          "scatterpolar": [
           {
            "marker": {
             "colorbar": {
              "outlinewidth": 0,
              "ticks": ""
             }
            },
            "type": "scatterpolar"
           }
          ],
          "scatterpolargl": [
           {
            "marker": {
             "colorbar": {
              "outlinewidth": 0,
              "ticks": ""
             }
            },
            "type": "scatterpolargl"
           }
          ],
          "scatterternary": [
           {
            "marker": {
             "colorbar": {
              "outlinewidth": 0,
              "ticks": ""
             }
            },
            "type": "scatterternary"
           }
          ],
          "surface": [
           {
            "colorbar": {
             "outlinewidth": 0,
             "ticks": ""
            },
            "colorscale": [
             [
              0,
              "#0d0887"
             ],
             [
              0.1111111111111111,
              "#46039f"
             ],
             [
              0.2222222222222222,
              "#7201a8"
             ],
             [
              0.3333333333333333,
              "#9c179e"
             ],
             [
              0.4444444444444444,
              "#bd3786"
             ],
             [
              0.5555555555555556,
              "#d8576b"
             ],
             [
              0.6666666666666666,
              "#ed7953"
             ],
             [
              0.7777777777777778,
              "#fb9f3a"
             ],
             [
              0.8888888888888888,
              "#fdca26"
             ],
             [
              1,
              "#f0f921"
             ]
            ],
            "type": "surface"
           }
          ],
          "table": [
           {
            "cells": {
             "fill": {
              "color": "#EBF0F8"
             },
             "line": {
              "color": "white"
             }
            },
            "header": {
             "fill": {
              "color": "#C8D4E3"
             },
             "line": {
              "color": "white"
             }
            },
            "type": "table"
           }
          ]
         },
         "layout": {
          "annotationdefaults": {
           "arrowcolor": "#2a3f5f",
           "arrowhead": 0,
           "arrowwidth": 1
          },
          "autotypenumbers": "strict",
          "coloraxis": {
           "colorbar": {
            "outlinewidth": 0,
            "ticks": ""
           }
          },
          "colorscale": {
           "diverging": [
            [
             0,
             "#8e0152"
            ],
            [
             0.1,
             "#c51b7d"
            ],
            [
             0.2,
             "#de77ae"
            ],
            [
             0.3,
             "#f1b6da"
            ],
            [
             0.4,
             "#fde0ef"
            ],
            [
             0.5,
             "#f7f7f7"
            ],
            [
             0.6,
             "#e6f5d0"
            ],
            [
             0.7,
             "#b8e186"
            ],
            [
             0.8,
             "#7fbc41"
            ],
            [
             0.9,
             "#4d9221"
            ],
            [
             1,
             "#276419"
            ]
           ],
           "sequential": [
            [
             0,
             "#0d0887"
            ],
            [
             0.1111111111111111,
             "#46039f"
            ],
            [
             0.2222222222222222,
             "#7201a8"
            ],
            [
             0.3333333333333333,
             "#9c179e"
            ],
            [
             0.4444444444444444,
             "#bd3786"
            ],
            [
             0.5555555555555556,
             "#d8576b"
            ],
            [
             0.6666666666666666,
             "#ed7953"
            ],
            [
             0.7777777777777778,
             "#fb9f3a"
            ],
            [
             0.8888888888888888,
             "#fdca26"
            ],
            [
             1,
             "#f0f921"
            ]
           ],
           "sequentialminus": [
            [
             0,
             "#0d0887"
            ],
            [
             0.1111111111111111,
             "#46039f"
            ],
            [
             0.2222222222222222,
             "#7201a8"
            ],
            [
             0.3333333333333333,
             "#9c179e"
            ],
            [
             0.4444444444444444,
             "#bd3786"
            ],
            [
             0.5555555555555556,
             "#d8576b"
            ],
            [
             0.6666666666666666,
             "#ed7953"
            ],
            [
             0.7777777777777778,
             "#fb9f3a"
            ],
            [
             0.8888888888888888,
             "#fdca26"
            ],
            [
             1,
             "#f0f921"
            ]
           ]
          },
          "colorway": [
           "#636efa",
           "#EF553B",
           "#00cc96",
           "#ab63fa",
           "#FFA15A",
           "#19d3f3",
           "#FF6692",
           "#B6E880",
           "#FF97FF",
           "#FECB52"
          ],
          "font": {
           "color": "#2a3f5f"
          },
          "geo": {
           "bgcolor": "white",
           "lakecolor": "white",
           "landcolor": "#E5ECF6",
           "showlakes": true,
           "showland": true,
           "subunitcolor": "white"
          },
          "hoverlabel": {
           "align": "left"
          },
          "hovermode": "closest",
          "mapbox": {
           "style": "light"
          },
          "paper_bgcolor": "white",
          "plot_bgcolor": "#E5ECF6",
          "polar": {
           "angularaxis": {
            "gridcolor": "white",
            "linecolor": "white",
            "ticks": ""
           },
           "bgcolor": "#E5ECF6",
           "radialaxis": {
            "gridcolor": "white",
            "linecolor": "white",
            "ticks": ""
           }
          },
          "scene": {
           "xaxis": {
            "backgroundcolor": "#E5ECF6",
            "gridcolor": "white",
            "gridwidth": 2,
            "linecolor": "white",
            "showbackground": true,
            "ticks": "",
            "zerolinecolor": "white"
           },
           "yaxis": {
            "backgroundcolor": "#E5ECF6",
            "gridcolor": "white",
            "gridwidth": 2,
            "linecolor": "white",
            "showbackground": true,
            "ticks": "",
            "zerolinecolor": "white"
           },
           "zaxis": {
            "backgroundcolor": "#E5ECF6",
            "gridcolor": "white",
            "gridwidth": 2,
            "linecolor": "white",
            "showbackground": true,
            "ticks": "",
            "zerolinecolor": "white"
           }
          },
          "shapedefaults": {
           "line": {
            "color": "#2a3f5f"
           }
          },
          "ternary": {
           "aaxis": {
            "gridcolor": "white",
            "linecolor": "white",
            "ticks": ""
           },
           "baxis": {
            "gridcolor": "white",
            "linecolor": "white",
            "ticks": ""
           },
           "bgcolor": "#E5ECF6",
           "caxis": {
            "gridcolor": "white",
            "linecolor": "white",
            "ticks": ""
           }
          },
          "title": {
           "x": 0.05
          },
          "xaxis": {
           "automargin": true,
           "gridcolor": "white",
           "linecolor": "white",
           "ticks": "",
           "title": {
            "standoff": 15
           },
           "zerolinecolor": "white",
           "zerolinewidth": 2
          },
          "yaxis": {
           "automargin": true,
           "gridcolor": "white",
           "linecolor": "white",
           "ticks": "",
           "title": {
            "standoff": 15
           },
           "zerolinecolor": "white",
           "zerolinewidth": 2
          }
         }
        },
        "title": {
         "text": "Spending Flow by App, Platform, Network, and Country"
        }
       }
      }
     },
     "metadata": {},
     "output_type": "display_data"
    }
   ],
   "source": [
    "# Retry creating and displaying the Sankey diagram now that the dependencies are resolved\n",
    "fig = go.Figure(data=[go.Sankey(\n",
    "    node=dict(\n",
    "        pad=15,\n",
    "        thickness=20,\n",
    "        line=dict(color=\"black\", width=0.5),\n",
    "        label=nodes\n",
    "    ),\n",
    "    link=dict(\n",
    "        source=source,\n",
    "        target=target,\n",
    "        value=value\n",
    "    )\n",
    ")])\n",
    "\n",
    "fig.update_layout(\n",
    "    title_text=\"Spending Flow by App, Platform, Network, and Country\",\n",
    "    font_size=10,\n",
    "    height=800  # Adjusted height for better vertical space\n",
    ")\n",
    "\n",
    "fig.show()"
   ]
  },
  {
   "cell_type": "markdown",
   "metadata": {},
   "source": [
    "- The United States stands out as the largest recipient of spending, followed by countries like RU (Russia), JP (Japan), and others.\n",
    "\n",
    "- There is a broad distribution across many smaller markets as well, indicating a globally dispersed strategy.\n",
    "\n",
    "- The largest allocations appear in the order of Android -> AppLovin -> United States.\n",
    "\n",
    "- Smaller networks and countries receive relatively low allocations, indicating either niche targeting or limited presence.\n",
    "\n",
    "- AppLovin is only Android"
   ]
  },
  {
   "cell_type": "code",
   "execution_count": 44,
   "metadata": {},
   "outputs": [],
   "source": [
    "\n",
    "# Define a list of European countries based on ISO2 codes\n",
    "european_countries = [\n",
    "    'AL', 'AD', 'AT', 'BY', 'BE', 'BA', 'BG', 'HR', 'CY', 'CZ', 'DK', 'EE',\n",
    "    'FI', 'FR', 'DE', 'GR', 'HU', 'IS', 'IE', 'IT', 'LV', 'LI', 'LT', 'LU',\n",
    "    'MT', 'MD', 'MC', 'ME', 'NL', 'MK', 'NO', 'PL', 'PT', 'RO', 'SM', 'RS',\n",
    "    'SK', 'SI', 'ES', 'SE', 'CH', 'UA', 'GB', 'VA'\n",
    "]\n",
    "\n",
    "# Generate the new column for region categorization\n",
    "data['REGION'] = data['COUNTRY'].apply(\n",
    "    lambda x: 'US' if x == 'US' else 'EU' if x in european_countries else 'ROW'\n",
    ")\n",
    "\n",
    "# Group the data including the new region column\n",
    "grouped_data = data.groupby(['PLATFORM', 'NETWORK', 'REGION'])['UA_SPEND'].sum().reset_index()\n"
   ]
  },
  {
   "cell_type": "code",
   "execution_count": 36,
   "metadata": {},
   "outputs": [
    {
     "data": {
      "application/vnd.plotly.v1+json": {
       "config": {
        "plotlyServerURL": "https://plot.ly"
       },
       "data": [
        {
         "link": {
          "source": [
           0,
           0,
           0,
           1,
           1,
           1,
           2,
           2,
           2,
           3,
           3,
           3,
           4,
           4,
           5,
           5,
           6,
           6,
           6,
           7,
           7,
           7,
           8,
           8,
           8,
           9,
           9,
           9,
           10,
           10,
           10,
           11,
           11,
           11,
           12,
           12,
           12,
           13,
           13,
           13,
           14,
           15,
           15,
           15,
           16,
           16,
           16,
           0,
           0,
           0,
           1,
           1,
           1,
           17,
           17,
           2,
           2,
           2,
           5,
           5,
           6,
           6,
           6,
           7,
           7,
           7,
           8,
           8,
           8,
           18,
           18,
           11,
           11,
           11,
           15,
           15,
           15,
           16,
           16,
           16,
           19,
           19,
           19,
           19,
           19,
           19,
           19,
           19,
           19,
           19,
           19,
           19,
           19,
           19,
           19,
           19,
           19,
           19,
           19,
           19,
           19,
           19,
           19,
           19,
           19,
           19,
           19,
           19,
           19,
           19,
           19,
           19,
           19,
           19,
           19,
           19,
           19,
           19,
           19,
           19,
           19,
           19,
           19,
           19,
           19,
           19,
           19,
           20,
           20,
           20,
           20,
           20,
           20,
           20,
           20,
           20,
           20,
           20,
           20,
           20,
           20,
           20,
           20,
           20,
           20,
           20,
           20,
           20,
           20,
           20,
           20,
           20,
           20,
           20,
           20,
           20,
           20,
           20,
           20,
           20
          ],
          "target": [
           19,
           19,
           19,
           19,
           19,
           19,
           19,
           19,
           19,
           19,
           19,
           19,
           19,
           19,
           19,
           19,
           19,
           19,
           19,
           19,
           19,
           19,
           19,
           19,
           19,
           19,
           19,
           19,
           19,
           19,
           19,
           19,
           19,
           19,
           19,
           19,
           19,
           19,
           19,
           19,
           19,
           19,
           19,
           19,
           19,
           19,
           19,
           20,
           20,
           20,
           20,
           20,
           20,
           20,
           20,
           20,
           20,
           20,
           20,
           20,
           20,
           20,
           20,
           20,
           20,
           20,
           20,
           20,
           20,
           20,
           20,
           20,
           20,
           20,
           20,
           20,
           20,
           20,
           20,
           20,
           21,
           22,
           23,
           21,
           22,
           23,
           21,
           22,
           23,
           21,
           22,
           23,
           22,
           23,
           22,
           23,
           21,
           22,
           23,
           21,
           22,
           23,
           21,
           22,
           23,
           21,
           22,
           23,
           21,
           22,
           23,
           21,
           22,
           23,
           21,
           22,
           23,
           21,
           22,
           23,
           23,
           21,
           22,
           23,
           21,
           22,
           23,
           21,
           22,
           23,
           21,
           22,
           23,
           21,
           23,
           21,
           22,
           23,
           21,
           22,
           21,
           22,
           23,
           21,
           22,
           23,
           21,
           22,
           23,
           22,
           23,
           21,
           22,
           23,
           21,
           22,
           23,
           21,
           22,
           23
          ],
          "value": [
           0,
           0,
           16.984629204224753,
           14.54230919675647,
           10.77588568270212,
           7.200555899904128,
           6.248776718582887,
           10.57148256799386,
           9.461171582772176,
           0.0004467177721643199,
           0.0007213811739582449,
           0.0027851549222775323,
           0.40689299615601593,
           5.3501256025390465,
           0,
           0,
           0,
           0,
           0,
           0,
           0,
           0,
           0,
           0,
           0,
           0,
           0,
           0,
           0,
           0,
           0,
           0,
           0,
           0,
           0,
           0,
           0,
           0,
           0,
           0,
           0,
           0.09400631290501058,
           1.237467753471406,
           4.320336261065962,
           0,
           0,
           0,
           1.7899323525782025,
           1.1547767790592889,
           5.273310554152923,
           0,
           0,
           1.8799108358242949,
           0,
           0,
           0,
           0,
           0,
           0,
           0,
           0,
           0,
           0,
           0,
           0,
           0,
           0,
           0,
           0,
           0,
           0,
           0,
           0,
           0,
           0.07580313059004065,
           0.20670050824580394,
           2.421972806607214,
           0,
           0,
           0,
           0,
           0,
           16.984629204224753,
           14.54230919675647,
           10.77588568270212,
           7.200555899904128,
           6.248776718582887,
           10.57148256799386,
           9.461171582772176,
           0.0004467177721643199,
           0.0007213811739582449,
           0.0027851549222775323,
           0.40689299615601593,
           5.3501256025390465,
           0,
           0,
           0,
           0,
           0,
           0,
           0,
           0,
           0,
           0,
           0,
           0,
           0,
           0,
           0,
           0,
           0,
           0,
           0,
           0,
           0,
           0,
           0,
           0,
           0,
           0,
           0,
           0.09400631290501058,
           1.237467753471406,
           4.320336261065962,
           0,
           0,
           0,
           1.7899323525782025,
           1.1547767790592889,
           5.273310554152923,
           0,
           0,
           1.8799108358242949,
           0,
           0,
           0,
           0,
           0,
           0,
           0,
           0,
           0,
           0,
           0,
           0,
           0,
           0,
           0,
           0,
           0,
           0,
           0,
           0,
           0,
           0.07580313059004065,
           0.20670050824580394,
           2.421972806607214,
           0,
           0,
           0
          ]
         },
         "node": {
          "label": [
           "ADACTION",
           "ADJOE",
           "APPLOVIN",
           "AURA IRONSOURCE",
           "BLIND FERRET ENGAGE",
           "CARRY1ST WEBSITE (CUSTOM)",
           "IMPORTED USERS",
           "IRONSOURCE",
           "MINTEGRAL INTERNATIONAL LIMITED",
           "MISTPLAY",
           "MOBSUCCESS",
           "ORGANIC",
           "SHAREIT",
           "TAPJOY",
           "TIKTOK",
           "TYRADS",
           "UNITY ADS",
           "APPLE SEARCH ADS",
           "MOLOCO",
           "ANDROID",
           "IOS",
           "EU",
           "ROW",
           "US"
          ],
          "line": {
           "color": "black",
           "width": 0.5
          },
          "pad": 15,
          "thickness": 20
         },
         "type": "sankey"
        }
       ],
       "layout": {
        "font": {
         "size": 10
        },
        "height": 1000,
        "template": {
         "data": {
          "bar": [
           {
            "error_x": {
             "color": "#2a3f5f"
            },
            "error_y": {
             "color": "#2a3f5f"
            },
            "marker": {
             "line": {
              "color": "#E5ECF6",
              "width": 0.5
             },
             "pattern": {
              "fillmode": "overlay",
              "size": 10,
              "solidity": 0.2
             }
            },
            "type": "bar"
           }
          ],
          "barpolar": [
           {
            "marker": {
             "line": {
              "color": "#E5ECF6",
              "width": 0.5
             },
             "pattern": {
              "fillmode": "overlay",
              "size": 10,
              "solidity": 0.2
             }
            },
            "type": "barpolar"
           }
          ],
          "carpet": [
           {
            "aaxis": {
             "endlinecolor": "#2a3f5f",
             "gridcolor": "white",
             "linecolor": "white",
             "minorgridcolor": "white",
             "startlinecolor": "#2a3f5f"
            },
            "baxis": {
             "endlinecolor": "#2a3f5f",
             "gridcolor": "white",
             "linecolor": "white",
             "minorgridcolor": "white",
             "startlinecolor": "#2a3f5f"
            },
            "type": "carpet"
           }
          ],
          "choropleth": [
           {
            "colorbar": {
             "outlinewidth": 0,
             "ticks": ""
            },
            "type": "choropleth"
           }
          ],
          "contour": [
           {
            "colorbar": {
             "outlinewidth": 0,
             "ticks": ""
            },
            "colorscale": [
             [
              0,
              "#0d0887"
             ],
             [
              0.1111111111111111,
              "#46039f"
             ],
             [
              0.2222222222222222,
              "#7201a8"
             ],
             [
              0.3333333333333333,
              "#9c179e"
             ],
             [
              0.4444444444444444,
              "#bd3786"
             ],
             [
              0.5555555555555556,
              "#d8576b"
             ],
             [
              0.6666666666666666,
              "#ed7953"
             ],
             [
              0.7777777777777778,
              "#fb9f3a"
             ],
             [
              0.8888888888888888,
              "#fdca26"
             ],
             [
              1,
              "#f0f921"
             ]
            ],
            "type": "contour"
           }
          ],
          "contourcarpet": [
           {
            "colorbar": {
             "outlinewidth": 0,
             "ticks": ""
            },
            "type": "contourcarpet"
           }
          ],
          "heatmap": [
           {
            "colorbar": {
             "outlinewidth": 0,
             "ticks": ""
            },
            "colorscale": [
             [
              0,
              "#0d0887"
             ],
             [
              0.1111111111111111,
              "#46039f"
             ],
             [
              0.2222222222222222,
              "#7201a8"
             ],
             [
              0.3333333333333333,
              "#9c179e"
             ],
             [
              0.4444444444444444,
              "#bd3786"
             ],
             [
              0.5555555555555556,
              "#d8576b"
             ],
             [
              0.6666666666666666,
              "#ed7953"
             ],
             [
              0.7777777777777778,
              "#fb9f3a"
             ],
             [
              0.8888888888888888,
              "#fdca26"
             ],
             [
              1,
              "#f0f921"
             ]
            ],
            "type": "heatmap"
           }
          ],
          "heatmapgl": [
           {
            "colorbar": {
             "outlinewidth": 0,
             "ticks": ""
            },
            "colorscale": [
             [
              0,
              "#0d0887"
             ],
             [
              0.1111111111111111,
              "#46039f"
             ],
             [
              0.2222222222222222,
              "#7201a8"
             ],
             [
              0.3333333333333333,
              "#9c179e"
             ],
             [
              0.4444444444444444,
              "#bd3786"
             ],
             [
              0.5555555555555556,
              "#d8576b"
             ],
             [
              0.6666666666666666,
              "#ed7953"
             ],
             [
              0.7777777777777778,
              "#fb9f3a"
             ],
             [
              0.8888888888888888,
              "#fdca26"
             ],
             [
              1,
              "#f0f921"
             ]
            ],
            "type": "heatmapgl"
           }
          ],
          "histogram": [
           {
            "marker": {
             "pattern": {
              "fillmode": "overlay",
              "size": 10,
              "solidity": 0.2
             }
            },
            "type": "histogram"
           }
          ],
          "histogram2d": [
           {
            "colorbar": {
             "outlinewidth": 0,
             "ticks": ""
            },
            "colorscale": [
             [
              0,
              "#0d0887"
             ],
             [
              0.1111111111111111,
              "#46039f"
             ],
             [
              0.2222222222222222,
              "#7201a8"
             ],
             [
              0.3333333333333333,
              "#9c179e"
             ],
             [
              0.4444444444444444,
              "#bd3786"
             ],
             [
              0.5555555555555556,
              "#d8576b"
             ],
             [
              0.6666666666666666,
              "#ed7953"
             ],
             [
              0.7777777777777778,
              "#fb9f3a"
             ],
             [
              0.8888888888888888,
              "#fdca26"
             ],
             [
              1,
              "#f0f921"
             ]
            ],
            "type": "histogram2d"
           }
          ],
          "histogram2dcontour": [
           {
            "colorbar": {
             "outlinewidth": 0,
             "ticks": ""
            },
            "colorscale": [
             [
              0,
              "#0d0887"
             ],
             [
              0.1111111111111111,
              "#46039f"
             ],
             [
              0.2222222222222222,
              "#7201a8"
             ],
             [
              0.3333333333333333,
              "#9c179e"
             ],
             [
              0.4444444444444444,
              "#bd3786"
             ],
             [
              0.5555555555555556,
              "#d8576b"
             ],
             [
              0.6666666666666666,
              "#ed7953"
             ],
             [
              0.7777777777777778,
              "#fb9f3a"
             ],
             [
              0.8888888888888888,
              "#fdca26"
             ],
             [
              1,
              "#f0f921"
             ]
            ],
            "type": "histogram2dcontour"
           }
          ],
          "mesh3d": [
           {
            "colorbar": {
             "outlinewidth": 0,
             "ticks": ""
            },
            "type": "mesh3d"
           }
          ],
          "parcoords": [
           {
            "line": {
             "colorbar": {
              "outlinewidth": 0,
              "ticks": ""
             }
            },
            "type": "parcoords"
           }
          ],
          "pie": [
           {
            "automargin": true,
            "type": "pie"
           }
          ],
          "scatter": [
           {
            "fillpattern": {
             "fillmode": "overlay",
             "size": 10,
             "solidity": 0.2
            },
            "type": "scatter"
           }
          ],
          "scatter3d": [
           {
            "line": {
             "colorbar": {
              "outlinewidth": 0,
              "ticks": ""
             }
            },
            "marker": {
             "colorbar": {
              "outlinewidth": 0,
              "ticks": ""
             }
            },
            "type": "scatter3d"
           }
          ],
          "scattercarpet": [
           {
            "marker": {
             "colorbar": {
              "outlinewidth": 0,
              "ticks": ""
             }
            },
            "type": "scattercarpet"
           }
          ],
          "scattergeo": [
           {
            "marker": {
             "colorbar": {
              "outlinewidth": 0,
              "ticks": ""
             }
            },
            "type": "scattergeo"
           }
          ],
          "scattergl": [
           {
            "marker": {
             "colorbar": {
              "outlinewidth": 0,
              "ticks": ""
             }
            },
            "type": "scattergl"
           }
          ],
          "scattermapbox": [
           {
            "marker": {
             "colorbar": {
              "outlinewidth": 0,
              "ticks": ""
             }
            },
            "type": "scattermapbox"
           }
          ],
          "scatterpolar": [
           {
            "marker": {
             "colorbar": {
              "outlinewidth": 0,
              "ticks": ""
             }
            },
            "type": "scatterpolar"
           }
          ],
          "scatterpolargl": [
           {
            "marker": {
             "colorbar": {
              "outlinewidth": 0,
              "ticks": ""
             }
            },
            "type": "scatterpolargl"
           }
          ],
          "scatterternary": [
           {
            "marker": {
             "colorbar": {
              "outlinewidth": 0,
              "ticks": ""
             }
            },
            "type": "scatterternary"
           }
          ],
          "surface": [
           {
            "colorbar": {
             "outlinewidth": 0,
             "ticks": ""
            },
            "colorscale": [
             [
              0,
              "#0d0887"
             ],
             [
              0.1111111111111111,
              "#46039f"
             ],
             [
              0.2222222222222222,
              "#7201a8"
             ],
             [
              0.3333333333333333,
              "#9c179e"
             ],
             [
              0.4444444444444444,
              "#bd3786"
             ],
             [
              0.5555555555555556,
              "#d8576b"
             ],
             [
              0.6666666666666666,
              "#ed7953"
             ],
             [
              0.7777777777777778,
              "#fb9f3a"
             ],
             [
              0.8888888888888888,
              "#fdca26"
             ],
             [
              1,
              "#f0f921"
             ]
            ],
            "type": "surface"
           }
          ],
          "table": [
           {
            "cells": {
             "fill": {
              "color": "#EBF0F8"
             },
             "line": {
              "color": "white"
             }
            },
            "header": {
             "fill": {
              "color": "#C8D4E3"
             },
             "line": {
              "color": "white"
             }
            },
            "type": "table"
           }
          ]
         },
         "layout": {
          "annotationdefaults": {
           "arrowcolor": "#2a3f5f",
           "arrowhead": 0,
           "arrowwidth": 1
          },
          "autotypenumbers": "strict",
          "coloraxis": {
           "colorbar": {
            "outlinewidth": 0,
            "ticks": ""
           }
          },
          "colorscale": {
           "diverging": [
            [
             0,
             "#8e0152"
            ],
            [
             0.1,
             "#c51b7d"
            ],
            [
             0.2,
             "#de77ae"
            ],
            [
             0.3,
             "#f1b6da"
            ],
            [
             0.4,
             "#fde0ef"
            ],
            [
             0.5,
             "#f7f7f7"
            ],
            [
             0.6,
             "#e6f5d0"
            ],
            [
             0.7,
             "#b8e186"
            ],
            [
             0.8,
             "#7fbc41"
            ],
            [
             0.9,
             "#4d9221"
            ],
            [
             1,
             "#276419"
            ]
           ],
           "sequential": [
            [
             0,
             "#0d0887"
            ],
            [
             0.1111111111111111,
             "#46039f"
            ],
            [
             0.2222222222222222,
             "#7201a8"
            ],
            [
             0.3333333333333333,
             "#9c179e"
            ],
            [
             0.4444444444444444,
             "#bd3786"
            ],
            [
             0.5555555555555556,
             "#d8576b"
            ],
            [
             0.6666666666666666,
             "#ed7953"
            ],
            [
             0.7777777777777778,
             "#fb9f3a"
            ],
            [
             0.8888888888888888,
             "#fdca26"
            ],
            [
             1,
             "#f0f921"
            ]
           ],
           "sequentialminus": [
            [
             0,
             "#0d0887"
            ],
            [
             0.1111111111111111,
             "#46039f"
            ],
            [
             0.2222222222222222,
             "#7201a8"
            ],
            [
             0.3333333333333333,
             "#9c179e"
            ],
            [
             0.4444444444444444,
             "#bd3786"
            ],
            [
             0.5555555555555556,
             "#d8576b"
            ],
            [
             0.6666666666666666,
             "#ed7953"
            ],
            [
             0.7777777777777778,
             "#fb9f3a"
            ],
            [
             0.8888888888888888,
             "#fdca26"
            ],
            [
             1,
             "#f0f921"
            ]
           ]
          },
          "colorway": [
           "#636efa",
           "#EF553B",
           "#00cc96",
           "#ab63fa",
           "#FFA15A",
           "#19d3f3",
           "#FF6692",
           "#B6E880",
           "#FF97FF",
           "#FECB52"
          ],
          "font": {
           "color": "#2a3f5f"
          },
          "geo": {
           "bgcolor": "white",
           "lakecolor": "white",
           "landcolor": "#E5ECF6",
           "showlakes": true,
           "showland": true,
           "subunitcolor": "white"
          },
          "hoverlabel": {
           "align": "left"
          },
          "hovermode": "closest",
          "mapbox": {
           "style": "light"
          },
          "paper_bgcolor": "white",
          "plot_bgcolor": "#E5ECF6",
          "polar": {
           "angularaxis": {
            "gridcolor": "white",
            "linecolor": "white",
            "ticks": ""
           },
           "bgcolor": "#E5ECF6",
           "radialaxis": {
            "gridcolor": "white",
            "linecolor": "white",
            "ticks": ""
           }
          },
          "scene": {
           "xaxis": {
            "backgroundcolor": "#E5ECF6",
            "gridcolor": "white",
            "gridwidth": 2,
            "linecolor": "white",
            "showbackground": true,
            "ticks": "",
            "zerolinecolor": "white"
           },
           "yaxis": {
            "backgroundcolor": "#E5ECF6",
            "gridcolor": "white",
            "gridwidth": 2,
            "linecolor": "white",
            "showbackground": true,
            "ticks": "",
            "zerolinecolor": "white"
           },
           "zaxis": {
            "backgroundcolor": "#E5ECF6",
            "gridcolor": "white",
            "gridwidth": 2,
            "linecolor": "white",
            "showbackground": true,
            "ticks": "",
            "zerolinecolor": "white"
           }
          },
          "shapedefaults": {
           "line": {
            "color": "#2a3f5f"
           }
          },
          "ternary": {
           "aaxis": {
            "gridcolor": "white",
            "linecolor": "white",
            "ticks": ""
           },
           "baxis": {
            "gridcolor": "white",
            "linecolor": "white",
            "ticks": ""
           },
           "bgcolor": "#E5ECF6",
           "caxis": {
            "gridcolor": "white",
            "linecolor": "white",
            "ticks": ""
           }
          },
          "title": {
           "x": 0.05
          },
          "xaxis": {
           "automargin": true,
           "gridcolor": "white",
           "linecolor": "white",
           "ticks": "",
           "title": {
            "standoff": 15
           },
           "zerolinecolor": "white",
           "zerolinewidth": 2
          },
          "yaxis": {
           "automargin": true,
           "gridcolor": "white",
           "linecolor": "white",
           "ticks": "",
           "title": {
            "standoff": 15
           },
           "zerolinecolor": "white",
           "zerolinewidth": 2
          }
         }
        },
        "title": {
         "text": "Percentual Spending Flow by Network, Platform, and Region"
        }
       }
      }
     },
     "metadata": {},
     "output_type": "display_data"
    }
   ],
   "source": [
    "# Calculate percentages\n",
    "grouped_data['UA_SPEND_PERCENT'] = (\n",
    "    grouped_data['UA_SPEND'] / grouped_data['UA_SPEND'].sum()\n",
    ") * 100\n",
    "\n",
    "platforms = grouped_data['PLATFORM'].unique()\n",
    "networks = grouped_data['NETWORK'].unique()\n",
    "countries = grouped_data['REGION'].unique()\n",
    "\n",
    "nodes = list(networks) + list(platforms) + list(countries)\n",
    "node_indices = {node: i for i, node in enumerate(nodes)}\n",
    "\n",
    "source_percent, target_percent, value_percent = [], [], []\n",
    "\n",
    "# Network -> Platform (percentages)\n",
    "for _, row in grouped_data.iterrows():\n",
    "    source_percent.append(node_indices[row['NETWORK']])\n",
    "    target_percent.append(node_indices[row['PLATFORM']])\n",
    "    value_percent.append(row['UA_SPEND_PERCENT'])\n",
    "\n",
    "# Platform -> Region (percentages)\n",
    "for _, row in grouped_data.iterrows():\n",
    "    source_percent.append(node_indices[row['PLATFORM']])\n",
    "    target_percent.append(node_indices[row['REGION']])\n",
    "    value_percent.append(row['UA_SPEND_PERCENT'])\n",
    "\n",
    "# Create the Sankey diagram with percentages and modified flow order\n",
    "fig = go.Figure(data=[go.Sankey(\n",
    "    node=dict(\n",
    "        pad=15,\n",
    "        thickness=20,\n",
    "        line=dict(color=\"black\", width=0.5),\n",
    "        label=nodes\n",
    "    ),\n",
    "    link=dict(\n",
    "        source=source_percent,\n",
    "        target=target_percent,\n",
    "        value=value_percent\n",
    "    )\n",
    ")])\n",
    "\n",
    "fig.update_layout(\n",
    "    title_text=\"Percentual Spending Flow by Network, Platform, and Region\",\n",
    "    font_size=10,\n",
    "    height=1000  # Adjusted height for better vertical space\n",
    ")\n",
    "\n",
    "fig.show()"
   ]
  },
  {
   "cell_type": "code",
   "execution_count": 37,
   "metadata": {},
   "outputs": [
    {
     "data": {
      "text/plain": [
       "<DatetimeArray>\n",
       "['2024-07-01 00:00:00', '2024-06-01 00:00:00', '2024-08-01 00:00:00']\n",
       "Length: 3, dtype: datetime64[ns]"
      ]
     },
     "execution_count": 37,
     "metadata": {},
     "output_type": "execute_result"
    }
   ],
   "source": [
    "# I want to see how revenue changes over time and I want to see also the differences in distribution\n",
    "data.MONTH.unique()"
   ]
  },
  {
   "cell_type": "markdown",
   "metadata": {},
   "source": [
    "### Invesment break-down analysis"
   ]
  },
  {
   "cell_type": "code",
   "execution_count": 29,
   "metadata": {},
   "outputs": [
    {
     "data": {
      "text/plain": [
       "269       0.000000\n",
       "2322    126.159674\n",
       "88      303.752659\n",
       "1777    508.099120\n",
       "1577      0.000000\n",
       "Name: net_value, dtype: float64"
      ]
     },
     "execution_count": 29,
     "metadata": {},
     "output_type": "execute_result"
    }
   ],
   "source": [
    "data['net_value'] = data['AD_REVENUE_COHORTED'] + data['IAP_REVENUE_D30']\n",
    "data['net_value'].sample(5)"
   ]
  },
  {
   "cell_type": "code",
   "execution_count": 84,
   "metadata": {},
   "outputs": [
    {
     "data": {
      "text/html": [
       "<div>\n",
       "<style scoped>\n",
       "    .dataframe tbody tr th:only-of-type {\n",
       "        vertical-align: middle;\n",
       "    }\n",
       "\n",
       "    .dataframe tbody tr th {\n",
       "        vertical-align: top;\n",
       "    }\n",
       "\n",
       "    .dataframe thead th {\n",
       "        text-align: right;\n",
       "    }\n",
       "</style>\n",
       "<table border=\"1\" class=\"dataframe\">\n",
       "  <thead>\n",
       "    <tr style=\"text-align: right;\">\n",
       "      <th></th>\n",
       "      <th>NETWORK</th>\n",
       "      <th>PLATFORM</th>\n",
       "      <th>REGION</th>\n",
       "      <th>Platform_Network_Region_Revenue</th>\n",
       "      <th>Platform_Network_Region_Spending</th>\n",
       "      <th>Platform_Network_Revenue</th>\n",
       "      <th>Platform_Network_Spending</th>\n",
       "      <th>Network_Alone_Revenue</th>\n",
       "      <th>Network_Alone_Spending</th>\n",
       "      <th>Network_Alone_ROAS</th>\n",
       "      <th>Platform_Network_ROAS</th>\n",
       "      <th>Platform_Network_Region_ROAS</th>\n",
       "    </tr>\n",
       "  </thead>\n",
       "  <tbody>\n",
       "    <tr>\n",
       "      <th>2</th>\n",
       "      <td>ADACTION</td>\n",
       "      <td>ANDROID</td>\n",
       "      <td>US</td>\n",
       "      <td>51696.391911</td>\n",
       "      <td>59921.0000</td>\n",
       "      <td>51731.308271</td>\n",
       "      <td>59921.0000</td>\n",
       "      <td>79899.994807</td>\n",
       "      <td>88913.8000</td>\n",
       "      <td>0.898623</td>\n",
       "      <td>0.863325</td>\n",
       "      <td>0.862742</td>\n",
       "    </tr>\n",
       "    <tr>\n",
       "      <th>3</th>\n",
       "      <td>ADACTION</td>\n",
       "      <td>IOS</td>\n",
       "      <td>EU</td>\n",
       "      <td>4734.882872</td>\n",
       "      <td>6314.8000</td>\n",
       "      <td>28168.686536</td>\n",
       "      <td>28992.8000</td>\n",
       "      <td>79899.994807</td>\n",
       "      <td>88913.8000</td>\n",
       "      <td>0.898623</td>\n",
       "      <td>0.971575</td>\n",
       "      <td>0.749807</td>\n",
       "    </tr>\n",
       "    <tr>\n",
       "      <th>4</th>\n",
       "      <td>ADACTION</td>\n",
       "      <td>IOS</td>\n",
       "      <td>ROW</td>\n",
       "      <td>3159.051214</td>\n",
       "      <td>4074.0000</td>\n",
       "      <td>28168.686536</td>\n",
       "      <td>28992.8000</td>\n",
       "      <td>79899.994807</td>\n",
       "      <td>88913.8000</td>\n",
       "      <td>0.898623</td>\n",
       "      <td>0.971575</td>\n",
       "      <td>0.775418</td>\n",
       "    </tr>\n",
       "    <tr>\n",
       "      <th>5</th>\n",
       "      <td>ADACTION</td>\n",
       "      <td>IOS</td>\n",
       "      <td>US</td>\n",
       "      <td>20274.752450</td>\n",
       "      <td>18604.0000</td>\n",
       "      <td>28168.686536</td>\n",
       "      <td>28992.8000</td>\n",
       "      <td>79899.994807</td>\n",
       "      <td>88913.8000</td>\n",
       "      <td>0.898623</td>\n",
       "      <td>0.971575</td>\n",
       "      <td>1.089806</td>\n",
       "    </tr>\n",
       "    <tr>\n",
       "      <th>6</th>\n",
       "      <td>ADJOE</td>\n",
       "      <td>ANDROID</td>\n",
       "      <td>EU</td>\n",
       "      <td>48728.182702</td>\n",
       "      <td>51304.6060</td>\n",
       "      <td>113159.357721</td>\n",
       "      <td>114724.6750</td>\n",
       "      <td>119595.585606</td>\n",
       "      <td>121356.9150</td>\n",
       "      <td>0.985486</td>\n",
       "      <td>0.986356</td>\n",
       "      <td>0.949782</td>\n",
       "    </tr>\n",
       "    <tr>\n",
       "      <th>7</th>\n",
       "      <td>ADJOE</td>\n",
       "      <td>ANDROID</td>\n",
       "      <td>ROW</td>\n",
       "      <td>37510.727301</td>\n",
       "      <td>38016.8350</td>\n",
       "      <td>113159.357721</td>\n",
       "      <td>114724.6750</td>\n",
       "      <td>119595.585606</td>\n",
       "      <td>121356.9150</td>\n",
       "      <td>0.985486</td>\n",
       "      <td>0.986356</td>\n",
       "      <td>0.986687</td>\n",
       "    </tr>\n",
       "    <tr>\n",
       "      <th>8</th>\n",
       "      <td>ADJOE</td>\n",
       "      <td>ANDROID</td>\n",
       "      <td>US</td>\n",
       "      <td>26920.447718</td>\n",
       "      <td>25403.2340</td>\n",
       "      <td>113159.357721</td>\n",
       "      <td>114724.6750</td>\n",
       "      <td>119595.585606</td>\n",
       "      <td>121356.9150</td>\n",
       "      <td>0.985486</td>\n",
       "      <td>0.986356</td>\n",
       "      <td>1.059725</td>\n",
       "    </tr>\n",
       "    <tr>\n",
       "      <th>11</th>\n",
       "      <td>ADJOE</td>\n",
       "      <td>IOS</td>\n",
       "      <td>US</td>\n",
       "      <td>6434.073675</td>\n",
       "      <td>6632.2400</td>\n",
       "      <td>6436.227885</td>\n",
       "      <td>6632.2400</td>\n",
       "      <td>119595.585606</td>\n",
       "      <td>121356.9150</td>\n",
       "      <td>0.985486</td>\n",
       "      <td>0.970446</td>\n",
       "      <td>0.970121</td>\n",
       "    </tr>\n",
       "    <tr>\n",
       "      <th>14</th>\n",
       "      <td>APPLOVIN</td>\n",
       "      <td>ANDROID</td>\n",
       "      <td>EU</td>\n",
       "      <td>27771.308320</td>\n",
       "      <td>22045.4003</td>\n",
       "      <td>98956.287148</td>\n",
       "      <td>92719.6938</td>\n",
       "      <td>99291.872248</td>\n",
       "      <td>92719.6938</td>\n",
       "      <td>1.070882</td>\n",
       "      <td>1.067263</td>\n",
       "      <td>1.259733</td>\n",
       "    </tr>\n",
       "    <tr>\n",
       "      <th>15</th>\n",
       "      <td>APPLOVIN</td>\n",
       "      <td>ANDROID</td>\n",
       "      <td>ROW</td>\n",
       "      <td>38012.817591</td>\n",
       "      <td>37295.7101</td>\n",
       "      <td>98956.287148</td>\n",
       "      <td>92719.6938</td>\n",
       "      <td>99291.872248</td>\n",
       "      <td>92719.6938</td>\n",
       "      <td>1.070882</td>\n",
       "      <td>1.067263</td>\n",
       "      <td>1.019228</td>\n",
       "    </tr>\n",
       "    <tr>\n",
       "      <th>16</th>\n",
       "      <td>APPLOVIN</td>\n",
       "      <td>ANDROID</td>\n",
       "      <td>US</td>\n",
       "      <td>33172.161237</td>\n",
       "      <td>33378.5834</td>\n",
       "      <td>98956.287148</td>\n",
       "      <td>92719.6938</td>\n",
       "      <td>99291.872248</td>\n",
       "      <td>92719.6938</td>\n",
       "      <td>1.070882</td>\n",
       "      <td>1.067263</td>\n",
       "      <td>0.993816</td>\n",
       "    </tr>\n",
       "    <tr>\n",
       "      <th>20</th>\n",
       "      <td>AURA IRONSOURCE</td>\n",
       "      <td>ANDROID</td>\n",
       "      <td>EU</td>\n",
       "      <td>91.555894</td>\n",
       "      <td>1.5760</td>\n",
       "      <td>616.771343</td>\n",
       "      <td>13.9469</td>\n",
       "      <td>616.771343</td>\n",
       "      <td>13.9469</td>\n",
       "      <td>44.222827</td>\n",
       "      <td>44.222827</td>\n",
       "      <td>58.093841</td>\n",
       "    </tr>\n",
       "    <tr>\n",
       "      <th>21</th>\n",
       "      <td>AURA IRONSOURCE</td>\n",
       "      <td>ANDROID</td>\n",
       "      <td>ROW</td>\n",
       "      <td>196.265373</td>\n",
       "      <td>2.5450</td>\n",
       "      <td>616.771343</td>\n",
       "      <td>13.9469</td>\n",
       "      <td>616.771343</td>\n",
       "      <td>13.9469</td>\n",
       "      <td>44.222827</td>\n",
       "      <td>44.222827</td>\n",
       "      <td>77.118025</td>\n",
       "    </tr>\n",
       "    <tr>\n",
       "      <th>22</th>\n",
       "      <td>AURA IRONSOURCE</td>\n",
       "      <td>ANDROID</td>\n",
       "      <td>US</td>\n",
       "      <td>328.950076</td>\n",
       "      <td>9.8259</td>\n",
       "      <td>616.771343</td>\n",
       "      <td>13.9469</td>\n",
       "      <td>616.771343</td>\n",
       "      <td>13.9469</td>\n",
       "      <td>44.222827</td>\n",
       "      <td>44.222827</td>\n",
       "      <td>33.477857</td>\n",
       "    </tr>\n",
       "    <tr>\n",
       "      <th>23</th>\n",
       "      <td>BLIND FERRET ENGAGE</td>\n",
       "      <td>ANDROID</td>\n",
       "      <td>ROW</td>\n",
       "      <td>1180.750832</td>\n",
       "      <td>1435.5000</td>\n",
       "      <td>23097.186330</td>\n",
       "      <td>20310.5000</td>\n",
       "      <td>23097.186330</td>\n",
       "      <td>20310.5000</td>\n",
       "      <td>1.137204</td>\n",
       "      <td>1.137204</td>\n",
       "      <td>0.822536</td>\n",
       "    </tr>\n",
       "    <tr>\n",
       "      <th>24</th>\n",
       "      <td>BLIND FERRET ENGAGE</td>\n",
       "      <td>ANDROID</td>\n",
       "      <td>US</td>\n",
       "      <td>21916.435498</td>\n",
       "      <td>18875.0000</td>\n",
       "      <td>23097.186330</td>\n",
       "      <td>20310.5000</td>\n",
       "      <td>23097.186330</td>\n",
       "      <td>20310.5000</td>\n",
       "      <td>1.137204</td>\n",
       "      <td>1.137204</td>\n",
       "      <td>1.161136</td>\n",
       "    </tr>\n",
       "    <tr>\n",
       "      <th>68</th>\n",
       "      <td>TYRADS</td>\n",
       "      <td>ANDROID</td>\n",
       "      <td>EU</td>\n",
       "      <td>345.526285</td>\n",
       "      <td>331.6500</td>\n",
       "      <td>18053.944774</td>\n",
       "      <td>19939.3300</td>\n",
       "      <td>26533.641866</td>\n",
       "      <td>29480.6000</td>\n",
       "      <td>0.900037</td>\n",
       "      <td>0.905444</td>\n",
       "      <td>1.041840</td>\n",
       "    </tr>\n",
       "    <tr>\n",
       "      <th>69</th>\n",
       "      <td>TYRADS</td>\n",
       "      <td>ANDROID</td>\n",
       "      <td>ROW</td>\n",
       "      <td>6354.071907</td>\n",
       "      <td>4365.7300</td>\n",
       "      <td>18053.944774</td>\n",
       "      <td>19939.3300</td>\n",
       "      <td>26533.641866</td>\n",
       "      <td>29480.6000</td>\n",
       "      <td>0.900037</td>\n",
       "      <td>0.905444</td>\n",
       "      <td>1.455443</td>\n",
       "    </tr>\n",
       "    <tr>\n",
       "      <th>70</th>\n",
       "      <td>TYRADS</td>\n",
       "      <td>ANDROID</td>\n",
       "      <td>US</td>\n",
       "      <td>11354.346582</td>\n",
       "      <td>15241.9500</td>\n",
       "      <td>18053.944774</td>\n",
       "      <td>19939.3300</td>\n",
       "      <td>26533.641866</td>\n",
       "      <td>29480.6000</td>\n",
       "      <td>0.900037</td>\n",
       "      <td>0.905444</td>\n",
       "      <td>0.744941</td>\n",
       "    </tr>\n",
       "    <tr>\n",
       "      <th>71</th>\n",
       "      <td>TYRADS</td>\n",
       "      <td>IOS</td>\n",
       "      <td>EU</td>\n",
       "      <td>452.652285</td>\n",
       "      <td>267.4300</td>\n",
       "      <td>8479.697091</td>\n",
       "      <td>9541.2700</td>\n",
       "      <td>26533.641866</td>\n",
       "      <td>29480.6000</td>\n",
       "      <td>0.900037</td>\n",
       "      <td>0.888739</td>\n",
       "      <td>1.692601</td>\n",
       "    </tr>\n",
       "    <tr>\n",
       "      <th>72</th>\n",
       "      <td>TYRADS</td>\n",
       "      <td>IOS</td>\n",
       "      <td>ROW</td>\n",
       "      <td>896.181462</td>\n",
       "      <td>729.2300</td>\n",
       "      <td>8479.697091</td>\n",
       "      <td>9541.2700</td>\n",
       "      <td>26533.641866</td>\n",
       "      <td>29480.6000</td>\n",
       "      <td>0.900037</td>\n",
       "      <td>0.888739</td>\n",
       "      <td>1.228942</td>\n",
       "    </tr>\n",
       "    <tr>\n",
       "      <th>73</th>\n",
       "      <td>TYRADS</td>\n",
       "      <td>IOS</td>\n",
       "      <td>US</td>\n",
       "      <td>7130.863344</td>\n",
       "      <td>8544.6100</td>\n",
       "      <td>8479.697091</td>\n",
       "      <td>9541.2700</td>\n",
       "      <td>26533.641866</td>\n",
       "      <td>29480.6000</td>\n",
       "      <td>0.900037</td>\n",
       "      <td>0.888739</td>\n",
       "      <td>0.834545</td>\n",
       "    </tr>\n",
       "  </tbody>\n",
       "</table>\n",
       "</div>"
      ],
      "text/plain": [
       "                NETWORK PLATFORM REGION  Platform_Network_Region_Revenue  \\\n",
       "2              ADACTION  ANDROID     US                     51696.391911   \n",
       "3              ADACTION      IOS     EU                      4734.882872   \n",
       "4              ADACTION      IOS    ROW                      3159.051214   \n",
       "5              ADACTION      IOS     US                     20274.752450   \n",
       "6                 ADJOE  ANDROID     EU                     48728.182702   \n",
       "7                 ADJOE  ANDROID    ROW                     37510.727301   \n",
       "8                 ADJOE  ANDROID     US                     26920.447718   \n",
       "11                ADJOE      IOS     US                      6434.073675   \n",
       "14             APPLOVIN  ANDROID     EU                     27771.308320   \n",
       "15             APPLOVIN  ANDROID    ROW                     38012.817591   \n",
       "16             APPLOVIN  ANDROID     US                     33172.161237   \n",
       "20      AURA IRONSOURCE  ANDROID     EU                        91.555894   \n",
       "21      AURA IRONSOURCE  ANDROID    ROW                       196.265373   \n",
       "22      AURA IRONSOURCE  ANDROID     US                       328.950076   \n",
       "23  BLIND FERRET ENGAGE  ANDROID    ROW                      1180.750832   \n",
       "24  BLIND FERRET ENGAGE  ANDROID     US                     21916.435498   \n",
       "68               TYRADS  ANDROID     EU                       345.526285   \n",
       "69               TYRADS  ANDROID    ROW                      6354.071907   \n",
       "70               TYRADS  ANDROID     US                     11354.346582   \n",
       "71               TYRADS      IOS     EU                       452.652285   \n",
       "72               TYRADS      IOS    ROW                       896.181462   \n",
       "73               TYRADS      IOS     US                      7130.863344   \n",
       "\n",
       "    Platform_Network_Region_Spending  Platform_Network_Revenue  \\\n",
       "2                         59921.0000              51731.308271   \n",
       "3                          6314.8000              28168.686536   \n",
       "4                          4074.0000              28168.686536   \n",
       "5                         18604.0000              28168.686536   \n",
       "6                         51304.6060             113159.357721   \n",
       "7                         38016.8350             113159.357721   \n",
       "8                         25403.2340             113159.357721   \n",
       "11                         6632.2400               6436.227885   \n",
       "14                        22045.4003              98956.287148   \n",
       "15                        37295.7101              98956.287148   \n",
       "16                        33378.5834              98956.287148   \n",
       "20                            1.5760                616.771343   \n",
       "21                            2.5450                616.771343   \n",
       "22                            9.8259                616.771343   \n",
       "23                         1435.5000              23097.186330   \n",
       "24                        18875.0000              23097.186330   \n",
       "68                          331.6500              18053.944774   \n",
       "69                         4365.7300              18053.944774   \n",
       "70                        15241.9500              18053.944774   \n",
       "71                          267.4300               8479.697091   \n",
       "72                          729.2300               8479.697091   \n",
       "73                         8544.6100               8479.697091   \n",
       "\n",
       "    Platform_Network_Spending  Network_Alone_Revenue  Network_Alone_Spending  \\\n",
       "2                  59921.0000           79899.994807              88913.8000   \n",
       "3                  28992.8000           79899.994807              88913.8000   \n",
       "4                  28992.8000           79899.994807              88913.8000   \n",
       "5                  28992.8000           79899.994807              88913.8000   \n",
       "6                 114724.6750          119595.585606             121356.9150   \n",
       "7                 114724.6750          119595.585606             121356.9150   \n",
       "8                 114724.6750          119595.585606             121356.9150   \n",
       "11                  6632.2400          119595.585606             121356.9150   \n",
       "14                 92719.6938           99291.872248              92719.6938   \n",
       "15                 92719.6938           99291.872248              92719.6938   \n",
       "16                 92719.6938           99291.872248              92719.6938   \n",
       "20                    13.9469             616.771343                 13.9469   \n",
       "21                    13.9469             616.771343                 13.9469   \n",
       "22                    13.9469             616.771343                 13.9469   \n",
       "23                 20310.5000           23097.186330              20310.5000   \n",
       "24                 20310.5000           23097.186330              20310.5000   \n",
       "68                 19939.3300           26533.641866              29480.6000   \n",
       "69                 19939.3300           26533.641866              29480.6000   \n",
       "70                 19939.3300           26533.641866              29480.6000   \n",
       "71                  9541.2700           26533.641866              29480.6000   \n",
       "72                  9541.2700           26533.641866              29480.6000   \n",
       "73                  9541.2700           26533.641866              29480.6000   \n",
       "\n",
       "    Network_Alone_ROAS  Platform_Network_ROAS  Platform_Network_Region_ROAS  \n",
       "2             0.898623               0.863325                      0.862742  \n",
       "3             0.898623               0.971575                      0.749807  \n",
       "4             0.898623               0.971575                      0.775418  \n",
       "5             0.898623               0.971575                      1.089806  \n",
       "6             0.985486               0.986356                      0.949782  \n",
       "7             0.985486               0.986356                      0.986687  \n",
       "8             0.985486               0.986356                      1.059725  \n",
       "11            0.985486               0.970446                      0.970121  \n",
       "14            1.070882               1.067263                      1.259733  \n",
       "15            1.070882               1.067263                      1.019228  \n",
       "16            1.070882               1.067263                      0.993816  \n",
       "20           44.222827              44.222827                     58.093841  \n",
       "21           44.222827              44.222827                     77.118025  \n",
       "22           44.222827              44.222827                     33.477857  \n",
       "23            1.137204               1.137204                      0.822536  \n",
       "24            1.137204               1.137204                      1.161136  \n",
       "68            0.900037               0.905444                      1.041840  \n",
       "69            0.900037               0.905444                      1.455443  \n",
       "70            0.900037               0.905444                      0.744941  \n",
       "71            0.900037               0.888739                      1.692601  \n",
       "72            0.900037               0.888739                      1.228942  \n",
       "73            0.900037               0.888739                      0.834545  "
      ]
     },
     "execution_count": 84,
     "metadata": {},
     "output_type": "execute_result"
    }
   ],
   "source": [
    "# Adjusting the provided code to include spending in addition to revenue\n",
    "\n",
    "# Step 1: Calculate revenues and spending at each level\n",
    "grouped_data = data.groupby(['NETWORK', 'PLATFORM', 'REGION'])[\n",
    "    ['NON_COHORTED_AD_REVENUE', 'AD_REVENUE_COHORTED', 'UA_SPEND']\n",
    "].sum().reset_index()\n",
    "\n",
    "# Calculate total revenue (sum of cohorted and non-cohorted revenue)\n",
    "grouped_data['TOTAL_REVENUE'] = grouped_data['NON_COHORTED_AD_REVENUE'] + grouped_data['AD_REVENUE_COHORTED']\n",
    "\n",
    "# Step 2: Summarize revenues and spending for each hierarchy level\n",
    "# Revenue and spending for Network level\n",
    "network_revenue_spending = grouped_data.groupby('NETWORK')[\n",
    "    ['TOTAL_REVENUE', 'UA_SPEND']\n",
    "].sum().reset_index().rename(columns={\n",
    "    'TOTAL_REVENUE': 'Network_Alone_Revenue',\n",
    "    'UA_SPEND': 'Network_Alone_Spending'\n",
    "})\n",
    "\n",
    "# Revenue and spending for Platform-Network level\n",
    "platform_network_revenue_spending = grouped_data.groupby(['NETWORK', 'PLATFORM'])[\n",
    "    ['TOTAL_REVENUE', 'UA_SPEND']\n",
    "].sum().reset_index().rename(columns={\n",
    "    'TOTAL_REVENUE': 'Platform_Network_Revenue',\n",
    "    'UA_SPEND': 'Platform_Network_Spending'\n",
    "})\n",
    "\n",
    "# Revenue and spending for Platform-Network-Region level\n",
    "platform_network_region_revenue_spending = grouped_data.groupby(['NETWORK', 'PLATFORM', 'REGION'])[\n",
    "    ['TOTAL_REVENUE', 'UA_SPEND']\n",
    "].sum().reset_index().rename(columns={\n",
    "    'TOTAL_REVENUE': 'Platform_Network_Region_Revenue',\n",
    "    'UA_SPEND': 'Platform_Network_Region_Spending'\n",
    "})\n",
    "\n",
    "# Merge the results into a single dataset\n",
    "merged_data = platform_network_region_revenue_spending.merge(\n",
    "    platform_network_revenue_spending, on=['NETWORK', 'PLATFORM'], how='left'\n",
    ").merge(\n",
    "    network_revenue_spending, on='NETWORK', how='left'\n",
    ")\n",
    "\n",
    "# Adding ROAS (Return on Ad Spend) to the merged dataset\n",
    "merged_data = merged_data[merged_data['Platform_Network_Region_Spending'] > 0]\n",
    "\n",
    "# Calculate ROAS at each level\n",
    "merged_data['Network_Alone_ROAS'] = merged_data['Network_Alone_Revenue'] / merged_data['Network_Alone_Spending']\n",
    "merged_data['Platform_Network_ROAS'] = merged_data['Platform_Network_Revenue'] / merged_data['Platform_Network_Spending']\n",
    "merged_data['Platform_Network_Region_ROAS'] = merged_data['Platform_Network_Region_Revenue'] / merged_data['Platform_Network_Region_Spending']\n",
    "\n",
    "\n",
    "merged_data"
   ]
  },
  {
   "cell_type": "code",
   "execution_count": 81,
   "metadata": {},
   "outputs": [
    {
     "data": {
      "application/vnd.plotly.v1+json": {
       "config": {
        "plotlyServerURL": "https://plot.ly"
       },
       "data": [
        {
         "link": {
          "color": "rgba(0,100,200,0.4)",
          "source": [
           0,
           0,
           0,
           0,
           0,
           0,
           1,
           1,
           2,
           2,
           3,
           4,
           5,
           6,
           6,
           7,
           8,
           8,
           8,
           9,
           9,
           9,
           10,
           11,
           11,
           11,
           12,
           12,
           12,
           13,
           13,
           14,
           14,
           14,
           15,
           15,
           15
          ],
          "target": [
           1,
           2,
           3,
           4,
           5,
           6,
           7,
           8,
           9,
           10,
           11,
           12,
           13,
           14,
           15,
           16,
           17,
           18,
           19,
           20,
           21,
           22,
           23,
           24,
           25,
           26,
           27,
           28,
           29,
           30,
           31,
           32,
           33,
           34,
           35,
           36,
           37
          ],
          "value": [
           79899.99480709145,
           119595.58560575495,
           99291.87224834264,
           616.7713428166619,
           23097.186329801,
           26533.641865589903,
           51731.30827089357,
           28168.686536197893,
           113159.35772075696,
           6436.227884997999,
           98956.28714834264,
           616.7713428166619,
           23097.186329801,
           18053.944774299394,
           8479.69709129051,
           51696.391910915,
           4734.882872085,
           3159.05121399589,
           20274.752450117,
           48728.18270232063,
           37510.72730069533,
           26920.447717741,
           6434.073675201,
           27771.308320104858,
           38012.81759143778,
           33172.161236800006,
           91.555893947311,
           196.26537268085082,
           328.9500761885,
           1180.750831763,
           21916.435498038,
           345.52628543080004,
           6354.071906750594,
           11354.346582118,
           452.6522849803,
           896.18146231521,
           7130.863343995001
          ]
         },
         "node": {
          "color": "lightblue",
          "label": [
           "Total Spending",
           "ADACTION",
           "ADJOE",
           "APPLOVIN",
           "AURA IRONSOURCE",
           "BLIND FERRET ENGAGE",
           "TYRADS",
           "ANDROID (ADACTION)",
           "IOS (ADACTION)",
           "ANDROID (ADJOE)",
           "IOS (ADJOE)",
           "ANDROID (APPLOVIN)",
           "ANDROID (AURA IRONSOURCE)",
           "ANDROID (BLIND FERRET ENGAGE)",
           "ANDROID (TYRADS)",
           "IOS (TYRADS)",
           "US (ANDROID-ADACTION)",
           "EU (IOS-ADACTION)",
           "ROW (IOS-ADACTION)",
           "US (IOS-ADACTION)",
           "EU (ANDROID-ADJOE)",
           "ROW (ANDROID-ADJOE)",
           "US (ANDROID-ADJOE)",
           "US (IOS-ADJOE)",
           "EU (ANDROID-APPLOVIN)",
           "ROW (ANDROID-APPLOVIN)",
           "US (ANDROID-APPLOVIN)",
           "EU (ANDROID-AURA IRONSOURCE)",
           "ROW (ANDROID-AURA IRONSOURCE)",
           "US (ANDROID-AURA IRONSOURCE)",
           "ROW (ANDROID-BLIND FERRET ENGAGE)",
           "US (ANDROID-BLIND FERRET ENGAGE)",
           "EU (ANDROID-TYRADS)",
           "ROW (ANDROID-TYRADS)",
           "US (ANDROID-TYRADS)",
           "EU (IOS-TYRADS)",
           "ROW (IOS-TYRADS)",
           "US (IOS-TYRADS)"
          ],
          "line": {
           "color": "black",
           "width": 0.5
          },
          "pad": 20,
          "thickness": 30
         },
         "type": "sankey"
        }
       ],
       "layout": {
        "font": {
         "size": 14
        },
        "height": 700,
        "margin": {
         "b": 50,
         "l": 50,
         "r": 50,
         "t": 50
        },
        "template": {
         "data": {
          "bar": [
           {
            "error_x": {
             "color": "#2a3f5f"
            },
            "error_y": {
             "color": "#2a3f5f"
            },
            "marker": {
             "line": {
              "color": "#E5ECF6",
              "width": 0.5
             },
             "pattern": {
              "fillmode": "overlay",
              "size": 10,
              "solidity": 0.2
             }
            },
            "type": "bar"
           }
          ],
          "barpolar": [
           {
            "marker": {
             "line": {
              "color": "#E5ECF6",
              "width": 0.5
             },
             "pattern": {
              "fillmode": "overlay",
              "size": 10,
              "solidity": 0.2
             }
            },
            "type": "barpolar"
           }
          ],
          "carpet": [
           {
            "aaxis": {
             "endlinecolor": "#2a3f5f",
             "gridcolor": "white",
             "linecolor": "white",
             "minorgridcolor": "white",
             "startlinecolor": "#2a3f5f"
            },
            "baxis": {
             "endlinecolor": "#2a3f5f",
             "gridcolor": "white",
             "linecolor": "white",
             "minorgridcolor": "white",
             "startlinecolor": "#2a3f5f"
            },
            "type": "carpet"
           }
          ],
          "choropleth": [
           {
            "colorbar": {
             "outlinewidth": 0,
             "ticks": ""
            },
            "type": "choropleth"
           }
          ],
          "contour": [
           {
            "colorbar": {
             "outlinewidth": 0,
             "ticks": ""
            },
            "colorscale": [
             [
              0,
              "#0d0887"
             ],
             [
              0.1111111111111111,
              "#46039f"
             ],
             [
              0.2222222222222222,
              "#7201a8"
             ],
             [
              0.3333333333333333,
              "#9c179e"
             ],
             [
              0.4444444444444444,
              "#bd3786"
             ],
             [
              0.5555555555555556,
              "#d8576b"
             ],
             [
              0.6666666666666666,
              "#ed7953"
             ],
             [
              0.7777777777777778,
              "#fb9f3a"
             ],
             [
              0.8888888888888888,
              "#fdca26"
             ],
             [
              1,
              "#f0f921"
             ]
            ],
            "type": "contour"
           }
          ],
          "contourcarpet": [
           {
            "colorbar": {
             "outlinewidth": 0,
             "ticks": ""
            },
            "type": "contourcarpet"
           }
          ],
          "heatmap": [
           {
            "colorbar": {
             "outlinewidth": 0,
             "ticks": ""
            },
            "colorscale": [
             [
              0,
              "#0d0887"
             ],
             [
              0.1111111111111111,
              "#46039f"
             ],
             [
              0.2222222222222222,
              "#7201a8"
             ],
             [
              0.3333333333333333,
              "#9c179e"
             ],
             [
              0.4444444444444444,
              "#bd3786"
             ],
             [
              0.5555555555555556,
              "#d8576b"
             ],
             [
              0.6666666666666666,
              "#ed7953"
             ],
             [
              0.7777777777777778,
              "#fb9f3a"
             ],
             [
              0.8888888888888888,
              "#fdca26"
             ],
             [
              1,
              "#f0f921"
             ]
            ],
            "type": "heatmap"
           }
          ],
          "heatmapgl": [
           {
            "colorbar": {
             "outlinewidth": 0,
             "ticks": ""
            },
            "colorscale": [
             [
              0,
              "#0d0887"
             ],
             [
              0.1111111111111111,
              "#46039f"
             ],
             [
              0.2222222222222222,
              "#7201a8"
             ],
             [
              0.3333333333333333,
              "#9c179e"
             ],
             [
              0.4444444444444444,
              "#bd3786"
             ],
             [
              0.5555555555555556,
              "#d8576b"
             ],
             [
              0.6666666666666666,
              "#ed7953"
             ],
             [
              0.7777777777777778,
              "#fb9f3a"
             ],
             [
              0.8888888888888888,
              "#fdca26"
             ],
             [
              1,
              "#f0f921"
             ]
            ],
            "type": "heatmapgl"
           }
          ],
          "histogram": [
           {
            "marker": {
             "pattern": {
              "fillmode": "overlay",
              "size": 10,
              "solidity": 0.2
             }
            },
            "type": "histogram"
           }
          ],
          "histogram2d": [
           {
            "colorbar": {
             "outlinewidth": 0,
             "ticks": ""
            },
            "colorscale": [
             [
              0,
              "#0d0887"
             ],
             [
              0.1111111111111111,
              "#46039f"
             ],
             [
              0.2222222222222222,
              "#7201a8"
             ],
             [
              0.3333333333333333,
              "#9c179e"
             ],
             [
              0.4444444444444444,
              "#bd3786"
             ],
             [
              0.5555555555555556,
              "#d8576b"
             ],
             [
              0.6666666666666666,
              "#ed7953"
             ],
             [
              0.7777777777777778,
              "#fb9f3a"
             ],
             [
              0.8888888888888888,
              "#fdca26"
             ],
             [
              1,
              "#f0f921"
             ]
            ],
            "type": "histogram2d"
           }
          ],
          "histogram2dcontour": [
           {
            "colorbar": {
             "outlinewidth": 0,
             "ticks": ""
            },
            "colorscale": [
             [
              0,
              "#0d0887"
             ],
             [
              0.1111111111111111,
              "#46039f"
             ],
             [
              0.2222222222222222,
              "#7201a8"
             ],
             [
              0.3333333333333333,
              "#9c179e"
             ],
             [
              0.4444444444444444,
              "#bd3786"
             ],
             [
              0.5555555555555556,
              "#d8576b"
             ],
             [
              0.6666666666666666,
              "#ed7953"
             ],
             [
              0.7777777777777778,
              "#fb9f3a"
             ],
             [
              0.8888888888888888,
              "#fdca26"
             ],
             [
              1,
              "#f0f921"
             ]
            ],
            "type": "histogram2dcontour"
           }
          ],
          "mesh3d": [
           {
            "colorbar": {
             "outlinewidth": 0,
             "ticks": ""
            },
            "type": "mesh3d"
           }
          ],
          "parcoords": [
           {
            "line": {
             "colorbar": {
              "outlinewidth": 0,
              "ticks": ""
             }
            },
            "type": "parcoords"
           }
          ],
          "pie": [
           {
            "automargin": true,
            "type": "pie"
           }
          ],
          "scatter": [
           {
            "fillpattern": {
             "fillmode": "overlay",
             "size": 10,
             "solidity": 0.2
            },
            "type": "scatter"
           }
          ],
          "scatter3d": [
           {
            "line": {
             "colorbar": {
              "outlinewidth": 0,
              "ticks": ""
             }
            },
            "marker": {
             "colorbar": {
              "outlinewidth": 0,
              "ticks": ""
             }
            },
            "type": "scatter3d"
           }
          ],
          "scattercarpet": [
           {
            "marker": {
             "colorbar": {
              "outlinewidth": 0,
              "ticks": ""
             }
            },
            "type": "scattercarpet"
           }
          ],
          "scattergeo": [
           {
            "marker": {
             "colorbar": {
              "outlinewidth": 0,
              "ticks": ""
             }
            },
            "type": "scattergeo"
           }
          ],
          "scattergl": [
           {
            "marker": {
             "colorbar": {
              "outlinewidth": 0,
              "ticks": ""
             }
            },
            "type": "scattergl"
           }
          ],
          "scattermapbox": [
           {
            "marker": {
             "colorbar": {
              "outlinewidth": 0,
              "ticks": ""
             }
            },
            "type": "scattermapbox"
           }
          ],
          "scatterpolar": [
           {
            "marker": {
             "colorbar": {
              "outlinewidth": 0,
              "ticks": ""
             }
            },
            "type": "scatterpolar"
           }
          ],
          "scatterpolargl": [
           {
            "marker": {
             "colorbar": {
              "outlinewidth": 0,
              "ticks": ""
             }
            },
            "type": "scatterpolargl"
           }
          ],
          "scatterternary": [
           {
            "marker": {
             "colorbar": {
              "outlinewidth": 0,
              "ticks": ""
             }
            },
            "type": "scatterternary"
           }
          ],
          "surface": [
           {
            "colorbar": {
             "outlinewidth": 0,
             "ticks": ""
            },
            "colorscale": [
             [
              0,
              "#0d0887"
             ],
             [
              0.1111111111111111,
              "#46039f"
             ],
             [
              0.2222222222222222,
              "#7201a8"
             ],
             [
              0.3333333333333333,
              "#9c179e"
             ],
             [
              0.4444444444444444,
              "#bd3786"
             ],
             [
              0.5555555555555556,
              "#d8576b"
             ],
             [
              0.6666666666666666,
              "#ed7953"
             ],
             [
              0.7777777777777778,
              "#fb9f3a"
             ],
             [
              0.8888888888888888,
              "#fdca26"
             ],
             [
              1,
              "#f0f921"
             ]
            ],
            "type": "surface"
           }
          ],
          "table": [
           {
            "cells": {
             "fill": {
              "color": "#EBF0F8"
             },
             "line": {
              "color": "white"
             }
            },
            "header": {
             "fill": {
              "color": "#C8D4E3"
             },
             "line": {
              "color": "white"
             }
            },
            "type": "table"
           }
          ]
         },
         "layout": {
          "annotationdefaults": {
           "arrowcolor": "#2a3f5f",
           "arrowhead": 0,
           "arrowwidth": 1
          },
          "autotypenumbers": "strict",
          "coloraxis": {
           "colorbar": {
            "outlinewidth": 0,
            "ticks": ""
           }
          },
          "colorscale": {
           "diverging": [
            [
             0,
             "#8e0152"
            ],
            [
             0.1,
             "#c51b7d"
            ],
            [
             0.2,
             "#de77ae"
            ],
            [
             0.3,
             "#f1b6da"
            ],
            [
             0.4,
             "#fde0ef"
            ],
            [
             0.5,
             "#f7f7f7"
            ],
            [
             0.6,
             "#e6f5d0"
            ],
            [
             0.7,
             "#b8e186"
            ],
            [
             0.8,
             "#7fbc41"
            ],
            [
             0.9,
             "#4d9221"
            ],
            [
             1,
             "#276419"
            ]
           ],
           "sequential": [
            [
             0,
             "#0d0887"
            ],
            [
             0.1111111111111111,
             "#46039f"
            ],
            [
             0.2222222222222222,
             "#7201a8"
            ],
            [
             0.3333333333333333,
             "#9c179e"
            ],
            [
             0.4444444444444444,
             "#bd3786"
            ],
            [
             0.5555555555555556,
             "#d8576b"
            ],
            [
             0.6666666666666666,
             "#ed7953"
            ],
            [
             0.7777777777777778,
             "#fb9f3a"
            ],
            [
             0.8888888888888888,
             "#fdca26"
            ],
            [
             1,
             "#f0f921"
            ]
           ],
           "sequentialminus": [
            [
             0,
             "#0d0887"
            ],
            [
             0.1111111111111111,
             "#46039f"
            ],
            [
             0.2222222222222222,
             "#7201a8"
            ],
            [
             0.3333333333333333,
             "#9c179e"
            ],
            [
             0.4444444444444444,
             "#bd3786"
            ],
            [
             0.5555555555555556,
             "#d8576b"
            ],
            [
             0.6666666666666666,
             "#ed7953"
            ],
            [
             0.7777777777777778,
             "#fb9f3a"
            ],
            [
             0.8888888888888888,
             "#fdca26"
            ],
            [
             1,
             "#f0f921"
            ]
           ]
          },
          "colorway": [
           "#636efa",
           "#EF553B",
           "#00cc96",
           "#ab63fa",
           "#FFA15A",
           "#19d3f3",
           "#FF6692",
           "#B6E880",
           "#FF97FF",
           "#FECB52"
          ],
          "font": {
           "color": "#2a3f5f"
          },
          "geo": {
           "bgcolor": "white",
           "lakecolor": "white",
           "landcolor": "#E5ECF6",
           "showlakes": true,
           "showland": true,
           "subunitcolor": "white"
          },
          "hoverlabel": {
           "align": "left"
          },
          "hovermode": "closest",
          "mapbox": {
           "style": "light"
          },
          "paper_bgcolor": "white",
          "plot_bgcolor": "#E5ECF6",
          "polar": {
           "angularaxis": {
            "gridcolor": "white",
            "linecolor": "white",
            "ticks": ""
           },
           "bgcolor": "#E5ECF6",
           "radialaxis": {
            "gridcolor": "white",
            "linecolor": "white",
            "ticks": ""
           }
          },
          "scene": {
           "xaxis": {
            "backgroundcolor": "#E5ECF6",
            "gridcolor": "white",
            "gridwidth": 2,
            "linecolor": "white",
            "showbackground": true,
            "ticks": "",
            "zerolinecolor": "white"
           },
           "yaxis": {
            "backgroundcolor": "#E5ECF6",
            "gridcolor": "white",
            "gridwidth": 2,
            "linecolor": "white",
            "showbackground": true,
            "ticks": "",
            "zerolinecolor": "white"
           },
           "zaxis": {
            "backgroundcolor": "#E5ECF6",
            "gridcolor": "white",
            "gridwidth": 2,
            "linecolor": "white",
            "showbackground": true,
            "ticks": "",
            "zerolinecolor": "white"
           }
          },
          "shapedefaults": {
           "line": {
            "color": "#2a3f5f"
           }
          },
          "ternary": {
           "aaxis": {
            "gridcolor": "white",
            "linecolor": "white",
            "ticks": ""
           },
           "baxis": {
            "gridcolor": "white",
            "linecolor": "white",
            "ticks": ""
           },
           "bgcolor": "#E5ECF6",
           "caxis": {
            "gridcolor": "white",
            "linecolor": "white",
            "ticks": ""
           }
          },
          "title": {
           "x": 0.05
          },
          "xaxis": {
           "automargin": true,
           "gridcolor": "white",
           "linecolor": "white",
           "ticks": "",
           "title": {
            "standoff": 15
           },
           "zerolinecolor": "white",
           "zerolinewidth": 2
          },
          "yaxis": {
           "automargin": true,
           "gridcolor": "white",
           "linecolor": "white",
           "ticks": "",
           "title": {
            "standoff": 15
           },
           "zerolinecolor": "white",
           "zerolinewidth": 2
          }
         }
        },
        "title": {
         "font": {
          "size": 18
         },
         "text": "Spending Allocation by Layer (Consulting Style)"
        }
       }
      }
     },
     "metadata": {},
     "output_type": "display_data"
    }
   ],
   "source": [
    "#  Prepare the nodes dynamically from the data\n",
    "nodes = [\"Total Spending\"]  # Start with the top layer\n",
    "network_nodes = merged_data['NETWORK'].unique().tolist()\n",
    "nodes.extend(network_nodes)\n",
    "\n",
    "# Map the network index\n",
    "network_indices = {network: idx + 1 for idx, network in enumerate(network_nodes)}\n",
    "\n",
    "platform_nodes = merged_data[['NETWORK', 'PLATFORM']].drop_duplicates()\n",
    "platform_map = {}\n",
    "\n",
    "for _, row in platform_nodes.iterrows():\n",
    "    key = f\"{row['PLATFORM']} ({row['NETWORK']})\"\n",
    "    nodes.append(key)\n",
    "    platform_map[(row['PLATFORM'], row['NETWORK'])] = len(nodes) - 1\n",
    "\n",
    "region_map = {}\n",
    "region_nodes = merged_data[['NETWORK', 'PLATFORM', 'REGION']].drop_duplicates()\n",
    "for _, row in region_nodes.iterrows():\n",
    "    key = f\"{row['REGION']} ({row['PLATFORM']}-{row['NETWORK']})\"\n",
    "    nodes.append(key)\n",
    "    region_map[(row['REGION'], row['PLATFORM'], row['NETWORK'])] = len(nodes) - 1\n",
    "\n",
    "# Prepare the links\n",
    "sources = []\n",
    "targets = []\n",
    "values = []\n",
    "\n",
    "# Total spending to networks\n",
    "for network in network_nodes:\n",
    "    sources.append(0)  # Total Spending node index\n",
    "    targets.append(network_indices[network])\n",
    "    values.append(merged_data[merged_data['NETWORK'] == network]['Network_Alone_Revenue'].iloc[0])\n",
    "\n",
    "# Networks to platforms\n",
    "for (platform, network), idx in platform_map.items():\n",
    "    sources.append(network_indices[network])\n",
    "    targets.append(idx)\n",
    "    values.append(merged_data[(merged_data['NETWORK'] == network) & (merged_data['PLATFORM'] == platform)]['Platform_Network_Revenue'].iloc[0])\n",
    "\n",
    "# Platforms to regions\n",
    "for (region, platform, network), idx in region_map.items():\n",
    "    sources.append(platform_map[(platform, network)])\n",
    "    targets.append(idx)\n",
    "    values.append(merged_data[(merged_data['NETWORK'] == network) & (merged_data['PLATFORM'] == platform) & (merged_data['REGION'] == region)]['Platform_Network_Region_Revenue'].iloc[0])\n",
    "\n",
    "# Create the organizational-style chart\n",
    "fig = go.Figure(go.Sankey(\n",
    "    node=dict(\n",
    "        pad=20,\n",
    "        thickness=30,\n",
    "        line=dict(color=\"black\", width=0.5),\n",
    "        label=nodes,\n",
    "        color=\"lightblue\"\n",
    "    ),\n",
    "    link=dict(\n",
    "        source=sources,\n",
    "        target=targets,\n",
    "        value=values,\n",
    "        color=\"rgba(0,100,200,0.4)\"  # Transparent link color for consulting style\n",
    "    )\n",
    "))\n",
    "\n",
    "fig.update_layout(\n",
    "    title_text=\"Spending Allocation by Layer (Consulting Style)\",\n",
    "    font_size=14,\n",
    "    title_font_size=18,\n",
    "    height=700,\n",
    "    margin=dict(t=50, l=50, r=50, b=50)\n",
    ")\n",
    "\n",
    "fig.show()"
   ]
  },
  {
   "cell_type": "markdown",
   "metadata": {},
   "source": [
    "### We will add the dynamic view"
   ]
  },
  {
   "cell_type": "code",
   "execution_count": 116,
   "metadata": {},
   "outputs": [
    {
     "data": {
      "text/html": [
       "<div>\n",
       "<style scoped>\n",
       "    .dataframe tbody tr th:only-of-type {\n",
       "        vertical-align: middle;\n",
       "    }\n",
       "\n",
       "    .dataframe tbody tr th {\n",
       "        vertical-align: top;\n",
       "    }\n",
       "\n",
       "    .dataframe thead th {\n",
       "        text-align: right;\n",
       "    }\n",
       "</style>\n",
       "<table border=\"1\" class=\"dataframe\">\n",
       "  <thead>\n",
       "    <tr style=\"text-align: right;\">\n",
       "      <th></th>\n",
       "      <th>MONTH</th>\n",
       "      <th>NETWORK</th>\n",
       "      <th>PLATFORM</th>\n",
       "      <th>REGION</th>\n",
       "      <th>Platform_Network_Region_Month_Revenue</th>\n",
       "      <th>Platform_Network_Region_Month_Spending</th>\n",
       "      <th>Platform_Network_Month_Revenue</th>\n",
       "      <th>Platform_Network_Month_Spending</th>\n",
       "      <th>Network_Month_Revenue</th>\n",
       "      <th>Network_Month_Spending</th>\n",
       "      <th>Month_Alone_Revenue</th>\n",
       "      <th>Month_Alone_Spending</th>\n",
       "      <th>Month_Alone_ROAS</th>\n",
       "      <th>Network_Month_ROAS</th>\n",
       "      <th>Platform_Network_Month_ROAS</th>\n",
       "      <th>Platform_Network_Region_Month_ROAS</th>\n",
       "    </tr>\n",
       "  </thead>\n",
       "  <tbody>\n",
       "    <tr>\n",
       "      <th>164</th>\n",
       "      <td>2024-08-01</td>\n",
       "      <td>ADJOE</td>\n",
       "      <td>IOS</td>\n",
       "      <td>US</td>\n",
       "      <td>2568.915949</td>\n",
       "      <td>2531.54</td>\n",
       "      <td>2569.926349</td>\n",
       "      <td>2531.540</td>\n",
       "      <td>31525.845680</td>\n",
       "      <td>31740.384</td>\n",
       "      <td>74254.030324</td>\n",
       "      <td>57530.8620</td>\n",
       "      <td>1.290682</td>\n",
       "      <td>0.993241</td>\n",
       "      <td>1.015163</td>\n",
       "      <td>1.014764</td>\n",
       "    </tr>\n",
       "    <tr>\n",
       "      <th>157</th>\n",
       "      <td>2024-08-01</td>\n",
       "      <td>ADACTION</td>\n",
       "      <td>IOS</td>\n",
       "      <td>ROW</td>\n",
       "      <td>319.965105</td>\n",
       "      <td>612.00</td>\n",
       "      <td>6366.909992</td>\n",
       "      <td>6791.200</td>\n",
       "      <td>21113.706196</td>\n",
       "      <td>20979.200</td>\n",
       "      <td>74254.030324</td>\n",
       "      <td>57530.8620</td>\n",
       "      <td>1.290682</td>\n",
       "      <td>1.006411</td>\n",
       "      <td>0.937524</td>\n",
       "      <td>0.522819</td>\n",
       "    </tr>\n",
       "    <tr>\n",
       "      <th>145</th>\n",
       "      <td>2024-07-01</td>\n",
       "      <td>TYRADS</td>\n",
       "      <td>IOS</td>\n",
       "      <td>ROW</td>\n",
       "      <td>213.915924</td>\n",
       "      <td>218.85</td>\n",
       "      <td>2902.961460</td>\n",
       "      <td>3606.790</td>\n",
       "      <td>10812.313498</td>\n",
       "      <td>13511.944</td>\n",
       "      <td>136955.607512</td>\n",
       "      <td>129055.9154</td>\n",
       "      <td>1.061211</td>\n",
       "      <td>0.800204</td>\n",
       "      <td>0.804860</td>\n",
       "      <td>0.977455</td>\n",
       "    </tr>\n",
       "    <tr>\n",
       "      <th>3</th>\n",
       "      <td>2024-06-01</td>\n",
       "      <td>ADACTION</td>\n",
       "      <td>IOS</td>\n",
       "      <td>EU</td>\n",
       "      <td>2484.285060</td>\n",
       "      <td>2882.40</td>\n",
       "      <td>14404.209756</td>\n",
       "      <td>12469.600</td>\n",
       "      <td>31686.339878</td>\n",
       "      <td>34834.600</td>\n",
       "      <td>171447.414933</td>\n",
       "      <td>166208.6783</td>\n",
       "      <td>1.031519</td>\n",
       "      <td>0.909623</td>\n",
       "      <td>1.155146</td>\n",
       "      <td>0.861881</td>\n",
       "    </tr>\n",
       "    <tr>\n",
       "      <th>6</th>\n",
       "      <td>2024-06-01</td>\n",
       "      <td>ADJOE</td>\n",
       "      <td>ANDROID</td>\n",
       "      <td>EU</td>\n",
       "      <td>17613.393127</td>\n",
       "      <td>17989.84</td>\n",
       "      <td>42773.722127</td>\n",
       "      <td>42022.745</td>\n",
       "      <td>43882.976758</td>\n",
       "      <td>43072.745</td>\n",
       "      <td>171447.414933</td>\n",
       "      <td>166208.6783</td>\n",
       "      <td>1.031519</td>\n",
       "      <td>1.018811</td>\n",
       "      <td>1.017871</td>\n",
       "      <td>0.979074</td>\n",
       "    </tr>\n",
       "  </tbody>\n",
       "</table>\n",
       "</div>"
      ],
      "text/plain": [
       "         MONTH   NETWORK PLATFORM REGION  \\\n",
       "164 2024-08-01     ADJOE      IOS     US   \n",
       "157 2024-08-01  ADACTION      IOS    ROW   \n",
       "145 2024-07-01    TYRADS      IOS    ROW   \n",
       "3   2024-06-01  ADACTION      IOS     EU   \n",
       "6   2024-06-01     ADJOE  ANDROID     EU   \n",
       "\n",
       "     Platform_Network_Region_Month_Revenue  \\\n",
       "164                            2568.915949   \n",
       "157                             319.965105   \n",
       "145                             213.915924   \n",
       "3                              2484.285060   \n",
       "6                             17613.393127   \n",
       "\n",
       "     Platform_Network_Region_Month_Spending  Platform_Network_Month_Revenue  \\\n",
       "164                                 2531.54                     2569.926349   \n",
       "157                                  612.00                     6366.909992   \n",
       "145                                  218.85                     2902.961460   \n",
       "3                                   2882.40                    14404.209756   \n",
       "6                                  17989.84                    42773.722127   \n",
       "\n",
       "     Platform_Network_Month_Spending  Network_Month_Revenue  \\\n",
       "164                         2531.540           31525.845680   \n",
       "157                         6791.200           21113.706196   \n",
       "145                         3606.790           10812.313498   \n",
       "3                          12469.600           31686.339878   \n",
       "6                          42022.745           43882.976758   \n",
       "\n",
       "     Network_Month_Spending  Month_Alone_Revenue  Month_Alone_Spending  \\\n",
       "164               31740.384         74254.030324            57530.8620   \n",
       "157               20979.200         74254.030324            57530.8620   \n",
       "145               13511.944        136955.607512           129055.9154   \n",
       "3                 34834.600        171447.414933           166208.6783   \n",
       "6                 43072.745        171447.414933           166208.6783   \n",
       "\n",
       "     Month_Alone_ROAS  Network_Month_ROAS  Platform_Network_Month_ROAS  \\\n",
       "164          1.290682            0.993241                     1.015163   \n",
       "157          1.290682            1.006411                     0.937524   \n",
       "145          1.061211            0.800204                     0.804860   \n",
       "3            1.031519            0.909623                     1.155146   \n",
       "6            1.031519            1.018811                     1.017871   \n",
       "\n",
       "     Platform_Network_Region_Month_ROAS  \n",
       "164                            1.014764  \n",
       "157                            0.522819  \n",
       "145                            0.977455  \n",
       "3                              0.861881  \n",
       "6                              0.979074  "
      ]
     },
     "execution_count": 116,
     "metadata": {},
     "output_type": "execute_result"
    }
   ],
   "source": [
    "# Adjusting the breakdown to include \"Month-Alone Spending\" and hierarchical levels\n",
    "\n",
    "# Step 1: Calculate revenues and spending at each level, including MONTH\n",
    "grouped_data = data.groupby(['MONTH', 'NETWORK', 'PLATFORM', 'REGION'])[\n",
    "    ['NON_COHORTED_AD_REVENUE', 'AD_REVENUE_COHORTED', 'UA_SPEND']\n",
    "].sum().reset_index()\n",
    "\n",
    "# Calculate total revenue (sum of cohorted and non-cohorted revenue)\n",
    "grouped_data['TOTAL_REVENUE'] = grouped_data['NON_COHORTED_AD_REVENUE'] + grouped_data['AD_REVENUE_COHORTED']\n",
    "\n",
    "# Step 2: Summarize revenues and spending for each hierarchy level\n",
    "# Revenue and spending for Month level alone\n",
    "month_revenue_spending = grouped_data.groupby(['MONTH'])[\n",
    "    ['TOTAL_REVENUE', 'UA_SPEND']\n",
    "].sum().reset_index().rename(columns={\n",
    "    'TOTAL_REVENUE': 'Month_Alone_Revenue',\n",
    "    'UA_SPEND': 'Month_Alone_Spending'\n",
    "})\n",
    "\n",
    "# Revenue and spending for Network-Month level\n",
    "network_month_revenue_spending = grouped_data.groupby(['MONTH', 'NETWORK'])[\n",
    "    ['TOTAL_REVENUE', 'UA_SPEND']\n",
    "].sum().reset_index().rename(columns={\n",
    "    'TOTAL_REVENUE': 'Network_Month_Revenue',\n",
    "    'UA_SPEND': 'Network_Month_Spending'\n",
    "})\n",
    "\n",
    "# Revenue and spending for Platform-Network-Month level\n",
    "platform_network_month_revenue_spending = grouped_data.groupby(['MONTH', 'NETWORK', 'PLATFORM'])[\n",
    "    ['TOTAL_REVENUE', 'UA_SPEND']\n",
    "].sum().reset_index().rename(columns={\n",
    "    'TOTAL_REVENUE': 'Platform_Network_Month_Revenue',\n",
    "    'UA_SPEND': 'Platform_Network_Month_Spending'\n",
    "})\n",
    "\n",
    "# Revenue and spending for Platform-Network-Region-Month level\n",
    "platform_network_region_month_revenue_spending = grouped_data.groupby(['MONTH', 'NETWORK', 'PLATFORM', 'REGION'])[\n",
    "    ['TOTAL_REVENUE', 'UA_SPEND']\n",
    "].sum().reset_index().rename(columns={\n",
    "    'TOTAL_REVENUE': 'Platform_Network_Region_Month_Revenue',\n",
    "    'UA_SPEND': 'Platform_Network_Region_Month_Spending'\n",
    "})\n",
    "\n",
    "# Merge the results into a single dataset\n",
    "merged_data = platform_network_region_month_revenue_spending.merge(\n",
    "    platform_network_month_revenue_spending, on=['MONTH', 'NETWORK', 'PLATFORM'], how='left'\n",
    ").merge(\n",
    "    network_month_revenue_spending, on=['MONTH', 'NETWORK'], how='left'\n",
    ").merge(\n",
    "    month_revenue_spending, on=['MONTH'], how='left'\n",
    ")\n",
    "\n",
    "# Adding ROAS (Return on Ad Spend) to the merged dataset\n",
    "merged_data = merged_data[merged_data['Platform_Network_Region_Month_Spending'] > 0]\n",
    "\n",
    "# Calculate ROAS at each level\n",
    "merged_data['Month_Alone_ROAS'] = merged_data['Month_Alone_Revenue'] / merged_data['Month_Alone_Spending']\n",
    "merged_data['Network_Month_ROAS'] = merged_data['Network_Month_Revenue'] / merged_data['Network_Month_Spending']\n",
    "merged_data['Platform_Network_Month_ROAS'] = merged_data['Platform_Network_Month_Revenue'] / merged_data['Platform_Network_Month_Spending']\n",
    "merged_data['Platform_Network_Region_Month_ROAS'] = merged_data['Platform_Network_Region_Month_Revenue'] / merged_data['Platform_Network_Region_Month_Spending']\n",
    "\n",
    "# Display the resulting dataset\n",
    "merged_data.sample(5)"
   ]
  },
  {
   "cell_type": "code",
   "execution_count": 122,
   "metadata": {},
   "outputs": [
    {
     "data": {
      "application/vnd.plotly.v1+json": {
       "config": {
        "plotlyServerURL": "https://plot.ly"
       },
       "data": [
        {
         "link": {
          "color": "rgba(0,100,200,0.4)",
          "source": [
           0,
           0,
           0,
           0,
           0,
           0,
           1,
           1,
           1,
           1,
           1,
           2,
           2,
           2,
           3,
           3,
           4,
           4,
           5,
           6,
           7,
           8,
           8,
           9,
           9,
           10,
           10,
           11,
           12,
           13,
           13,
           14,
           14,
           15,
           15,
           16,
           16,
           17,
           18,
           18,
           18,
           19,
           19,
           19,
           20,
           21,
           21,
           21,
           22,
           22,
           22,
           23,
           23,
           24,
           24,
           24,
           25,
           25,
           25,
           26,
           27,
           27,
           27,
           28,
           28,
           28,
           29,
           30,
           30,
           30,
           31,
           31,
           32,
           32,
           32,
           33,
           33,
           33,
           34,
           35,
           35,
           35,
           36,
           36,
           36,
           37,
           38,
           38,
           38,
           39,
           39,
           39
          ],
          "target": [
           3,
           4,
           5,
           6,
           7,
           8,
           9,
           10,
           11,
           12,
           13,
           14,
           15,
           16,
           17,
           18,
           19,
           20,
           21,
           22,
           23,
           24,
           25,
           26,
           27,
           28,
           29,
           30,
           31,
           32,
           33,
           34,
           35,
           36,
           37,
           38,
           39,
           40,
           41,
           42,
           43,
           44,
           45,
           46,
           47,
           48,
           49,
           50,
           51,
           52,
           53,
           54,
           55,
           56,
           57,
           58,
           59,
           60,
           61,
           62,
           63,
           64,
           65,
           66,
           67,
           68,
           69,
           70,
           71,
           72,
           73,
           74,
           75,
           76,
           77,
           78,
           79,
           80,
           81,
           82,
           83,
           84,
           85,
           86,
           87,
           88,
           89,
           90,
           91,
           92,
           93,
           94
          ],
          "value": [
           31686.339877567894,
           43882.97675766766,
           58270.33059820369,
           247.4838287785543,
           13791.021810645,
           10772.86436356454,
           27099.948733103553,
           44186.76316801925,
           35574.72268134445,
           7460.294419156,
           10812.313497543784,
           21113.706196420015,
           31525.845680068054,
           4948.464004481581,
           17282.130121775004,
           14404.20975579289,
           42773.72212697666,
           1109.254630691,
           58147.2214982037,
           247.4838287785543,
           13791.021810645,
           7095.58840432674,
           3677.2759592378,
           19702.38194431555,
           7397.566788788001,
           41429.71626274925,
           2757.04690527,
           35475.187081344455,
           7460.294419156,
           7909.352037074884,
           2902.9614604689,
           14746.796204803015,
           6366.909991617001,
           28955.91933103105,
           2569.9263490370004,
           3049.00433289777,
           1899.4596715838102,
           17276.408770361,
           2484.2850602089998,
           1464.49907653789,
           10455.425619046,
           17613.39312738783,
           11861.26030041183,
           13299.068699177,
           1108.471820894,
           14028.78039042398,
           25611.46437036271,
           18506.976737417,
           33.962259454471,
           73.19304028008331,
           140.32852904400002,
           649.61524938,
           13141.406561265,
           93.0416932178,
           2352.55478938994,
           4649.991921719,
           188.25652255900002,
           321.12141983280003,
           3167.8980168460002,
           19678.180024501,
           1730.289205777,
           1374.58703255,
           4292.690550461,
           17874.5632961872,
           13113.679031314048,
           10441.473935248,
           2756.68590527,
           11896.990439203686,
           10705.391873833767,
           12872.804768307,
           450.43258238299995,
           7009.861836773,
           124.309764092,
           2575.507627032884,
           5209.53464595,
           88.7806731953,
           213.9159242806,
           2600.264862993,
           14741.803116053,
           520.308606099,
           319.965104908,
           5526.6362806100005,
           13240.2262787456,
           12535.787968969453,
           3179.905083316,
           2568.9159490370002,
           128.174828121,
           1426.00949032777,
           1494.8200144490002,
           175.615089226,
           361.14411820181,
           1362.7004641560002
          ]
         },
         "node": {
          "color": "lightblue",
          "label": [
           "2024-06-01T00:00:00",
           "2024-07-01T00:00:00",
           "2024-08-01T00:00:00",
           "ADACTION",
           "ADJOE",
           "APPLOVIN",
           "AURA IRONSOURCE",
           "BLIND FERRET ENGAGE",
           "TYRADS",
           "ADACTION",
           "ADJOE",
           "APPLOVIN",
           "BLIND FERRET ENGAGE",
           "TYRADS",
           "ADACTION",
           "ADJOE",
           "TYRADS",
           "ANDROID",
           "IOS",
           "ANDROID",
           "IOS",
           "ANDROID",
           "ANDROID",
           "ANDROID",
           "ANDROID",
           "IOS",
           "ANDROID",
           "IOS",
           "ANDROID",
           "IOS",
           "ANDROID",
           "ANDROID",
           "ANDROID",
           "IOS",
           "ANDROID",
           "IOS",
           "ANDROID",
           "IOS",
           "ANDROID",
           "IOS",
           "US)",
           "EU)",
           "ROW)",
           "US)",
           "EU)",
           "ROW)",
           "US)",
           "US)",
           "EU)",
           "ROW)",
           "US)",
           "EU)",
           "ROW)",
           "US)",
           "ROW)",
           "US)",
           "EU)",
           "ROW)",
           "US)",
           "EU)",
           "ROW)",
           "US)",
           "US)",
           "EU)",
           "ROW)",
           "US)",
           "EU)",
           "ROW)",
           "US)",
           "US)",
           "EU)",
           "ROW)",
           "US)",
           "ROW)",
           "US)",
           "EU)",
           "ROW)",
           "US)",
           "EU)",
           "ROW)",
           "US)",
           "US)",
           "EU)",
           "ROW)",
           "US)",
           "EU)",
           "ROW)",
           "US)",
           "US)",
           "EU)",
           "ROW)",
           "US)",
           "EU)",
           "ROW)",
           "US)"
          ],
          "line": {
           "color": "black",
           "width": 0.5
          },
          "pad": 20,
          "thickness": 30
         },
         "type": "sankey"
        }
       ],
       "layout": {
        "font": {
         "size": 14
        },
        "height": 900,
        "margin": {
         "b": 50,
         "l": 50,
         "r": 50,
         "t": 50
        },
        "template": {
         "data": {
          "bar": [
           {
            "error_x": {
             "color": "#2a3f5f"
            },
            "error_y": {
             "color": "#2a3f5f"
            },
            "marker": {
             "line": {
              "color": "#E5ECF6",
              "width": 0.5
             },
             "pattern": {
              "fillmode": "overlay",
              "size": 10,
              "solidity": 0.2
             }
            },
            "type": "bar"
           }
          ],
          "barpolar": [
           {
            "marker": {
             "line": {
              "color": "#E5ECF6",
              "width": 0.5
             },
             "pattern": {
              "fillmode": "overlay",
              "size": 10,
              "solidity": 0.2
             }
            },
            "type": "barpolar"
           }
          ],
          "carpet": [
           {
            "aaxis": {
             "endlinecolor": "#2a3f5f",
             "gridcolor": "white",
             "linecolor": "white",
             "minorgridcolor": "white",
             "startlinecolor": "#2a3f5f"
            },
            "baxis": {
             "endlinecolor": "#2a3f5f",
             "gridcolor": "white",
             "linecolor": "white",
             "minorgridcolor": "white",
             "startlinecolor": "#2a3f5f"
            },
            "type": "carpet"
           }
          ],
          "choropleth": [
           {
            "colorbar": {
             "outlinewidth": 0,
             "ticks": ""
            },
            "type": "choropleth"
           }
          ],
          "contour": [
           {
            "colorbar": {
             "outlinewidth": 0,
             "ticks": ""
            },
            "colorscale": [
             [
              0,
              "#0d0887"
             ],
             [
              0.1111111111111111,
              "#46039f"
             ],
             [
              0.2222222222222222,
              "#7201a8"
             ],
             [
              0.3333333333333333,
              "#9c179e"
             ],
             [
              0.4444444444444444,
              "#bd3786"
             ],
             [
              0.5555555555555556,
              "#d8576b"
             ],
             [
              0.6666666666666666,
              "#ed7953"
             ],
             [
              0.7777777777777778,
              "#fb9f3a"
             ],
             [
              0.8888888888888888,
              "#fdca26"
             ],
             [
              1,
              "#f0f921"
             ]
            ],
            "type": "contour"
           }
          ],
          "contourcarpet": [
           {
            "colorbar": {
             "outlinewidth": 0,
             "ticks": ""
            },
            "type": "contourcarpet"
           }
          ],
          "heatmap": [
           {
            "colorbar": {
             "outlinewidth": 0,
             "ticks": ""
            },
            "colorscale": [
             [
              0,
              "#0d0887"
             ],
             [
              0.1111111111111111,
              "#46039f"
             ],
             [
              0.2222222222222222,
              "#7201a8"
             ],
             [
              0.3333333333333333,
              "#9c179e"
             ],
             [
              0.4444444444444444,
              "#bd3786"
             ],
             [
              0.5555555555555556,
              "#d8576b"
             ],
             [
              0.6666666666666666,
              "#ed7953"
             ],
             [
              0.7777777777777778,
              "#fb9f3a"
             ],
             [
              0.8888888888888888,
              "#fdca26"
             ],
             [
              1,
              "#f0f921"
             ]
            ],
            "type": "heatmap"
           }
          ],
          "heatmapgl": [
           {
            "colorbar": {
             "outlinewidth": 0,
             "ticks": ""
            },
            "colorscale": [
             [
              0,
              "#0d0887"
             ],
             [
              0.1111111111111111,
              "#46039f"
             ],
             [
              0.2222222222222222,
              "#7201a8"
             ],
             [
              0.3333333333333333,
              "#9c179e"
             ],
             [
              0.4444444444444444,
              "#bd3786"
             ],
             [
              0.5555555555555556,
              "#d8576b"
             ],
             [
              0.6666666666666666,
              "#ed7953"
             ],
             [
              0.7777777777777778,
              "#fb9f3a"
             ],
             [
              0.8888888888888888,
              "#fdca26"
             ],
             [
              1,
              "#f0f921"
             ]
            ],
            "type": "heatmapgl"
           }
          ],
          "histogram": [
           {
            "marker": {
             "pattern": {
              "fillmode": "overlay",
              "size": 10,
              "solidity": 0.2
             }
            },
            "type": "histogram"
           }
          ],
          "histogram2d": [
           {
            "colorbar": {
             "outlinewidth": 0,
             "ticks": ""
            },
            "colorscale": [
             [
              0,
              "#0d0887"
             ],
             [
              0.1111111111111111,
              "#46039f"
             ],
             [
              0.2222222222222222,
              "#7201a8"
             ],
             [
              0.3333333333333333,
              "#9c179e"
             ],
             [
              0.4444444444444444,
              "#bd3786"
             ],
             [
              0.5555555555555556,
              "#d8576b"
             ],
             [
              0.6666666666666666,
              "#ed7953"
             ],
             [
              0.7777777777777778,
              "#fb9f3a"
             ],
             [
              0.8888888888888888,
              "#fdca26"
             ],
             [
              1,
              "#f0f921"
             ]
            ],
            "type": "histogram2d"
           }
          ],
          "histogram2dcontour": [
           {
            "colorbar": {
             "outlinewidth": 0,
             "ticks": ""
            },
            "colorscale": [
             [
              0,
              "#0d0887"
             ],
             [
              0.1111111111111111,
              "#46039f"
             ],
             [
              0.2222222222222222,
              "#7201a8"
             ],
             [
              0.3333333333333333,
              "#9c179e"
             ],
             [
              0.4444444444444444,
              "#bd3786"
             ],
             [
              0.5555555555555556,
              "#d8576b"
             ],
             [
              0.6666666666666666,
              "#ed7953"
             ],
             [
              0.7777777777777778,
              "#fb9f3a"
             ],
             [
              0.8888888888888888,
              "#fdca26"
             ],
             [
              1,
              "#f0f921"
             ]
            ],
            "type": "histogram2dcontour"
           }
          ],
          "mesh3d": [
           {
            "colorbar": {
             "outlinewidth": 0,
             "ticks": ""
            },
            "type": "mesh3d"
           }
          ],
          "parcoords": [
           {
            "line": {
             "colorbar": {
              "outlinewidth": 0,
              "ticks": ""
             }
            },
            "type": "parcoords"
           }
          ],
          "pie": [
           {
            "automargin": true,
            "type": "pie"
           }
          ],
          "scatter": [
           {
            "fillpattern": {
             "fillmode": "overlay",
             "size": 10,
             "solidity": 0.2
            },
            "type": "scatter"
           }
          ],
          "scatter3d": [
           {
            "line": {
             "colorbar": {
              "outlinewidth": 0,
              "ticks": ""
             }
            },
            "marker": {
             "colorbar": {
              "outlinewidth": 0,
              "ticks": ""
             }
            },
            "type": "scatter3d"
           }
          ],
          "scattercarpet": [
           {
            "marker": {
             "colorbar": {
              "outlinewidth": 0,
              "ticks": ""
             }
            },
            "type": "scattercarpet"
           }
          ],
          "scattergeo": [
           {
            "marker": {
             "colorbar": {
              "outlinewidth": 0,
              "ticks": ""
             }
            },
            "type": "scattergeo"
           }
          ],
          "scattergl": [
           {
            "marker": {
             "colorbar": {
              "outlinewidth": 0,
              "ticks": ""
             }
            },
            "type": "scattergl"
           }
          ],
          "scattermapbox": [
           {
            "marker": {
             "colorbar": {
              "outlinewidth": 0,
              "ticks": ""
             }
            },
            "type": "scattermapbox"
           }
          ],
          "scatterpolar": [
           {
            "marker": {
             "colorbar": {
              "outlinewidth": 0,
              "ticks": ""
             }
            },
            "type": "scatterpolar"
           }
          ],
          "scatterpolargl": [
           {
            "marker": {
             "colorbar": {
              "outlinewidth": 0,
              "ticks": ""
             }
            },
            "type": "scatterpolargl"
           }
          ],
          "scatterternary": [
           {
            "marker": {
             "colorbar": {
              "outlinewidth": 0,
              "ticks": ""
             }
            },
            "type": "scatterternary"
           }
          ],
          "surface": [
           {
            "colorbar": {
             "outlinewidth": 0,
             "ticks": ""
            },
            "colorscale": [
             [
              0,
              "#0d0887"
             ],
             [
              0.1111111111111111,
              "#46039f"
             ],
             [
              0.2222222222222222,
              "#7201a8"
             ],
             [
              0.3333333333333333,
              "#9c179e"
             ],
             [
              0.4444444444444444,
              "#bd3786"
             ],
             [
              0.5555555555555556,
              "#d8576b"
             ],
             [
              0.6666666666666666,
              "#ed7953"
             ],
             [
              0.7777777777777778,
              "#fb9f3a"
             ],
             [
              0.8888888888888888,
              "#fdca26"
             ],
             [
              1,
              "#f0f921"
             ]
            ],
            "type": "surface"
           }
          ],
          "table": [
           {
            "cells": {
             "fill": {
              "color": "#EBF0F8"
             },
             "line": {
              "color": "white"
             }
            },
            "header": {
             "fill": {
              "color": "#C8D4E3"
             },
             "line": {
              "color": "white"
             }
            },
            "type": "table"
           }
          ]
         },
         "layout": {
          "annotationdefaults": {
           "arrowcolor": "#2a3f5f",
           "arrowhead": 0,
           "arrowwidth": 1
          },
          "autotypenumbers": "strict",
          "coloraxis": {
           "colorbar": {
            "outlinewidth": 0,
            "ticks": ""
           }
          },
          "colorscale": {
           "diverging": [
            [
             0,
             "#8e0152"
            ],
            [
             0.1,
             "#c51b7d"
            ],
            [
             0.2,
             "#de77ae"
            ],
            [
             0.3,
             "#f1b6da"
            ],
            [
             0.4,
             "#fde0ef"
            ],
            [
             0.5,
             "#f7f7f7"
            ],
            [
             0.6,
             "#e6f5d0"
            ],
            [
             0.7,
             "#b8e186"
            ],
            [
             0.8,
             "#7fbc41"
            ],
            [
             0.9,
             "#4d9221"
            ],
            [
             1,
             "#276419"
            ]
           ],
           "sequential": [
            [
             0,
             "#0d0887"
            ],
            [
             0.1111111111111111,
             "#46039f"
            ],
            [
             0.2222222222222222,
             "#7201a8"
            ],
            [
             0.3333333333333333,
             "#9c179e"
            ],
            [
             0.4444444444444444,
             "#bd3786"
            ],
            [
             0.5555555555555556,
             "#d8576b"
            ],
            [
             0.6666666666666666,
             "#ed7953"
            ],
            [
             0.7777777777777778,
             "#fb9f3a"
            ],
            [
             0.8888888888888888,
             "#fdca26"
            ],
            [
             1,
             "#f0f921"
            ]
           ],
           "sequentialminus": [
            [
             0,
             "#0d0887"
            ],
            [
             0.1111111111111111,
             "#46039f"
            ],
            [
             0.2222222222222222,
             "#7201a8"
            ],
            [
             0.3333333333333333,
             "#9c179e"
            ],
            [
             0.4444444444444444,
             "#bd3786"
            ],
            [
             0.5555555555555556,
             "#d8576b"
            ],
            [
             0.6666666666666666,
             "#ed7953"
            ],
            [
             0.7777777777777778,
             "#fb9f3a"
            ],
            [
             0.8888888888888888,
             "#fdca26"
            ],
            [
             1,
             "#f0f921"
            ]
           ]
          },
          "colorway": [
           "#636efa",
           "#EF553B",
           "#00cc96",
           "#ab63fa",
           "#FFA15A",
           "#19d3f3",
           "#FF6692",
           "#B6E880",
           "#FF97FF",
           "#FECB52"
          ],
          "font": {
           "color": "#2a3f5f"
          },
          "geo": {
           "bgcolor": "white",
           "lakecolor": "white",
           "landcolor": "#E5ECF6",
           "showlakes": true,
           "showland": true,
           "subunitcolor": "white"
          },
          "hoverlabel": {
           "align": "left"
          },
          "hovermode": "closest",
          "mapbox": {
           "style": "light"
          },
          "paper_bgcolor": "white",
          "plot_bgcolor": "#E5ECF6",
          "polar": {
           "angularaxis": {
            "gridcolor": "white",
            "linecolor": "white",
            "ticks": ""
           },
           "bgcolor": "#E5ECF6",
           "radialaxis": {
            "gridcolor": "white",
            "linecolor": "white",
            "ticks": ""
           }
          },
          "scene": {
           "xaxis": {
            "backgroundcolor": "#E5ECF6",
            "gridcolor": "white",
            "gridwidth": 2,
            "linecolor": "white",
            "showbackground": true,
            "ticks": "",
            "zerolinecolor": "white"
           },
           "yaxis": {
            "backgroundcolor": "#E5ECF6",
            "gridcolor": "white",
            "gridwidth": 2,
            "linecolor": "white",
            "showbackground": true,
            "ticks": "",
            "zerolinecolor": "white"
           },
           "zaxis": {
            "backgroundcolor": "#E5ECF6",
            "gridcolor": "white",
            "gridwidth": 2,
            "linecolor": "white",
            "showbackground": true,
            "ticks": "",
            "zerolinecolor": "white"
           }
          },
          "shapedefaults": {
           "line": {
            "color": "#2a3f5f"
           }
          },
          "ternary": {
           "aaxis": {
            "gridcolor": "white",
            "linecolor": "white",
            "ticks": ""
           },
           "baxis": {
            "gridcolor": "white",
            "linecolor": "white",
            "ticks": ""
           },
           "bgcolor": "#E5ECF6",
           "caxis": {
            "gridcolor": "white",
            "linecolor": "white",
            "ticks": ""
           }
          },
          "title": {
           "x": 0.05
          },
          "xaxis": {
           "automargin": true,
           "gridcolor": "white",
           "linecolor": "white",
           "ticks": "",
           "title": {
            "standoff": 15
           },
           "zerolinecolor": "white",
           "zerolinewidth": 2
          },
          "yaxis": {
           "automargin": true,
           "gridcolor": "white",
           "linecolor": "white",
           "ticks": "",
           "title": {
            "standoff": 15
           },
           "zerolinecolor": "white",
           "zerolinewidth": 2
          }
         }
        },
        "title": {
         "font": {
          "size": 18
         },
         "text": "Spending Allocation by Month (Consulting Style)"
        }
       }
      }
     },
     "metadata": {},
     "output_type": "display_data"
    }
   ],
   "source": [
    "import plotly.graph_objects as go\n",
    "\n",
    "# Prepare the nodes dynamically from the data with \"Month\" as the first node\n",
    "nodes = []  # Start with an empty list of nodes\n",
    "month_nodes = merged_data['MONTH'].unique().tolist()\n",
    "nodes.extend(month_nodes)\n",
    "\n",
    "# Map the month index\n",
    "month_indices = {month: idx for idx, month in enumerate(month_nodes)}\n",
    "\n",
    "network_nodes = merged_data[['MONTH', 'NETWORK']].drop_duplicates()\n",
    "network_map = {}\n",
    "\n",
    "for _, row in network_nodes.iterrows():\n",
    "    key = f\"{row['NETWORK']}\"\n",
    "    nodes.append(key)\n",
    "    network_map[(row['MONTH'], row['NETWORK'])] = len(nodes) - 1\n",
    "\n",
    "platform_nodes = merged_data[['MONTH', 'NETWORK', 'PLATFORM']].drop_duplicates()\n",
    "platform_map = {}\n",
    "\n",
    "for _, row in platform_nodes.iterrows():\n",
    "    key = f\"{row['PLATFORM']}\"\n",
    "    nodes.append(key)\n",
    "    platform_map[(row['MONTH'], row['NETWORK'], row['PLATFORM'])] = len(nodes) - 1\n",
    "\n",
    "region_map = {}\n",
    "region_nodes = merged_data[['MONTH', 'NETWORK', 'PLATFORM', 'REGION']].drop_duplicates()\n",
    "for _, row in region_nodes.iterrows():\n",
    "    key = f\"{row['REGION']})\"\n",
    "    nodes.append(key)\n",
    "    region_map[(row['MONTH'], row['NETWORK'], row['PLATFORM'], row['REGION'])] = len(nodes) - 1\n",
    "\n",
    "# Prepare the links\n",
    "sources = []\n",
    "targets = []\n",
    "values = []\n",
    "\n",
    "# Month to networks\n",
    "for (month, network), idx in network_map.items():\n",
    "    sources.append(month_indices[month])  # Month node index\n",
    "    targets.append(idx)\n",
    "    values.append(merged_data[(merged_data['MONTH'] == month) & (merged_data['NETWORK'] == network)]['Network_Month_Revenue'].iloc[0])\n",
    "\n",
    "# Networks to platforms\n",
    "for (month, network, platform), idx in platform_map.items():\n",
    "    sources.append(network_map[(month, network)])\n",
    "    targets.append(idx)\n",
    "    values.append(merged_data[(merged_data['MONTH'] == month) & (merged_data['NETWORK'] == network) & (merged_data['PLATFORM'] == platform)]['Platform_Network_Month_Revenue'].iloc[0])\n",
    "\n",
    "# Platforms to regions\n",
    "for (month, network, platform, region), idx in region_map.items():\n",
    "    sources.append(platform_map[(month, network, platform)])\n",
    "    targets.append(idx)\n",
    "    values.append(merged_data[(merged_data['MONTH'] == month) & (merged_data['NETWORK'] == network) & (merged_data['PLATFORM'] == platform) & (merged_data['REGION'] == region)]['Platform_Network_Region_Month_Revenue'].iloc[0])\n",
    "\n",
    "# Create the organizational-style chart with month as the first node\n",
    "fig = go.Figure(go.Sankey(\n",
    "    node=dict(\n",
    "        pad=20,\n",
    "        thickness=30,\n",
    "        line=dict(color=\"black\", width=0.5),\n",
    "        label=nodes,\n",
    "        color=\"lightblue\"\n",
    "    ),\n",
    "    link=dict(\n",
    "        source=sources,\n",
    "        target=targets,\n",
    "        value=values,\n",
    "        color=\"rgba(0,100,200,0.4)\"  # Transparent link color for consulting style\n",
    "    )\n",
    "))\n",
    "\n",
    "fig.update_layout(\n",
    "    title_text=\"Spending Allocation by Month (Consulting Style)\",\n",
    "    font_size=14,\n",
    "    title_font_size=18,\n",
    "    height=900,\n",
    "    margin=dict(t=50, l=50, r=50, b=50)\n",
    ")\n",
    "\n",
    "fig.show()\n"
   ]
  },
  {
   "cell_type": "code",
   "execution_count": 115,
   "metadata": {},
   "outputs": [
    {
     "ename": "KeyError",
     "evalue": "'Month_Alone_Spending'",
     "output_type": "error",
     "traceback": [
      "\u001b[1;31m---------------------------------------------------------------------------\u001b[0m",
      "\u001b[1;31mKeyError\u001b[0m                                  Traceback (most recent call last)",
      "Cell \u001b[1;32mIn[115], line 1\u001b[0m\n\u001b[1;32m----> 1\u001b[0m \u001b[43mmerged_data\u001b[49m\u001b[38;5;241;43m.\u001b[39;49m\u001b[43msort_values\u001b[49m\u001b[43m(\u001b[49m\u001b[43mby\u001b[49m\u001b[43m \u001b[49m\u001b[38;5;241;43m=\u001b[39;49m\u001b[43m \u001b[49m\u001b[38;5;124;43m'\u001b[39;49m\u001b[38;5;124;43mMonth_Alone_Spending\u001b[39;49m\u001b[38;5;124;43m'\u001b[39;49m\u001b[43m)\u001b[49m\u001b[38;5;241m.\u001b[39msample(\u001b[38;5;241m5\u001b[39m)\n",
      "File \u001b[1;32mc:\\Users\\Win11\\AppData\\Local\\Programs\\Python\\Python313\\Lib\\site-packages\\pandas\\core\\frame.py:7189\u001b[0m, in \u001b[0;36mDataFrame.sort_values\u001b[1;34m(self, by, axis, ascending, inplace, kind, na_position, ignore_index, key)\u001b[0m\n\u001b[0;32m   7183\u001b[0m     indexer \u001b[38;5;241m=\u001b[39m lexsort_indexer(\n\u001b[0;32m   7184\u001b[0m         keys, orders\u001b[38;5;241m=\u001b[39mascending, na_position\u001b[38;5;241m=\u001b[39mna_position, key\u001b[38;5;241m=\u001b[39mkey\n\u001b[0;32m   7185\u001b[0m     )\n\u001b[0;32m   7186\u001b[0m \u001b[38;5;28;01melif\u001b[39;00m \u001b[38;5;28mlen\u001b[39m(by):\n\u001b[0;32m   7187\u001b[0m     \u001b[38;5;66;03m# len(by) == 1\u001b[39;00m\n\u001b[1;32m-> 7189\u001b[0m     k \u001b[38;5;241m=\u001b[39m \u001b[38;5;28;43mself\u001b[39;49m\u001b[38;5;241;43m.\u001b[39;49m\u001b[43m_get_label_or_level_values\u001b[49m\u001b[43m(\u001b[49m\u001b[43mby\u001b[49m\u001b[43m[\u001b[49m\u001b[38;5;241;43m0\u001b[39;49m\u001b[43m]\u001b[49m\u001b[43m,\u001b[49m\u001b[43m \u001b[49m\u001b[43maxis\u001b[49m\u001b[38;5;241;43m=\u001b[39;49m\u001b[43maxis\u001b[49m\u001b[43m)\u001b[49m\n\u001b[0;32m   7191\u001b[0m     \u001b[38;5;66;03m# need to rewrap column in Series to apply key function\u001b[39;00m\n\u001b[0;32m   7192\u001b[0m     \u001b[38;5;28;01mif\u001b[39;00m key \u001b[38;5;129;01mis\u001b[39;00m \u001b[38;5;129;01mnot\u001b[39;00m \u001b[38;5;28;01mNone\u001b[39;00m:\n\u001b[0;32m   7193\u001b[0m         \u001b[38;5;66;03m# error: Incompatible types in assignment (expression has type\u001b[39;00m\n\u001b[0;32m   7194\u001b[0m         \u001b[38;5;66;03m# \"Series\", variable has type \"ndarray\")\u001b[39;00m\n",
      "File \u001b[1;32mc:\\Users\\Win11\\AppData\\Local\\Programs\\Python\\Python313\\Lib\\site-packages\\pandas\\core\\generic.py:1911\u001b[0m, in \u001b[0;36mNDFrame._get_label_or_level_values\u001b[1;34m(self, key, axis)\u001b[0m\n\u001b[0;32m   1909\u001b[0m     values \u001b[38;5;241m=\u001b[39m \u001b[38;5;28mself\u001b[39m\u001b[38;5;241m.\u001b[39maxes[axis]\u001b[38;5;241m.\u001b[39mget_level_values(key)\u001b[38;5;241m.\u001b[39m_values\n\u001b[0;32m   1910\u001b[0m \u001b[38;5;28;01melse\u001b[39;00m:\n\u001b[1;32m-> 1911\u001b[0m     \u001b[38;5;28;01mraise\u001b[39;00m \u001b[38;5;167;01mKeyError\u001b[39;00m(key)\n\u001b[0;32m   1913\u001b[0m \u001b[38;5;66;03m# Check for duplicates\u001b[39;00m\n\u001b[0;32m   1914\u001b[0m \u001b[38;5;28;01mif\u001b[39;00m values\u001b[38;5;241m.\u001b[39mndim \u001b[38;5;241m>\u001b[39m \u001b[38;5;241m1\u001b[39m:\n",
      "\u001b[1;31mKeyError\u001b[0m: 'Month_Alone_Spending'"
     ]
    }
   ],
   "source": [
    "merged_data.sort_values(by = 'Month_Alone_Spending').sample(5)"
   ]
  },
  {
   "cell_type": "markdown",
   "metadata": {},
   "source": [
    "### Other views"
   ]
  },
  {
   "cell_type": "code",
   "execution_count": 109,
   "metadata": {},
   "outputs": [
    {
     "data": {
      "application/vnd.plotly.v1+json": {
       "config": {
        "plotlyServerURL": "https://plot.ly"
       },
       "data": [
        {
         "link": {
          "color": [
           "rgba(0, 100, 200, 0.2437189075936409)",
           "rgba(0, 100, 200, 0.34944064737650027)",
           "rgba(0, 100, 200, 0.45337639555771647)",
           "rgba(0, 100, 200, 1.0)",
           "rgba(0, 100, 200, 0.5340972426153653)",
           "rgba(0, 100, 200, 0.24544022731410264)",
           "rgba(0, 100, 200, 0.20075762364693672)",
           "rgba(0, 100, 200, 0.3325093347124589)",
           "rgba(0, 100, 200, 0.3504989324005515)",
           "rgba(0, 100, 200, 0.33113440311488584)",
           "rgba(0, 100, 200, 0.4489712646226597)",
           "rgba(0, 100, 200, 1.0)",
           "rgba(0, 100, 200, 0.5340972426153653)",
           "rgba(0, 100, 200, 0.252020539584919)",
           "rgba(0, 100, 200, 0.23168870179696965)",
           "rgba(0, 100, 200, 0.20004840842188665)",
           "rgba(0, 100, 200, 0.06259435992443496)",
           "rgba(0, 100, 200, 0.09376481569458384)",
           "rgba(0, 100, 200, 0.47640872480438745)",
           "rgba(0, 100, 200, 0.3059844671863171)",
           "rgba(0, 100, 200, 0.35090227454644285)",
           "rgba(0, 100, 200, 0.4397971417272898)",
           "rgba(0, 100, 200, 0.33073907663667124)",
           "rgba(0, 100, 200, 0.6832271159158881)",
           "rgba(0, 100, 200, 0.3905072924995717)",
           "rgba(0, 100, 200, 0.3595783559116411)",
           "rgba(0, 100, 200, 1.0)",
           "rgba(0, 100, 200, 1.0)",
           "rgba(0, 100, 200, 1.0)",
           "rgba(0, 100, 200, 0.15111323707196733)",
           "rgba(0, 100, 200, 0.5632243175800037)",
           "rgba(0, 100, 200, 0.41802912877196985)",
           "rgba(0, 100, 200, 0.9214275413710579)",
           "rgba(0, 100, 200, 0.056671061433390846)",
           "rgba(0, 100, 200, 1.0)",
           "rgba(0, 100, 200, 0.6457519226147862)",
           "rgba(0, 100, 200, 0.16572936703208463)"
          ],
          "source": [
           0,
           0,
           0,
           0,
           0,
           0,
           1,
           1,
           2,
           2,
           3,
           4,
           5,
           6,
           6,
           7,
           8,
           8,
           8,
           9,
           9,
           9,
           10,
           11,
           11,
           11,
           12,
           12,
           12,
           13,
           13,
           14,
           14,
           14,
           15,
           15,
           15
          ],
          "target": [
           1,
           2,
           3,
           4,
           5,
           6,
           7,
           8,
           9,
           10,
           11,
           12,
           13,
           14,
           15,
           16,
           17,
           18,
           19,
           20,
           21,
           22,
           23,
           24,
           25,
           26,
           27,
           28,
           29,
           30,
           31,
           32,
           33,
           34,
           35,
           36,
           37
          ],
          "value": [
           79899.99480709145,
           119595.58560575495,
           99291.87224834264,
           616.7713428166619,
           23097.186329801,
           26533.641865589903,
           51731.30827089357,
           28168.686536197893,
           113159.35772075696,
           6436.227884997999,
           98956.28714834264,
           616.7713428166619,
           23097.186329801,
           18053.944774299394,
           8479.69709129051,
           51696.391910915,
           4734.882872085,
           3159.05121399589,
           20274.752450117,
           48728.18270232063,
           37510.72730069533,
           26920.447717741,
           6434.073675201,
           27771.308320104858,
           38012.81759143778,
           33172.161236800006,
           91.555893947311,
           196.26537268085082,
           328.9500761885,
           1180.750831763,
           21916.435498038,
           345.52628543080004,
           6354.071906750594,
           11354.346582118,
           452.6522849803,
           896.18146231521,
           7130.863343995001
          ]
         },
         "node": {
          "color": "lightblue",
          "label": [
           "Total Spending",
           "ADACTION\nROAS d30: 0.90",
           "ADJOE\nROAS d30: 0.99",
           "APPLOVIN\nROAS d30: 1.07",
           "AURA IRONSOURCE\nROAS d30: 44.22",
           "BLIND FERRET ENGAGE\nROAS d30: 1.14",
           "TYRADS\nROAS d30: 0.90",
           "ANDROID (ADACTION)\nROAS d30: 0.86",
           "IOS (ADACTION)\nROAS d30: 0.97",
           "ANDROID (ADJOE)\nROAS d30: 0.99",
           "IOS (ADJOE)\nROAS d30: 0.97",
           "ANDROID (APPLOVIN)\nROAS d30: 1.07",
           "ANDROID (AURA IRONSOURCE)\nROAS d30: 44.22",
           "ANDROID (BLIND FERRET ENGAGE)\nROAS d30: 1.14",
           "ANDROID (TYRADS)\nROAS d30: 0.91",
           "IOS (TYRADS)\nROAS d30: 0.89",
           "US (ANDROID-ADACTION)\nROAS d30: 0.86",
           "EU (IOS-ADACTION)\nROAS d30: 0.75",
           "ROW (IOS-ADACTION)\nROAS d30: 0.78",
           "US (IOS-ADACTION)\nROAS d30: 1.09",
           "EU (ANDROID-ADJOE)\nROAS d30: 0.95",
           "ROW (ANDROID-ADJOE)\nROAS d30: 0.99",
           "US (ANDROID-ADJOE)\nROAS d30: 1.06",
           "US (IOS-ADJOE)\nROAS d30: 0.97",
           "EU (ANDROID-APPLOVIN)\nROAS d30: 1.26",
           "ROW (ANDROID-APPLOVIN)\nROAS d30: 1.02",
           "US (ANDROID-APPLOVIN)\nROAS d30: 0.99",
           "EU (ANDROID-AURA IRONSOURCE)\nROAS d30: 58.09",
           "ROW (ANDROID-AURA IRONSOURCE)\nROAS d30: 77.12",
           "US (ANDROID-AURA IRONSOURCE)\nROAS d30: 33.48",
           "ROW (ANDROID-BLIND FERRET ENGAGE)\nROAS d30: 0.82",
           "US (ANDROID-BLIND FERRET ENGAGE)\nROAS d30: 1.16",
           "EU (ANDROID-TYRADS)\nROAS d30: 1.04",
           "ROW (ANDROID-TYRADS)\nROAS d30: 1.46",
           "US (ANDROID-TYRADS)\nROAS d30: 0.74",
           "EU (IOS-TYRADS)\nROAS d30: 1.69",
           "ROW (IOS-TYRADS)\nROAS d30: 1.23",
           "US (IOS-TYRADS)\nROAS d30: 0.83"
          ],
          "line": {
           "color": "black",
           "width": 0.5
          },
          "pad": 20,
          "thickness": 30
         },
         "type": "sankey"
        }
       ],
       "layout": {
        "font": {
         "size": 14
        },
        "height": 700,
        "margin": {
         "b": 50,
         "l": 50,
         "r": 50,
         "t": 50
        },
        "template": {
         "data": {
          "bar": [
           {
            "error_x": {
             "color": "#2a3f5f"
            },
            "error_y": {
             "color": "#2a3f5f"
            },
            "marker": {
             "line": {
              "color": "#E5ECF6",
              "width": 0.5
             },
             "pattern": {
              "fillmode": "overlay",
              "size": 10,
              "solidity": 0.2
             }
            },
            "type": "bar"
           }
          ],
          "barpolar": [
           {
            "marker": {
             "line": {
              "color": "#E5ECF6",
              "width": 0.5
             },
             "pattern": {
              "fillmode": "overlay",
              "size": 10,
              "solidity": 0.2
             }
            },
            "type": "barpolar"
           }
          ],
          "carpet": [
           {
            "aaxis": {
             "endlinecolor": "#2a3f5f",
             "gridcolor": "white",
             "linecolor": "white",
             "minorgridcolor": "white",
             "startlinecolor": "#2a3f5f"
            },
            "baxis": {
             "endlinecolor": "#2a3f5f",
             "gridcolor": "white",
             "linecolor": "white",
             "minorgridcolor": "white",
             "startlinecolor": "#2a3f5f"
            },
            "type": "carpet"
           }
          ],
          "choropleth": [
           {
            "colorbar": {
             "outlinewidth": 0,
             "ticks": ""
            },
            "type": "choropleth"
           }
          ],
          "contour": [
           {
            "colorbar": {
             "outlinewidth": 0,
             "ticks": ""
            },
            "colorscale": [
             [
              0,
              "#0d0887"
             ],
             [
              0.1111111111111111,
              "#46039f"
             ],
             [
              0.2222222222222222,
              "#7201a8"
             ],
             [
              0.3333333333333333,
              "#9c179e"
             ],
             [
              0.4444444444444444,
              "#bd3786"
             ],
             [
              0.5555555555555556,
              "#d8576b"
             ],
             [
              0.6666666666666666,
              "#ed7953"
             ],
             [
              0.7777777777777778,
              "#fb9f3a"
             ],
             [
              0.8888888888888888,
              "#fdca26"
             ],
             [
              1,
              "#f0f921"
             ]
            ],
            "type": "contour"
           }
          ],
          "contourcarpet": [
           {
            "colorbar": {
             "outlinewidth": 0,
             "ticks": ""
            },
            "type": "contourcarpet"
           }
          ],
          "heatmap": [
           {
            "colorbar": {
             "outlinewidth": 0,
             "ticks": ""
            },
            "colorscale": [
             [
              0,
              "#0d0887"
             ],
             [
              0.1111111111111111,
              "#46039f"
             ],
             [
              0.2222222222222222,
              "#7201a8"
             ],
             [
              0.3333333333333333,
              "#9c179e"
             ],
             [
              0.4444444444444444,
              "#bd3786"
             ],
             [
              0.5555555555555556,
              "#d8576b"
             ],
             [
              0.6666666666666666,
              "#ed7953"
             ],
             [
              0.7777777777777778,
              "#fb9f3a"
             ],
             [
              0.8888888888888888,
              "#fdca26"
             ],
             [
              1,
              "#f0f921"
             ]
            ],
            "type": "heatmap"
           }
          ],
          "heatmapgl": [
           {
            "colorbar": {
             "outlinewidth": 0,
             "ticks": ""
            },
            "colorscale": [
             [
              0,
              "#0d0887"
             ],
             [
              0.1111111111111111,
              "#46039f"
             ],
             [
              0.2222222222222222,
              "#7201a8"
             ],
             [
              0.3333333333333333,
              "#9c179e"
             ],
             [
              0.4444444444444444,
              "#bd3786"
             ],
             [
              0.5555555555555556,
              "#d8576b"
             ],
             [
              0.6666666666666666,
              "#ed7953"
             ],
             [
              0.7777777777777778,
              "#fb9f3a"
             ],
             [
              0.8888888888888888,
              "#fdca26"
             ],
             [
              1,
              "#f0f921"
             ]
            ],
            "type": "heatmapgl"
           }
          ],
          "histogram": [
           {
            "marker": {
             "pattern": {
              "fillmode": "overlay",
              "size": 10,
              "solidity": 0.2
             }
            },
            "type": "histogram"
           }
          ],
          "histogram2d": [
           {
            "colorbar": {
             "outlinewidth": 0,
             "ticks": ""
            },
            "colorscale": [
             [
              0,
              "#0d0887"
             ],
             [
              0.1111111111111111,
              "#46039f"
             ],
             [
              0.2222222222222222,
              "#7201a8"
             ],
             [
              0.3333333333333333,
              "#9c179e"
             ],
             [
              0.4444444444444444,
              "#bd3786"
             ],
             [
              0.5555555555555556,
              "#d8576b"
             ],
             [
              0.6666666666666666,
              "#ed7953"
             ],
             [
              0.7777777777777778,
              "#fb9f3a"
             ],
             [
              0.8888888888888888,
              "#fdca26"
             ],
             [
              1,
              "#f0f921"
             ]
            ],
            "type": "histogram2d"
           }
          ],
          "histogram2dcontour": [
           {
            "colorbar": {
             "outlinewidth": 0,
             "ticks": ""
            },
            "colorscale": [
             [
              0,
              "#0d0887"
             ],
             [
              0.1111111111111111,
              "#46039f"
             ],
             [
              0.2222222222222222,
              "#7201a8"
             ],
             [
              0.3333333333333333,
              "#9c179e"
             ],
             [
              0.4444444444444444,
              "#bd3786"
             ],
             [
              0.5555555555555556,
              "#d8576b"
             ],
             [
              0.6666666666666666,
              "#ed7953"
             ],
             [
              0.7777777777777778,
              "#fb9f3a"
             ],
             [
              0.8888888888888888,
              "#fdca26"
             ],
             [
              1,
              "#f0f921"
             ]
            ],
            "type": "histogram2dcontour"
           }
          ],
          "mesh3d": [
           {
            "colorbar": {
             "outlinewidth": 0,
             "ticks": ""
            },
            "type": "mesh3d"
           }
          ],
          "parcoords": [
           {
            "line": {
             "colorbar": {
              "outlinewidth": 0,
              "ticks": ""
             }
            },
            "type": "parcoords"
           }
          ],
          "pie": [
           {
            "automargin": true,
            "type": "pie"
           }
          ],
          "scatter": [
           {
            "fillpattern": {
             "fillmode": "overlay",
             "size": 10,
             "solidity": 0.2
            },
            "type": "scatter"
           }
          ],
          "scatter3d": [
           {
            "line": {
             "colorbar": {
              "outlinewidth": 0,
              "ticks": ""
             }
            },
            "marker": {
             "colorbar": {
              "outlinewidth": 0,
              "ticks": ""
             }
            },
            "type": "scatter3d"
           }
          ],
          "scattercarpet": [
           {
            "marker": {
             "colorbar": {
              "outlinewidth": 0,
              "ticks": ""
             }
            },
            "type": "scattercarpet"
           }
          ],
          "scattergeo": [
           {
            "marker": {
             "colorbar": {
              "outlinewidth": 0,
              "ticks": ""
             }
            },
            "type": "scattergeo"
           }
          ],
          "scattergl": [
           {
            "marker": {
             "colorbar": {
              "outlinewidth": 0,
              "ticks": ""
             }
            },
            "type": "scattergl"
           }
          ],
          "scattermapbox": [
           {
            "marker": {
             "colorbar": {
              "outlinewidth": 0,
              "ticks": ""
             }
            },
            "type": "scattermapbox"
           }
          ],
          "scatterpolar": [
           {
            "marker": {
             "colorbar": {
              "outlinewidth": 0,
              "ticks": ""
             }
            },
            "type": "scatterpolar"
           }
          ],
          "scatterpolargl": [
           {
            "marker": {
             "colorbar": {
              "outlinewidth": 0,
              "ticks": ""
             }
            },
            "type": "scatterpolargl"
           }
          ],
          "scatterternary": [
           {
            "marker": {
             "colorbar": {
              "outlinewidth": 0,
              "ticks": ""
             }
            },
            "type": "scatterternary"
           }
          ],
          "surface": [
           {
            "colorbar": {
             "outlinewidth": 0,
             "ticks": ""
            },
            "colorscale": [
             [
              0,
              "#0d0887"
             ],
             [
              0.1111111111111111,
              "#46039f"
             ],
             [
              0.2222222222222222,
              "#7201a8"
             ],
             [
              0.3333333333333333,
              "#9c179e"
             ],
             [
              0.4444444444444444,
              "#bd3786"
             ],
             [
              0.5555555555555556,
              "#d8576b"
             ],
             [
              0.6666666666666666,
              "#ed7953"
             ],
             [
              0.7777777777777778,
              "#fb9f3a"
             ],
             [
              0.8888888888888888,
              "#fdca26"
             ],
             [
              1,
              "#f0f921"
             ]
            ],
            "type": "surface"
           }
          ],
          "table": [
           {
            "cells": {
             "fill": {
              "color": "#EBF0F8"
             },
             "line": {
              "color": "white"
             }
            },
            "header": {
             "fill": {
              "color": "#C8D4E3"
             },
             "line": {
              "color": "white"
             }
            },
            "type": "table"
           }
          ]
         },
         "layout": {
          "annotationdefaults": {
           "arrowcolor": "#2a3f5f",
           "arrowhead": 0,
           "arrowwidth": 1
          },
          "autotypenumbers": "strict",
          "coloraxis": {
           "colorbar": {
            "outlinewidth": 0,
            "ticks": ""
           }
          },
          "colorscale": {
           "diverging": [
            [
             0,
             "#8e0152"
            ],
            [
             0.1,
             "#c51b7d"
            ],
            [
             0.2,
             "#de77ae"
            ],
            [
             0.3,
             "#f1b6da"
            ],
            [
             0.4,
             "#fde0ef"
            ],
            [
             0.5,
             "#f7f7f7"
            ],
            [
             0.6,
             "#e6f5d0"
            ],
            [
             0.7,
             "#b8e186"
            ],
            [
             0.8,
             "#7fbc41"
            ],
            [
             0.9,
             "#4d9221"
            ],
            [
             1,
             "#276419"
            ]
           ],
           "sequential": [
            [
             0,
             "#0d0887"
            ],
            [
             0.1111111111111111,
             "#46039f"
            ],
            [
             0.2222222222222222,
             "#7201a8"
            ],
            [
             0.3333333333333333,
             "#9c179e"
            ],
            [
             0.4444444444444444,
             "#bd3786"
            ],
            [
             0.5555555555555556,
             "#d8576b"
            ],
            [
             0.6666666666666666,
             "#ed7953"
            ],
            [
             0.7777777777777778,
             "#fb9f3a"
            ],
            [
             0.8888888888888888,
             "#fdca26"
            ],
            [
             1,
             "#f0f921"
            ]
           ],
           "sequentialminus": [
            [
             0,
             "#0d0887"
            ],
            [
             0.1111111111111111,
             "#46039f"
            ],
            [
             0.2222222222222222,
             "#7201a8"
            ],
            [
             0.3333333333333333,
             "#9c179e"
            ],
            [
             0.4444444444444444,
             "#bd3786"
            ],
            [
             0.5555555555555556,
             "#d8576b"
            ],
            [
             0.6666666666666666,
             "#ed7953"
            ],
            [
             0.7777777777777778,
             "#fb9f3a"
            ],
            [
             0.8888888888888888,
             "#fdca26"
            ],
            [
             1,
             "#f0f921"
            ]
           ]
          },
          "colorway": [
           "#636efa",
           "#EF553B",
           "#00cc96",
           "#ab63fa",
           "#FFA15A",
           "#19d3f3",
           "#FF6692",
           "#B6E880",
           "#FF97FF",
           "#FECB52"
          ],
          "font": {
           "color": "#2a3f5f"
          },
          "geo": {
           "bgcolor": "white",
           "lakecolor": "white",
           "landcolor": "#E5ECF6",
           "showlakes": true,
           "showland": true,
           "subunitcolor": "white"
          },
          "hoverlabel": {
           "align": "left"
          },
          "hovermode": "closest",
          "mapbox": {
           "style": "light"
          },
          "paper_bgcolor": "white",
          "plot_bgcolor": "#E5ECF6",
          "polar": {
           "angularaxis": {
            "gridcolor": "white",
            "linecolor": "white",
            "ticks": ""
           },
           "bgcolor": "#E5ECF6",
           "radialaxis": {
            "gridcolor": "white",
            "linecolor": "white",
            "ticks": ""
           }
          },
          "scene": {
           "xaxis": {
            "backgroundcolor": "#E5ECF6",
            "gridcolor": "white",
            "gridwidth": 2,
            "linecolor": "white",
            "showbackground": true,
            "ticks": "",
            "zerolinecolor": "white"
           },
           "yaxis": {
            "backgroundcolor": "#E5ECF6",
            "gridcolor": "white",
            "gridwidth": 2,
            "linecolor": "white",
            "showbackground": true,
            "ticks": "",
            "zerolinecolor": "white"
           },
           "zaxis": {
            "backgroundcolor": "#E5ECF6",
            "gridcolor": "white",
            "gridwidth": 2,
            "linecolor": "white",
            "showbackground": true,
            "ticks": "",
            "zerolinecolor": "white"
           }
          },
          "shapedefaults": {
           "line": {
            "color": "#2a3f5f"
           }
          },
          "ternary": {
           "aaxis": {
            "gridcolor": "white",
            "linecolor": "white",
            "ticks": ""
           },
           "baxis": {
            "gridcolor": "white",
            "linecolor": "white",
            "ticks": ""
           },
           "bgcolor": "#E5ECF6",
           "caxis": {
            "gridcolor": "white",
            "linecolor": "white",
            "ticks": ""
           }
          },
          "title": {
           "x": 0.05
          },
          "xaxis": {
           "automargin": true,
           "gridcolor": "white",
           "linecolor": "white",
           "ticks": "",
           "title": {
            "standoff": 15
           },
           "zerolinecolor": "white",
           "zerolinewidth": 2
          },
          "yaxis": {
           "automargin": true,
           "gridcolor": "white",
           "linecolor": "white",
           "ticks": "",
           "title": {
            "standoff": 15
           },
           "zerolinecolor": "white",
           "zerolinewidth": 2
          }
         }
        },
        "title": {
         "font": {
          "size": 18
         },
         "text": "ROAS Allocation by Layer with Dynamically Capped Color Intensity"
        }
       }
      }
     },
     "metadata": {},
     "output_type": "display_data"
    }
   ],
   "source": [
    "# Set a maximum ROAS threshold for the thickest color\n",
    "max_roas_limit = 1.52  # Example: Cap ROAS at 5\n",
    "\n",
    "# Prepare link colors based on capped ROAS values\n",
    "roas_colors = []\n",
    "\n",
    "# Total spending to networks\n",
    "for network in network_nodes:\n",
    "    roas = merged_data[merged_data['NETWORK'] == network]['Network_Alone_ROAS'].iloc[0]\n",
    "    capped_roas = min(roas, max_roas_limit)  # Cap ROAS at the defined limit\n",
    "    roas_colors.append(capped_roas)\n",
    "\n",
    "# Networks to platforms\n",
    "for (platform, network), idx in platform_map.items():\n",
    "    roas = merged_data[(merged_data['NETWORK'] == network) & (merged_data['PLATFORM'] == platform)]['Platform_Network_ROAS'].iloc[0]\n",
    "    capped_roas = min(roas, max_roas_limit)  # Cap ROAS at the defined limit\n",
    "    roas_colors.append(capped_roas)\n",
    "\n",
    "# Platforms to regions\n",
    "for (region, platform, network), idx in region_map.items():\n",
    "    roas = merged_data[(merged_data['NETWORK'] == network) & (merged_data['PLATFORM'] == platform) & (merged_data['REGION'] == region)]['Platform_Network_Region_ROAS'].iloc[0]\n",
    "    capped_roas = min(roas, max_roas_limit)  # Cap ROAS at the defined limit\n",
    "    roas_colors.append(capped_roas)\n",
    "\n",
    "# Normalize ROAS values for color intensity\n",
    "roas_colors = [\n",
    "    f\"rgba(0, 100, 200, {-0.85 + 1.85 * (min(roas, max_roas_limit) / max_roas_limit)})\"\n",
    "    for roas in roas_colors\n",
    "]\n",
    "\n",
    "# Create the organizational-style chart with ROAS in labels and capped color intensity\n",
    "fig = go.Figure(go.Sankey(\n",
    "    node=dict(\n",
    "        pad=20,\n",
    "        thickness=30,\n",
    "        line=dict(color=\"black\", width=0.5),\n",
    "        label=node_labels,\n",
    "        color=\"lightblue\"\n",
    "    ),\n",
    "    link=dict(\n",
    "        source=sources,\n",
    "        target=targets,\n",
    "        value=values,\n",
    "        color=roas_colors  # Color links based on capped ROAS\n",
    "    )\n",
    "))\n",
    "\n",
    "fig.update_layout(\n",
    "    title_text=\"ROAS Allocation by Layer with Dynamically Capped Color Intensity\",\n",
    "    font_size=14,\n",
    "    title_font_size=18,\n",
    "    height=700,\n",
    "    margin=dict(t=50, l=50, r=50, b=50)\n",
    ")\n",
    "\n",
    "fig.show()\n"
   ]
  },
  {
   "cell_type": "code",
   "execution_count": 26,
   "metadata": {},
   "outputs": [
    {
     "ename": "NameError",
     "evalue": "name 'network_nodes' is not defined",
     "output_type": "error",
     "traceback": [
      "\u001b[1;31m---------------------------------------------------------------------------\u001b[0m",
      "\u001b[1;31mNameError\u001b[0m                                 Traceback (most recent call last)",
      "Cell \u001b[1;32mIn[26], line 8\u001b[0m\n\u001b[0;32m      5\u001b[0m roas_colors \u001b[38;5;241m=\u001b[39m []\n\u001b[0;32m      7\u001b[0m \u001b[38;5;66;03m# Total spending to networks\u001b[39;00m\n\u001b[1;32m----> 8\u001b[0m \u001b[38;5;28;01mfor\u001b[39;00m network \u001b[38;5;129;01min\u001b[39;00m \u001b[43mnetwork_nodes\u001b[49m:\n\u001b[0;32m      9\u001b[0m     roas \u001b[38;5;241m=\u001b[39m merged_data[merged_data[\u001b[38;5;124m'\u001b[39m\u001b[38;5;124mNETWORK\u001b[39m\u001b[38;5;124m'\u001b[39m] \u001b[38;5;241m==\u001b[39m network][\u001b[38;5;124m'\u001b[39m\u001b[38;5;124mNetwork_Alone_ROAS\u001b[39m\u001b[38;5;124m'\u001b[39m]\u001b[38;5;241m.\u001b[39miloc[\u001b[38;5;241m0\u001b[39m]\n\u001b[0;32m     10\u001b[0m     capped_roas \u001b[38;5;241m=\u001b[39m \u001b[38;5;28mmin\u001b[39m(roas, max_roas_limit)  \u001b[38;5;66;03m# Cap ROAS at the defined limit\u001b[39;00m\n",
      "\u001b[1;31mNameError\u001b[0m: name 'network_nodes' is not defined"
     ]
    }
   ],
   "source": [
    "# Set a maximum ROAS threshold for the thickest color\n",
    "max_roas_limit = 1.52  # Example: Cap ROAS at 5\n",
    "\n",
    "# Prepare link colors based on capped ROAS values\n",
    "roas_colors = []\n",
    "\n",
    "# Total spending to networks\n",
    "for network in network_nodes:\n",
    "    roas = merged_data[merged_data['NETWORK'] == network]['Network_Alone_ROAS'].iloc[0]\n",
    "    capped_roas = min(roas, max_roas_limit)  # Cap ROAS at the defined limit\n",
    "    roas_colors.append(capped_roas)\n",
    "\n",
    "# Networks to platforms\n",
    "for (platform, network), idx in platform_map.items():\n",
    "    roas = merged_data[(merged_data['NETWORK'] == network) & (merged_data['PLATFORM'] == platform)]['Platform_Network_ROAS'].iloc[0]\n",
    "    capped_roas = min(roas, max_roas_limit)  # Cap ROAS at the defined limit\n",
    "    roas_colors.append(capped_roas)\n",
    "\n",
    "# Platforms to regions\n",
    "for (region, platform, network), idx in region_map.items():\n",
    "    roas = merged_data[(merged_data['NETWORK'] == network) & (merged_data['PLATFORM'] == platform) & (merged_data['REGION'] == region)]['Platform_Network_Region_ROAS'].iloc[0]\n",
    "    capped_roas = min(roas, max_roas_limit)  # Cap ROAS at the defined limit\n",
    "    roas_colors.append(capped_roas)\n",
    "\n",
    "# Normalize ROAS values for color intensity\n",
    "roas_colors = [\n",
    "    f\"rgba(0, 100, 200, {-0.85 + 1.85 * (min(roas, max_roas_limit) / max_roas_limit)})\"\n",
    "    for roas in roas_colors\n",
    "]\n",
    "\n",
    "# Create the organizational-style chart with ROAS in labels and capped color intensity\n",
    "fig = go.Figure(go.Sankey(\n",
    "    node=dict(\n",
    "        pad=20,\n",
    "        thickness=30,\n",
    "        line=dict(color=\"black\", width=0.5),\n",
    "        label=node_labels,\n",
    "        color=\"lightblue\"\n",
    "    ),\n",
    "    link=dict(\n",
    "        source=sources,\n",
    "        target=targets,\n",
    "        value=values,\n",
    "        color=roas_colors  # Color links based on capped ROAS\n",
    "    )\n",
    "))\n",
    "\n",
    "fig.update_layout(\n",
    "    title_text=\"ROAS Allocation by Layer with Dynamically Capped Color Intensity\",\n",
    "    font_size=14,\n",
    "    title_font_size=18,\n",
    "    height=800,\n",
    "    margin=dict(t=50, l=50, r=50, b=50)\n",
    ")\n",
    "\n",
    "fig.show()\n"
   ]
  },
  {
   "cell_type": "markdown",
   "metadata": {},
   "source": [
    "### Pattern recognition"
   ]
  },
  {
   "cell_type": "code",
   "execution_count": 60,
   "metadata": {},
   "outputs": [
    {
     "data": {
      "application/vnd.plotly.v1+json": {
       "config": {
        "plotlyServerURL": "https://plot.ly"
       },
       "data": [
        {
         "link": {
          "color": "rgba(0,100,200,0.4)",
          "source": [
           0,
           0,
           0,
           1,
           1,
           3,
           3,
           3,
           4,
           4,
           4
          ],
          "target": [
           1,
           2,
           3,
           3,
           4,
           5,
           6,
           7,
           8,
           9,
           10
          ],
          "value": [
           79899.99,
           50000,
           60000,
           51731.31,
           28168.69,
           11.71,
           23.21,
           51696.39,
           4734.88,
           3159.05,
           20274.75
          ]
         },
         "node": {
          "color": "lightblue",
          "label": [
           "Total Spending",
           "ADACTION",
           "ADJOE",
           "APPLOVIN",
           "ANDROID (ADACTION)",
           "IOS (ADACTION)",
           "EU (ANDROID-ADACTION)",
           "ROW (ANDROID-ADACTION)",
           "US (ANDROID-ADACTION)",
           "EU (IOS-ADACTION)",
           "ROW (IOS-ADACTION)",
           "US (IOS-ADACTION)"
          ],
          "line": {
           "color": "black",
           "width": 0.5
          },
          "pad": 20,
          "thickness": 30
         },
         "type": "sankey"
        }
       ],
       "layout": {
        "font": {
         "size": 14
        },
        "height": 700,
        "margin": {
         "b": 50,
         "l": 50,
         "r": 50,
         "t": 50
        },
        "template": {
         "data": {
          "bar": [
           {
            "error_x": {
             "color": "#2a3f5f"
            },
            "error_y": {
             "color": "#2a3f5f"
            },
            "marker": {
             "line": {
              "color": "#E5ECF6",
              "width": 0.5
             },
             "pattern": {
              "fillmode": "overlay",
              "size": 10,
              "solidity": 0.2
             }
            },
            "type": "bar"
           }
          ],
          "barpolar": [
           {
            "marker": {
             "line": {
              "color": "#E5ECF6",
              "width": 0.5
             },
             "pattern": {
              "fillmode": "overlay",
              "size": 10,
              "solidity": 0.2
             }
            },
            "type": "barpolar"
           }
          ],
          "carpet": [
           {
            "aaxis": {
             "endlinecolor": "#2a3f5f",
             "gridcolor": "white",
             "linecolor": "white",
             "minorgridcolor": "white",
             "startlinecolor": "#2a3f5f"
            },
            "baxis": {
             "endlinecolor": "#2a3f5f",
             "gridcolor": "white",
             "linecolor": "white",
             "minorgridcolor": "white",
             "startlinecolor": "#2a3f5f"
            },
            "type": "carpet"
           }
          ],
          "choropleth": [
           {
            "colorbar": {
             "outlinewidth": 0,
             "ticks": ""
            },
            "type": "choropleth"
           }
          ],
          "contour": [
           {
            "colorbar": {
             "outlinewidth": 0,
             "ticks": ""
            },
            "colorscale": [
             [
              0,
              "#0d0887"
             ],
             [
              0.1111111111111111,
              "#46039f"
             ],
             [
              0.2222222222222222,
              "#7201a8"
             ],
             [
              0.3333333333333333,
              "#9c179e"
             ],
             [
              0.4444444444444444,
              "#bd3786"
             ],
             [
              0.5555555555555556,
              "#d8576b"
             ],
             [
              0.6666666666666666,
              "#ed7953"
             ],
             [
              0.7777777777777778,
              "#fb9f3a"
             ],
             [
              0.8888888888888888,
              "#fdca26"
             ],
             [
              1,
              "#f0f921"
             ]
            ],
            "type": "contour"
           }
          ],
          "contourcarpet": [
           {
            "colorbar": {
             "outlinewidth": 0,
             "ticks": ""
            },
            "type": "contourcarpet"
           }
          ],
          "heatmap": [
           {
            "colorbar": {
             "outlinewidth": 0,
             "ticks": ""
            },
            "colorscale": [
             [
              0,
              "#0d0887"
             ],
             [
              0.1111111111111111,
              "#46039f"
             ],
             [
              0.2222222222222222,
              "#7201a8"
             ],
             [
              0.3333333333333333,
              "#9c179e"
             ],
             [
              0.4444444444444444,
              "#bd3786"
             ],
             [
              0.5555555555555556,
              "#d8576b"
             ],
             [
              0.6666666666666666,
              "#ed7953"
             ],
             [
              0.7777777777777778,
              "#fb9f3a"
             ],
             [
              0.8888888888888888,
              "#fdca26"
             ],
             [
              1,
              "#f0f921"
             ]
            ],
            "type": "heatmap"
           }
          ],
          "heatmapgl": [
           {
            "colorbar": {
             "outlinewidth": 0,
             "ticks": ""
            },
            "colorscale": [
             [
              0,
              "#0d0887"
             ],
             [
              0.1111111111111111,
              "#46039f"
             ],
             [
              0.2222222222222222,
              "#7201a8"
             ],
             [
              0.3333333333333333,
              "#9c179e"
             ],
             [
              0.4444444444444444,
              "#bd3786"
             ],
             [
              0.5555555555555556,
              "#d8576b"
             ],
             [
              0.6666666666666666,
              "#ed7953"
             ],
             [
              0.7777777777777778,
              "#fb9f3a"
             ],
             [
              0.8888888888888888,
              "#fdca26"
             ],
             [
              1,
              "#f0f921"
             ]
            ],
            "type": "heatmapgl"
           }
          ],
          "histogram": [
           {
            "marker": {
             "pattern": {
              "fillmode": "overlay",
              "size": 10,
              "solidity": 0.2
             }
            },
            "type": "histogram"
           }
          ],
          "histogram2d": [
           {
            "colorbar": {
             "outlinewidth": 0,
             "ticks": ""
            },
            "colorscale": [
             [
              0,
              "#0d0887"
             ],
             [
              0.1111111111111111,
              "#46039f"
             ],
             [
              0.2222222222222222,
              "#7201a8"
             ],
             [
              0.3333333333333333,
              "#9c179e"
             ],
             [
              0.4444444444444444,
              "#bd3786"
             ],
             [
              0.5555555555555556,
              "#d8576b"
             ],
             [
              0.6666666666666666,
              "#ed7953"
             ],
             [
              0.7777777777777778,
              "#fb9f3a"
             ],
             [
              0.8888888888888888,
              "#fdca26"
             ],
             [
              1,
              "#f0f921"
             ]
            ],
            "type": "histogram2d"
           }
          ],
          "histogram2dcontour": [
           {
            "colorbar": {
             "outlinewidth": 0,
             "ticks": ""
            },
            "colorscale": [
             [
              0,
              "#0d0887"
             ],
             [
              0.1111111111111111,
              "#46039f"
             ],
             [
              0.2222222222222222,
              "#7201a8"
             ],
             [
              0.3333333333333333,
              "#9c179e"
             ],
             [
              0.4444444444444444,
              "#bd3786"
             ],
             [
              0.5555555555555556,
              "#d8576b"
             ],
             [
              0.6666666666666666,
              "#ed7953"
             ],
             [
              0.7777777777777778,
              "#fb9f3a"
             ],
             [
              0.8888888888888888,
              "#fdca26"
             ],
             [
              1,
              "#f0f921"
             ]
            ],
            "type": "histogram2dcontour"
           }
          ],
          "mesh3d": [
           {
            "colorbar": {
             "outlinewidth": 0,
             "ticks": ""
            },
            "type": "mesh3d"
           }
          ],
          "parcoords": [
           {
            "line": {
             "colorbar": {
              "outlinewidth": 0,
              "ticks": ""
             }
            },
            "type": "parcoords"
           }
          ],
          "pie": [
           {
            "automargin": true,
            "type": "pie"
           }
          ],
          "scatter": [
           {
            "fillpattern": {
             "fillmode": "overlay",
             "size": 10,
             "solidity": 0.2
            },
            "type": "scatter"
           }
          ],
          "scatter3d": [
           {
            "line": {
             "colorbar": {
              "outlinewidth": 0,
              "ticks": ""
             }
            },
            "marker": {
             "colorbar": {
              "outlinewidth": 0,
              "ticks": ""
             }
            },
            "type": "scatter3d"
           }
          ],
          "scattercarpet": [
           {
            "marker": {
             "colorbar": {
              "outlinewidth": 0,
              "ticks": ""
             }
            },
            "type": "scattercarpet"
           }
          ],
          "scattergeo": [
           {
            "marker": {
             "colorbar": {
              "outlinewidth": 0,
              "ticks": ""
             }
            },
            "type": "scattergeo"
           }
          ],
          "scattergl": [
           {
            "marker": {
             "colorbar": {
              "outlinewidth": 0,
              "ticks": ""
             }
            },
            "type": "scattergl"
           }
          ],
          "scattermapbox": [
           {
            "marker": {
             "colorbar": {
              "outlinewidth": 0,
              "ticks": ""
             }
            },
            "type": "scattermapbox"
           }
          ],
          "scatterpolar": [
           {
            "marker": {
             "colorbar": {
              "outlinewidth": 0,
              "ticks": ""
             }
            },
            "type": "scatterpolar"
           }
          ],
          "scatterpolargl": [
           {
            "marker": {
             "colorbar": {
              "outlinewidth": 0,
              "ticks": ""
             }
            },
            "type": "scatterpolargl"
           }
          ],
          "scatterternary": [
           {
            "marker": {
             "colorbar": {
              "outlinewidth": 0,
              "ticks": ""
             }
            },
            "type": "scatterternary"
           }
          ],
          "surface": [
           {
            "colorbar": {
             "outlinewidth": 0,
             "ticks": ""
            },
            "colorscale": [
             [
              0,
              "#0d0887"
             ],
             [
              0.1111111111111111,
              "#46039f"
             ],
             [
              0.2222222222222222,
              "#7201a8"
             ],
             [
              0.3333333333333333,
              "#9c179e"
             ],
             [
              0.4444444444444444,
              "#bd3786"
             ],
             [
              0.5555555555555556,
              "#d8576b"
             ],
             [
              0.6666666666666666,
              "#ed7953"
             ],
             [
              0.7777777777777778,
              "#fb9f3a"
             ],
             [
              0.8888888888888888,
              "#fdca26"
             ],
             [
              1,
              "#f0f921"
             ]
            ],
            "type": "surface"
           }
          ],
          "table": [
           {
            "cells": {
             "fill": {
              "color": "#EBF0F8"
             },
             "line": {
              "color": "white"
             }
            },
            "header": {
             "fill": {
              "color": "#C8D4E3"
             },
             "line": {
              "color": "white"
             }
            },
            "type": "table"
           }
          ]
         },
         "layout": {
          "annotationdefaults": {
           "arrowcolor": "#2a3f5f",
           "arrowhead": 0,
           "arrowwidth": 1
          },
          "autotypenumbers": "strict",
          "coloraxis": {
           "colorbar": {
            "outlinewidth": 0,
            "ticks": ""
           }
          },
          "colorscale": {
           "diverging": [
            [
             0,
             "#8e0152"
            ],
            [
             0.1,
             "#c51b7d"
            ],
            [
             0.2,
             "#de77ae"
            ],
            [
             0.3,
             "#f1b6da"
            ],
            [
             0.4,
             "#fde0ef"
            ],
            [
             0.5,
             "#f7f7f7"
            ],
            [
             0.6,
             "#e6f5d0"
            ],
            [
             0.7,
             "#b8e186"
            ],
            [
             0.8,
             "#7fbc41"
            ],
            [
             0.9,
             "#4d9221"
            ],
            [
             1,
             "#276419"
            ]
           ],
           "sequential": [
            [
             0,
             "#0d0887"
            ],
            [
             0.1111111111111111,
             "#46039f"
            ],
            [
             0.2222222222222222,
             "#7201a8"
            ],
            [
             0.3333333333333333,
             "#9c179e"
            ],
            [
             0.4444444444444444,
             "#bd3786"
            ],
            [
             0.5555555555555556,
             "#d8576b"
            ],
            [
             0.6666666666666666,
             "#ed7953"
            ],
            [
             0.7777777777777778,
             "#fb9f3a"
            ],
            [
             0.8888888888888888,
             "#fdca26"
            ],
            [
             1,
             "#f0f921"
            ]
           ],
           "sequentialminus": [
            [
             0,
             "#0d0887"
            ],
            [
             0.1111111111111111,
             "#46039f"
            ],
            [
             0.2222222222222222,
             "#7201a8"
            ],
            [
             0.3333333333333333,
             "#9c179e"
            ],
            [
             0.4444444444444444,
             "#bd3786"
            ],
            [
             0.5555555555555556,
             "#d8576b"
            ],
            [
             0.6666666666666666,
             "#ed7953"
            ],
            [
             0.7777777777777778,
             "#fb9f3a"
            ],
            [
             0.8888888888888888,
             "#fdca26"
            ],
            [
             1,
             "#f0f921"
            ]
           ]
          },
          "colorway": [
           "#636efa",
           "#EF553B",
           "#00cc96",
           "#ab63fa",
           "#FFA15A",
           "#19d3f3",
           "#FF6692",
           "#B6E880",
           "#FF97FF",
           "#FECB52"
          ],
          "font": {
           "color": "#2a3f5f"
          },
          "geo": {
           "bgcolor": "white",
           "lakecolor": "white",
           "landcolor": "#E5ECF6",
           "showlakes": true,
           "showland": true,
           "subunitcolor": "white"
          },
          "hoverlabel": {
           "align": "left"
          },
          "hovermode": "closest",
          "mapbox": {
           "style": "light"
          },
          "paper_bgcolor": "white",
          "plot_bgcolor": "#E5ECF6",
          "polar": {
           "angularaxis": {
            "gridcolor": "white",
            "linecolor": "white",
            "ticks": ""
           },
           "bgcolor": "#E5ECF6",
           "radialaxis": {
            "gridcolor": "white",
            "linecolor": "white",
            "ticks": ""
           }
          },
          "scene": {
           "xaxis": {
            "backgroundcolor": "#E5ECF6",
            "gridcolor": "white",
            "gridwidth": 2,
            "linecolor": "white",
            "showbackground": true,
            "ticks": "",
            "zerolinecolor": "white"
           },
           "yaxis": {
            "backgroundcolor": "#E5ECF6",
            "gridcolor": "white",
            "gridwidth": 2,
            "linecolor": "white",
            "showbackground": true,
            "ticks": "",
            "zerolinecolor": "white"
           },
           "zaxis": {
            "backgroundcolor": "#E5ECF6",
            "gridcolor": "white",
            "gridwidth": 2,
            "linecolor": "white",
            "showbackground": true,
            "ticks": "",
            "zerolinecolor": "white"
           }
          },
          "shapedefaults": {
           "line": {
            "color": "#2a3f5f"
           }
          },
          "ternary": {
           "aaxis": {
            "gridcolor": "white",
            "linecolor": "white",
            "ticks": ""
           },
           "baxis": {
            "gridcolor": "white",
            "linecolor": "white",
            "ticks": ""
           },
           "bgcolor": "#E5ECF6",
           "caxis": {
            "gridcolor": "white",
            "linecolor": "white",
            "ticks": ""
           }
          },
          "title": {
           "x": 0.05
          },
          "xaxis": {
           "automargin": true,
           "gridcolor": "white",
           "linecolor": "white",
           "ticks": "",
           "title": {
            "standoff": 15
           },
           "zerolinecolor": "white",
           "zerolinewidth": 2
          },
          "yaxis": {
           "automargin": true,
           "gridcolor": "white",
           "linecolor": "white",
           "ticks": "",
           "title": {
            "standoff": 15
           },
           "zerolinecolor": "white",
           "zerolinewidth": 2
          }
         }
        },
        "title": {
         "font": {
          "size": 18
         },
         "text": "Spending Allocation by Layer (Consulting Style)"
        }
       }
      }
     },
     "metadata": {},
     "output_type": "display_data"
    }
   ],
   "source": [
    "import plotly.graph_objects as go\n",
    "\n",
    "# Data: Example structure from the grouped dataset\n",
    "nodes = [\n",
    "    \"Total Spending\",  # Top layer\n",
    "    \"ADACTION\", \"ADJOE\", \"APPLOVIN\",  # Networks\n",
    "    \"ANDROID (ADACTION)\", \"IOS (ADACTION)\",  # Platforms under ADACTION\n",
    "    \"EU (ANDROID-ADACTION)\", \"ROW (ANDROID-ADACTION)\", \"US (ANDROID-ADACTION)\",  # Regions under ANDROID-ADACTION\n",
    "    \"EU (IOS-ADACTION)\", \"ROW (IOS-ADACTION)\", \"US (IOS-ADACTION)\"  # Regions under IOS-ADACTION\n",
    "]\n",
    "\n",
    "# Links: Define source and target relationships with values\n",
    "links = dict(\n",
    "    source=[\n",
    "        0, 0, 0,  # Total Spending to Networks\n",
    "        1, 1,  # ADACTION to Platforms\n",
    "        3, 3, 3,  # ANDROID (ADACTION) to Regions\n",
    "        4, 4, 4   # IOS (ADACTION) to Regions\n",
    "    ],\n",
    "    target=[\n",
    "        1, 2, 3,  # Networks\n",
    "        3, 4,  # Platforms under ADACTION\n",
    "        5, 6, 7,  # Regions under ANDROID (ADACTION)\n",
    "        8, 9, 10  # Regions under IOS (ADACTION)\n",
    "    ],\n",
    "    value=[\n",
    "        79899.99, 50000, 60000,  # Spending from Total Spending to Networks\n",
    "        51731.31, 28168.69,  # Spending from ADACTION to Platforms\n",
    "        11.71, 23.21, 51696.39,  # Spending from ANDROID (ADACTION) to Regions\n",
    "        4734.88, 3159.05, 20274.75  # Spending from IOS (ADACTION) to Regions\n",
    "    ]\n",
    ")\n",
    "\n",
    "# Create the organizational-style chart\n",
    "fig = go.Figure(go.Sankey(\n",
    "    node=dict(\n",
    "        pad=20,\n",
    "        thickness=30,\n",
    "        line=dict(color=\"black\", width=0.5),\n",
    "        label=nodes,\n",
    "        color=\"lightblue\"\n",
    "    ),\n",
    "    link=dict(\n",
    "        source=links[\"source\"],\n",
    "        target=links[\"target\"],\n",
    "        value=links[\"value\"],\n",
    "        color=\"rgba(0,100,200,0.4)\"  # Transparent link color for consulting style\n",
    "    )\n",
    "))\n",
    "\n",
    "fig.update_layout(\n",
    "    title_text=\"Spending Allocation by Layer (Consulting Style)\",\n",
    "    font_size=14,\n",
    "    title_font_size=18,\n",
    "    height=700,\n",
    "    margin=dict(t=50, l=50, r=50, b=50)\n",
    ")\n",
    "\n",
    "fig.show()\n"
   ]
  },
  {
   "cell_type": "code",
   "execution_count": 74,
   "metadata": {},
   "outputs": [
    {
     "data": {
      "text/html": [
       "<div>\n",
       "<style scoped>\n",
       "    .dataframe tbody tr th:only-of-type {\n",
       "        vertical-align: middle;\n",
       "    }\n",
       "\n",
       "    .dataframe tbody tr th {\n",
       "        vertical-align: top;\n",
       "    }\n",
       "\n",
       "    .dataframe thead th {\n",
       "        text-align: right;\n",
       "    }\n",
       "</style>\n",
       "<table border=\"1\" class=\"dataframe\">\n",
       "  <thead>\n",
       "    <tr style=\"text-align: right;\">\n",
       "      <th></th>\n",
       "      <th>NETWORK</th>\n",
       "      <th>PLATFORM</th>\n",
       "      <th>REGION</th>\n",
       "      <th>Platform_Network_Region_Revenue</th>\n",
       "      <th>Platform_Network_Revenue</th>\n",
       "      <th>Network_Alone_Revenue</th>\n",
       "    </tr>\n",
       "  </thead>\n",
       "  <tbody>\n",
       "    <tr>\n",
       "      <th>0</th>\n",
       "      <td>ADACTION</td>\n",
       "      <td>ANDROID</td>\n",
       "      <td>EU</td>\n",
       "      <td>11.707089</td>\n",
       "      <td>51731.308271</td>\n",
       "      <td>79899.994807</td>\n",
       "    </tr>\n",
       "    <tr>\n",
       "      <th>1</th>\n",
       "      <td>ADACTION</td>\n",
       "      <td>ANDROID</td>\n",
       "      <td>ROW</td>\n",
       "      <td>23.209271</td>\n",
       "      <td>51731.308271</td>\n",
       "      <td>79899.994807</td>\n",
       "    </tr>\n",
       "    <tr>\n",
       "      <th>2</th>\n",
       "      <td>ADACTION</td>\n",
       "      <td>ANDROID</td>\n",
       "      <td>US</td>\n",
       "      <td>51696.391911</td>\n",
       "      <td>51731.308271</td>\n",
       "      <td>79899.994807</td>\n",
       "    </tr>\n",
       "    <tr>\n",
       "      <th>3</th>\n",
       "      <td>ADACTION</td>\n",
       "      <td>IOS</td>\n",
       "      <td>EU</td>\n",
       "      <td>4734.882872</td>\n",
       "      <td>28168.686536</td>\n",
       "      <td>79899.994807</td>\n",
       "    </tr>\n",
       "    <tr>\n",
       "      <th>4</th>\n",
       "      <td>ADACTION</td>\n",
       "      <td>IOS</td>\n",
       "      <td>ROW</td>\n",
       "      <td>3159.051214</td>\n",
       "      <td>28168.686536</td>\n",
       "      <td>79899.994807</td>\n",
       "    </tr>\n",
       "    <tr>\n",
       "      <th>...</th>\n",
       "      <td>...</td>\n",
       "      <td>...</td>\n",
       "      <td>...</td>\n",
       "      <td>...</td>\n",
       "      <td>...</td>\n",
       "      <td>...</td>\n",
       "    </tr>\n",
       "    <tr>\n",
       "      <th>75</th>\n",
       "      <td>UNITY ADS</td>\n",
       "      <td>ANDROID</td>\n",
       "      <td>ROW</td>\n",
       "      <td>4.047200</td>\n",
       "      <td>25.693000</td>\n",
       "      <td>133.167900</td>\n",
       "    </tr>\n",
       "    <tr>\n",
       "      <th>76</th>\n",
       "      <td>UNITY ADS</td>\n",
       "      <td>ANDROID</td>\n",
       "      <td>US</td>\n",
       "      <td>2.808400</td>\n",
       "      <td>25.693000</td>\n",
       "      <td>133.167900</td>\n",
       "    </tr>\n",
       "    <tr>\n",
       "      <th>77</th>\n",
       "      <td>UNITY ADS</td>\n",
       "      <td>IOS</td>\n",
       "      <td>EU</td>\n",
       "      <td>15.921200</td>\n",
       "      <td>107.474900</td>\n",
       "      <td>133.167900</td>\n",
       "    </tr>\n",
       "    <tr>\n",
       "      <th>78</th>\n",
       "      <td>UNITY ADS</td>\n",
       "      <td>IOS</td>\n",
       "      <td>ROW</td>\n",
       "      <td>41.778700</td>\n",
       "      <td>107.474900</td>\n",
       "      <td>133.167900</td>\n",
       "    </tr>\n",
       "    <tr>\n",
       "      <th>79</th>\n",
       "      <td>UNITY ADS</td>\n",
       "      <td>IOS</td>\n",
       "      <td>US</td>\n",
       "      <td>49.775000</td>\n",
       "      <td>107.474900</td>\n",
       "      <td>133.167900</td>\n",
       "    </tr>\n",
       "  </tbody>\n",
       "</table>\n",
       "<p>80 rows × 6 columns</p>\n",
       "</div>"
      ],
      "text/plain": [
       "      NETWORK PLATFORM REGION  Platform_Network_Region_Revenue  \\\n",
       "0    ADACTION  ANDROID     EU                        11.707089   \n",
       "1    ADACTION  ANDROID    ROW                        23.209271   \n",
       "2    ADACTION  ANDROID     US                     51696.391911   \n",
       "3    ADACTION      IOS     EU                      4734.882872   \n",
       "4    ADACTION      IOS    ROW                      3159.051214   \n",
       "..        ...      ...    ...                              ...   \n",
       "75  UNITY ADS  ANDROID    ROW                         4.047200   \n",
       "76  UNITY ADS  ANDROID     US                         2.808400   \n",
       "77  UNITY ADS      IOS     EU                        15.921200   \n",
       "78  UNITY ADS      IOS    ROW                        41.778700   \n",
       "79  UNITY ADS      IOS     US                        49.775000   \n",
       "\n",
       "    Platform_Network_Revenue  Network_Alone_Revenue  \n",
       "0               51731.308271           79899.994807  \n",
       "1               51731.308271           79899.994807  \n",
       "2               51731.308271           79899.994807  \n",
       "3               28168.686536           79899.994807  \n",
       "4               28168.686536           79899.994807  \n",
       "..                       ...                    ...  \n",
       "75                 25.693000             133.167900  \n",
       "76                 25.693000             133.167900  \n",
       "77                107.474900             133.167900  \n",
       "78                107.474900             133.167900  \n",
       "79                107.474900             133.167900  \n",
       "\n",
       "[80 rows x 6 columns]"
      ]
     },
     "execution_count": 74,
     "metadata": {},
     "output_type": "execute_result"
    }
   ],
   "source": [
    "# network_nodes = merged_data['NETWORK'].unique().tolist()\n",
    "merged_data"
   ]
  },
  {
   "cell_type": "code",
   "execution_count": 79,
   "metadata": {},
   "outputs": [
    {
     "ename": "IndexError",
     "evalue": "single positional indexer is out-of-bounds",
     "output_type": "error",
     "traceback": [
      "\u001b[1;31m---------------------------------------------------------------------------\u001b[0m",
      "\u001b[1;31mIndexError\u001b[0m                                Traceback (most recent call last)",
      "Cell \u001b[1;32mIn[79], line 33\u001b[0m\n\u001b[0;32m     31\u001b[0m     sources\u001b[38;5;241m.\u001b[39mappend(\u001b[38;5;241m0\u001b[39m)  \u001b[38;5;66;03m# Total Spending node index\u001b[39;00m\n\u001b[0;32m     32\u001b[0m     targets\u001b[38;5;241m.\u001b[39mappend(network_indices[network])\n\u001b[1;32m---> 33\u001b[0m     values\u001b[38;5;241m.\u001b[39mappend(\u001b[43mmerged_data\u001b[49m\u001b[43m[\u001b[49m\u001b[43mmerged_data\u001b[49m\u001b[43m[\u001b[49m\u001b[38;5;124;43m'\u001b[39;49m\u001b[38;5;124;43mNETWORK\u001b[39;49m\u001b[38;5;124;43m'\u001b[39;49m\u001b[43m]\u001b[49m\u001b[43m \u001b[49m\u001b[38;5;241;43m==\u001b[39;49m\u001b[43m \u001b[49m\u001b[43mnetwork\u001b[49m\u001b[43m]\u001b[49m\u001b[43m[\u001b[49m\u001b[38;5;124;43m'\u001b[39;49m\u001b[38;5;124;43mNetwork_Alone_Revenue\u001b[39;49m\u001b[38;5;124;43m'\u001b[39;49m\u001b[43m]\u001b[49m\u001b[38;5;241;43m.\u001b[39;49m\u001b[43miloc\u001b[49m\u001b[43m[\u001b[49m\u001b[38;5;241;43m0\u001b[39;49m\u001b[43m]\u001b[49m)\n\u001b[0;32m     35\u001b[0m \u001b[38;5;66;03m# Networks to platforms\u001b[39;00m\n\u001b[0;32m     36\u001b[0m \u001b[38;5;28;01mfor\u001b[39;00m (platform, network), idx \u001b[38;5;129;01min\u001b[39;00m platform_map\u001b[38;5;241m.\u001b[39mitems():\n",
      "File \u001b[1;32mc:\\Users\\Win11\\AppData\\Local\\Programs\\Python\\Python313\\Lib\\site-packages\\pandas\\core\\indexing.py:1191\u001b[0m, in \u001b[0;36m_LocationIndexer.__getitem__\u001b[1;34m(self, key)\u001b[0m\n\u001b[0;32m   1189\u001b[0m maybe_callable \u001b[38;5;241m=\u001b[39m com\u001b[38;5;241m.\u001b[39mapply_if_callable(key, \u001b[38;5;28mself\u001b[39m\u001b[38;5;241m.\u001b[39mobj)\n\u001b[0;32m   1190\u001b[0m maybe_callable \u001b[38;5;241m=\u001b[39m \u001b[38;5;28mself\u001b[39m\u001b[38;5;241m.\u001b[39m_check_deprecated_callable_usage(key, maybe_callable)\n\u001b[1;32m-> 1191\u001b[0m \u001b[38;5;28;01mreturn\u001b[39;00m \u001b[38;5;28;43mself\u001b[39;49m\u001b[38;5;241;43m.\u001b[39;49m\u001b[43m_getitem_axis\u001b[49m\u001b[43m(\u001b[49m\u001b[43mmaybe_callable\u001b[49m\u001b[43m,\u001b[49m\u001b[43m \u001b[49m\u001b[43maxis\u001b[49m\u001b[38;5;241;43m=\u001b[39;49m\u001b[43maxis\u001b[49m\u001b[43m)\u001b[49m\n",
      "File \u001b[1;32mc:\\Users\\Win11\\AppData\\Local\\Programs\\Python\\Python313\\Lib\\site-packages\\pandas\\core\\indexing.py:1752\u001b[0m, in \u001b[0;36m_iLocIndexer._getitem_axis\u001b[1;34m(self, key, axis)\u001b[0m\n\u001b[0;32m   1749\u001b[0m     \u001b[38;5;28;01mraise\u001b[39;00m \u001b[38;5;167;01mTypeError\u001b[39;00m(\u001b[38;5;124m\"\u001b[39m\u001b[38;5;124mCannot index by location index with a non-integer key\u001b[39m\u001b[38;5;124m\"\u001b[39m)\n\u001b[0;32m   1751\u001b[0m \u001b[38;5;66;03m# validate the location\u001b[39;00m\n\u001b[1;32m-> 1752\u001b[0m \u001b[38;5;28;43mself\u001b[39;49m\u001b[38;5;241;43m.\u001b[39;49m\u001b[43m_validate_integer\u001b[49m\u001b[43m(\u001b[49m\u001b[43mkey\u001b[49m\u001b[43m,\u001b[49m\u001b[43m \u001b[49m\u001b[43maxis\u001b[49m\u001b[43m)\u001b[49m\n\u001b[0;32m   1754\u001b[0m \u001b[38;5;28;01mreturn\u001b[39;00m \u001b[38;5;28mself\u001b[39m\u001b[38;5;241m.\u001b[39mobj\u001b[38;5;241m.\u001b[39m_ixs(key, axis\u001b[38;5;241m=\u001b[39maxis)\n",
      "File \u001b[1;32mc:\\Users\\Win11\\AppData\\Local\\Programs\\Python\\Python313\\Lib\\site-packages\\pandas\\core\\indexing.py:1685\u001b[0m, in \u001b[0;36m_iLocIndexer._validate_integer\u001b[1;34m(self, key, axis)\u001b[0m\n\u001b[0;32m   1683\u001b[0m len_axis \u001b[38;5;241m=\u001b[39m \u001b[38;5;28mlen\u001b[39m(\u001b[38;5;28mself\u001b[39m\u001b[38;5;241m.\u001b[39mobj\u001b[38;5;241m.\u001b[39m_get_axis(axis))\n\u001b[0;32m   1684\u001b[0m \u001b[38;5;28;01mif\u001b[39;00m key \u001b[38;5;241m>\u001b[39m\u001b[38;5;241m=\u001b[39m len_axis \u001b[38;5;129;01mor\u001b[39;00m key \u001b[38;5;241m<\u001b[39m \u001b[38;5;241m-\u001b[39mlen_axis:\n\u001b[1;32m-> 1685\u001b[0m     \u001b[38;5;28;01mraise\u001b[39;00m \u001b[38;5;167;01mIndexError\u001b[39;00m(\u001b[38;5;124m\"\u001b[39m\u001b[38;5;124msingle positional indexer is out-of-bounds\u001b[39m\u001b[38;5;124m\"\u001b[39m)\n",
      "\u001b[1;31mIndexError\u001b[0m: single positional indexer is out-of-bounds"
     ]
    }
   ],
   "source": [
    "#  Prepare the nodes dynamically from the data\n",
    "nodes = [\"Total Spending\"]  # Start with the top layer\n",
    "network_nodes = data['NETWORK'].unique().tolist()\n",
    "nodes.extend(network_nodes)\n",
    "\n",
    "# Map the network index\n",
    "network_indices = {network: idx + 1 for idx, network in enumerate(network_nodes)}\n",
    "\n",
    "platform_nodes = merged_data[['NETWORK', 'PLATFORM']].drop_duplicates()\n",
    "platform_map = {}\n",
    "\n",
    "for _, row in platform_nodes.iterrows():\n",
    "    key = f\"{row['PLATFORM']} ({row['NETWORK']})\"\n",
    "    nodes.append(key)\n",
    "    platform_map[(row['PLATFORM'], row['NETWORK'])] = len(nodes) - 1\n",
    "\n",
    "region_map = {}\n",
    "region_nodes = merged_data[['NETWORK', 'PLATFORM', 'REGION']].drop_duplicates()\n",
    "for _, row in region_nodes.iterrows():\n",
    "    key = f\"{row['REGION']} ({row['PLATFORM']}-{row['NETWORK']})\"\n",
    "    nodes.append(key)\n",
    "    region_map[(row['REGION'], row['PLATFORM'], row['NETWORK'])] = len(nodes) - 1\n",
    "\n",
    "# Prepare the links\n",
    "sources = []\n",
    "targets = []\n",
    "values = []\n",
    "\n",
    "# Total spending to networks\n",
    "for network in network_nodes:\n",
    "    sources.append(0)  # Total Spending node index\n",
    "    targets.append(network_indices[network])\n",
    "    values.append(merged_data[merged_data['NETWORK'] == network]['Network_Alone_Revenue'].iloc[0])\n",
    "\n",
    "# Networks to platforms\n",
    "for (platform, network), idx in platform_map.items():\n",
    "    sources.append(network_indices[network])\n",
    "    targets.append(idx)\n",
    "    values.append(merged_data[(merged_data['NETWORK'] == network) & (merged_data['PLATFORM'] == platform)]['Platform_Network_Revenue'].iloc[0])\n",
    "\n",
    "# Platforms to regions\n",
    "for (region, platform, network), idx in region_map.items():\n",
    "    sources.append(platform_map[(platform, network)])\n",
    "    targets.append(idx)\n",
    "    values.append(merged_data[(merged_data['NETWORK'] == network) & (merged_data['PLATFORM'] == platform) & (merged_data['REGION'] == region)]['Platform_Network_Region_Revenue'].iloc[0])\n",
    "\n",
    "# Create the organizational-style chart\n",
    "fig = go.Figure(go.Sankey(\n",
    "    node=dict(\n",
    "        pad=20,\n",
    "        thickness=30,\n",
    "        line=dict(color=\"black\", width=0.5),\n",
    "        label=nodes,\n",
    "        color=\"lightblue\"\n",
    "    ),\n",
    "    link=dict(\n",
    "        source=sources,\n",
    "        target=targets,\n",
    "        value=values,\n",
    "        color=\"rgba(0,100,200,0.4)\"  # Transparent link color for consulting style\n",
    "    )\n",
    "))\n",
    "\n",
    "fig.update_layout(\n",
    "    title_text=\"Spending Allocation by Layer (Consulting Style)\",\n",
    "    font_size=14,\n",
    "    title_font_size=18,\n",
    "    height=700,\n",
    "    margin=dict(t=50, l=50, r=50, b=50)\n",
    ")\n",
    "\n",
    "fig.show()"
   ]
  },
  {
   "cell_type": "code",
   "execution_count": null,
   "metadata": {},
   "outputs": [],
   "source": []
  },
  {
   "cell_type": "code",
   "execution_count": 67,
   "metadata": {},
   "outputs": [
    {
     "ename": "NetworkXError",
     "evalue": "all nodes need a subset_key attribute: <function <lambda> at 0x0000016F3EEFE980>",
     "output_type": "error",
     "traceback": [
      "\u001b[1;31m---------------------------------------------------------------------------\u001b[0m",
      "\u001b[1;31mAttributeError\u001b[0m                            Traceback (most recent call last)",
      "File \u001b[1;32mc:\\Users\\Win11\\AppData\\Local\\Programs\\Python\\Python313\\Lib\\site-packages\\networkx\\drawing\\layout.py:1087\u001b[0m, in \u001b[0;36mmultipartite_layout\u001b[1;34m(G, subset_key, align, scale, center)\u001b[0m\n\u001b[0;32m   1085\u001b[0m \u001b[38;5;28;01mtry\u001b[39;00m:\n\u001b[0;32m   1086\u001b[0m     \u001b[38;5;66;03m# check if subset_key is dict-like\u001b[39;00m\n\u001b[1;32m-> 1087\u001b[0m     \u001b[38;5;28;01mif\u001b[39;00m \u001b[38;5;28mlen\u001b[39m(G) \u001b[38;5;241m!=\u001b[39m \u001b[38;5;28msum\u001b[39m(\u001b[38;5;28mlen\u001b[39m(nodes) \u001b[38;5;28;01mfor\u001b[39;00m nodes \u001b[38;5;129;01min\u001b[39;00m \u001b[43msubset_key\u001b[49m\u001b[38;5;241;43m.\u001b[39;49m\u001b[43mvalues\u001b[49m()):\n\u001b[0;32m   1088\u001b[0m         \u001b[38;5;28;01mraise\u001b[39;00m nx\u001b[38;5;241m.\u001b[39mNetworkXError(\n\u001b[0;32m   1089\u001b[0m             \u001b[38;5;124m\"\u001b[39m\u001b[38;5;124mall nodes must be in one subset of `subset_key` dict\u001b[39m\u001b[38;5;124m\"\u001b[39m\n\u001b[0;32m   1090\u001b[0m         )\n",
      "\u001b[1;31mAttributeError\u001b[0m: 'function' object has no attribute 'values'",
      "\nDuring handling of the above exception, another exception occurred:\n",
      "\u001b[1;31mNetworkXError\u001b[0m                             Traceback (most recent call last)",
      "Cell \u001b[1;32mIn[67], line 34\u001b[0m\n\u001b[0;32m     31\u001b[0m     G\u001b[38;5;241m.\u001b[39madd_edge(\u001b[38;5;124mf\u001b[39m\u001b[38;5;124m\"\u001b[39m\u001b[38;5;132;01m{\u001b[39;00mnetwork\u001b[38;5;132;01m}\u001b[39;00m\u001b[38;5;124m-\u001b[39m\u001b[38;5;132;01m{\u001b[39;00mplatform\u001b[38;5;132;01m}\u001b[39;00m\u001b[38;5;124m\"\u001b[39m, \u001b[38;5;124mf\u001b[39m\u001b[38;5;124m\"\u001b[39m\u001b[38;5;132;01m{\u001b[39;00mnetwork\u001b[38;5;132;01m}\u001b[39;00m\u001b[38;5;124m-\u001b[39m\u001b[38;5;132;01m{\u001b[39;00mplatform\u001b[38;5;132;01m}\u001b[39;00m\u001b[38;5;124m-\u001b[39m\u001b[38;5;132;01m{\u001b[39;00mregion\u001b[38;5;132;01m}\u001b[39;00m\u001b[38;5;124m\"\u001b[39m)\n\u001b[0;32m     33\u001b[0m \u001b[38;5;66;03m# Define a hierarchical layout (top-to-bottom)\u001b[39;00m\n\u001b[1;32m---> 34\u001b[0m pos \u001b[38;5;241m=\u001b[39m \u001b[43mnx\u001b[49m\u001b[38;5;241;43m.\u001b[39;49m\u001b[43mmultipartite_layout\u001b[49m\u001b[43m(\u001b[49m\u001b[43mG\u001b[49m\u001b[43m,\u001b[49m\u001b[43m \u001b[49m\u001b[43msubset_key\u001b[49m\u001b[38;5;241;43m=\u001b[39;49m\u001b[38;5;28;43;01mlambda\u001b[39;49;00m\u001b[43m \u001b[49m\u001b[43mn\u001b[49m\u001b[43m:\u001b[49m\u001b[43m \u001b[49m\u001b[38;5;28;43mlen\u001b[39;49m\u001b[43m(\u001b[49m\u001b[43mn\u001b[49m\u001b[38;5;241;43m.\u001b[39;49m\u001b[43msplit\u001b[49m\u001b[43m(\u001b[49m\u001b[38;5;124;43m'\u001b[39;49m\u001b[38;5;124;43m-\u001b[39;49m\u001b[38;5;124;43m'\u001b[39;49m\u001b[43m)\u001b[49m\u001b[43m)\u001b[49m\u001b[43m)\u001b[49m\n\u001b[0;32m     36\u001b[0m \u001b[38;5;66;03m# Plot the graph\u001b[39;00m\n\u001b[0;32m     37\u001b[0m plt\u001b[38;5;241m.\u001b[39mfigure(figsize\u001b[38;5;241m=\u001b[39m(\u001b[38;5;241m14\u001b[39m, \u001b[38;5;241m10\u001b[39m))\n",
      "File \u001b[1;32mc:\\Users\\Win11\\AppData\\Local\\Programs\\Python\\Python313\\Lib\\site-packages\\networkx\\drawing\\layout.py:1095\u001b[0m, in \u001b[0;36mmultipartite_layout\u001b[1;34m(G, subset_key, align, scale, center)\u001b[0m\n\u001b[0;32m   1093\u001b[0m     node_to_subset \u001b[38;5;241m=\u001b[39m nx\u001b[38;5;241m.\u001b[39mget_node_attributes(G, subset_key)\n\u001b[0;32m   1094\u001b[0m     \u001b[38;5;28;01mif\u001b[39;00m \u001b[38;5;28mlen\u001b[39m(node_to_subset) \u001b[38;5;241m!=\u001b[39m \u001b[38;5;28mlen\u001b[39m(G):\n\u001b[1;32m-> 1095\u001b[0m         \u001b[38;5;28;01mraise\u001b[39;00m nx\u001b[38;5;241m.\u001b[39mNetworkXError(\n\u001b[0;32m   1096\u001b[0m             \u001b[38;5;124mf\u001b[39m\u001b[38;5;124m\"\u001b[39m\u001b[38;5;124mall nodes need a subset_key attribute: \u001b[39m\u001b[38;5;132;01m{\u001b[39;00msubset_key\u001b[38;5;132;01m}\u001b[39;00m\u001b[38;5;124m\"\u001b[39m\n\u001b[0;32m   1097\u001b[0m         )\n\u001b[0;32m   1098\u001b[0m     subset_key \u001b[38;5;241m=\u001b[39m nx\u001b[38;5;241m.\u001b[39mutils\u001b[38;5;241m.\u001b[39mgroups(node_to_subset)\n\u001b[0;32m   1100\u001b[0m \u001b[38;5;66;03m# Sort by layer, if possible\u001b[39;00m\n",
      "\u001b[1;31mNetworkXError\u001b[0m: all nodes need a subset_key attribute: <function <lambda> at 0x0000016F3EEFE980>"
     ]
    }
   ],
   "source": [
    "import networkx as nx\n",
    "import matplotlib.pyplot as plt\n",
    "\n",
    "# Example grouped dataset\n",
    "merged_data = [\n",
    "    {'NETWORK': 'Network1', 'PLATFORM': 'Platform1', 'REGION': 'Region1', 'Network_Alone_Revenue': 1000, 'Platform_Network_Revenue': 700, 'Platform_Network_Region_Revenue': 500},\n",
    "    {'NETWORK': 'Network1', 'PLATFORM': 'Platform1', 'REGION': 'Region2', 'Network_Alone_Revenue': 1000, 'Platform_Network_Revenue': 700, 'Platform_Network_Region_Revenue': 200},\n",
    "    {'NETWORK': 'Network1', 'PLATFORM': 'Platform2', 'REGION': 'Region1', 'Network_Alone_Revenue': 1000, 'Platform_Network_Revenue': 300, 'Platform_Network_Region_Revenue': 300},\n",
    "    {'NETWORK': 'Network2', 'PLATFORM': 'Platform1', 'REGION': 'Region1', 'Network_Alone_Revenue': 500, 'Platform_Network_Revenue': 500, 'Platform_Network_Region_Revenue': 500},\n",
    "]\n",
    "\n",
    "# Create a directed graph\n",
    "G = nx.DiGraph()\n",
    "\n",
    "# Add nodes and edges for the hierarchy\n",
    "for row in merged_data:\n",
    "    network = row['NETWORK']\n",
    "    platform = row['PLATFORM']\n",
    "    region = row['REGION']\n",
    "    network_revenue = f\"Total: ${row['Network_Alone_Revenue']:.2f}\"\n",
    "    platform_revenue = f\"${row['Platform_Network_Revenue']:.2f}\"\n",
    "    region_revenue = f\"${row['Platform_Network_Region_Revenue']:.2f}\"\n",
    "\n",
    "    # Add nodes\n",
    "    G.add_node(network, label=f\"{network}\\n{network_revenue}\")\n",
    "    G.add_node(f\"{network}-{platform}\", label=f\"{platform}\\n{platform_revenue}\")\n",
    "    G.add_node(f\"{network}-{platform}-{region}\", label=f\"{region}\\n{region_revenue}\")\n",
    "\n",
    "    # Add edges\n",
    "    G.add_edge(network, f\"{network}-{platform}\")\n",
    "    G.add_edge(f\"{network}-{platform}\", f\"{network}-{platform}-{region}\")\n",
    "\n",
    "# Define a hierarchical layout (top-to-bottom)\n",
    "pos = nx.multipartite_layout(G, subset_key=lambda n: len(n.split('-')))\n",
    "\n",
    "# Plot the graph\n",
    "plt.figure(figsize=(14, 10))\n",
    "nx.draw(\n",
    "    G,\n",
    "    pos,\n",
    "    with_labels=True,\n",
    "    labels=nx.get_node_attributes(G, 'label'),\n",
    "    node_size=3000,\n",
    "    node_color=\"lightblue\",\n",
    "    font_size=10,\n",
    "    font_weight=\"bold\",\n",
    "    arrowsize=15\n",
    ")\n",
    "\n",
    "# Add a title\n",
    "plt.title(\"Spending Allocation Hierarchy (Network → Platform → Region)\", fontsize=16)\n",
    "plt.show()\n"
   ]
  },
  {
   "cell_type": "markdown",
   "metadata": {},
   "source": [
    "# Development of the strategy"
   ]
  },
  {
   "cell_type": "code",
   "execution_count": null,
   "metadata": {},
   "outputs": [],
   "source": []
  },
  {
   "cell_type": "code",
   "execution_count": null,
   "metadata": {},
   "outputs": [],
   "source": []
  },
  {
   "cell_type": "markdown",
   "metadata": {},
   "source": [
    "###"
   ]
  }
 ],
 "metadata": {
  "kernelspec": {
   "display_name": "Python 3",
   "language": "python",
   "name": "python3"
  },
  "language_info": {
   "codemirror_mode": {
    "name": "ipython",
    "version": 3
   },
   "file_extension": ".py",
   "mimetype": "text/x-python",
   "name": "python",
   "nbconvert_exporter": "python",
   "pygments_lexer": "ipython3",
   "version": "3.13.1"
  }
 },
 "nbformat": 4,
 "nbformat_minor": 2
}
